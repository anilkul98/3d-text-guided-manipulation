{
 "cells": [
  {
   "cell_type": "code",
   "execution_count": 1,
   "id": "182369a1",
   "metadata": {},
   "outputs": [
    {
     "name": "stdout",
     "output_type": "stream",
     "text": [
      "using cuda\n"
     ]
    }
   ],
   "source": [
    "%load_ext autoreload\n",
    "%autoreload 2\n",
    "\n",
    "import torch\n",
    "from torch import nn\n",
    "from torch import optim\n",
    "from torch.utils.data import DataLoader\n",
    "import numpy as np\n",
    "\n",
    "if torch.cuda.is_available():\n",
    "    print(\"using cuda\")\n",
    "    "
   ]
  },
  {
   "cell_type": "code",
   "execution_count": 2,
   "id": "0738b836",
   "metadata": {},
   "outputs": [],
   "source": [
    "from data.shapenet import ShapeNetVox\n",
    "\n",
    "# Create a dataset with train split\n",
    "trainset = ShapeNetVox('all')\n",
    "# valset = ShapeNetVox('val')\n"
   ]
  },
  {
   "cell_type": "code",
   "execution_count": 3,
   "id": "b1f36bff",
   "metadata": {},
   "outputs": [
    {
     "name": "stdout",
     "output_type": "stream",
     "text": [
      "Name: 02691156/97c12e6155fdf8ca90baeef8ba5b93e5\n",
      "Voxel Dimensions: (1, 32, 32, 32)\n",
      "Label: 0 | 02691156\n"
     ]
    },
    {
     "data": {
      "application/vnd.jupyter.widget-view+json": {
       "model_id": "c22515ca5075443a98fc55b57316720c",
       "version_major": 2,
       "version_minor": 0
      },
      "text/plain": [
       "Output()"
      ]
     },
     "metadata": {},
     "output_type": "display_data"
    }
   ],
   "source": [
    "from util.visualization import visualize_occupancy\n",
    "\n",
    "shape_data = trainset[2]\n",
    "print(f'Name: {shape_data[\"name\"]}')  # expected output: 04379243/d120d47f8c9bc5028640bc5712201c4a\n",
    "print(f'Voxel Dimensions: {shape_data[\"voxel\"].shape}')  # expected output: (1, 32, 32, 32)\n",
    "print(f'Label: {shape_data[\"label\"]} | {ShapeNetVox.classes[shape_data[\"label\"]]}')  # expected output: 10, 04379243\n",
    "\n",
    "visualize_occupancy(shape_data[\"voxel\"].squeeze(), flip_axes=True)"
   ]
  },
  {
   "cell_type": "code",
   "execution_count": 4,
   "id": "addede5d",
   "metadata": {},
   "outputs": [],
   "source": [
    "from model import _G, _D\n",
    "    \n",
    "device = torch.device(\"cuda\" if torch.cuda.is_available() else \"cpu\")\n",
    "\n",
    "batch_size = 256\n",
    "\n",
    "model_params = {\"cube_len\" : 32,\n",
    "               \"z_size\": 256}\n",
    "\n",
    "train_loader = DataLoader(trainset,  batch_size=batch_size, shuffle=True)\n",
    "# val_loader = DataLoader(valset,  batch_size=batch_size, shuffle=True)\n",
    "\n",
    "G = _G(model_params)\n",
    "D = _D(model_params)\n",
    "\n",
    "G.to(device)\n",
    "D.to(device)\n",
    "\n",
    "D_optim = optim.Adam(D.parameters(), lr=1e-3)\n",
    "G_optim = optim.Adam(G.parameters(), lr=1e-3)\n",
    "\n",
    "loss_fn = nn.BCELoss()\n"
   ]
  },
  {
   "cell_type": "code",
   "execution_count": 5,
   "id": "eae56251",
   "metadata": {
    "scrolled": true
   },
   "outputs": [
    {
     "name": "stdout",
     "output_type": "stream",
     "text": [
      "Epoch: 0, iteration: 0, d_real_acu: 0.15625, d_fake_acu: 0.96484375, d_total_acu: 0.560546875\n",
      "d_real_loss: 0.7483044862747192, d_fake_loss: 0.5993783473968506, g_loss: 3.775512218475342\n"
     ]
    },
    {
     "data": {
      "application/vnd.jupyter.widget-view+json": {
       "model_id": "556803e81e6842cba45f1dd54db76e03",
       "version_major": 2,
       "version_minor": 0
      },
      "text/plain": [
       "Output()"
      ]
     },
     "metadata": {},
     "output_type": "display_data"
    },
    {
     "name": "stdout",
     "output_type": "stream",
     "text": [
      "Epoch: 0, iteration: 4, d_real_acu: 0.9765625, d_fake_acu: 1.0, d_total_acu: 0.98828125\n",
      "d_real_loss: 0.43182891607284546, d_fake_loss: 0.25553983449935913, g_loss: 1.4962002038955688\n"
     ]
    },
    {
     "data": {
      "application/vnd.jupyter.widget-view+json": {
       "model_id": "1dae99789ff34548a64343ff0f7b0482",
       "version_major": 2,
       "version_minor": 0
      },
      "text/plain": [
       "Output()"
      ]
     },
     "metadata": {},
     "output_type": "display_data"
    },
    {
     "name": "stdout",
     "output_type": "stream",
     "text": [
      "Epoch: 0, iteration: 8, d_real_acu: 0.984375, d_fake_acu: 1.0, d_total_acu: 0.9921875\n",
      "d_real_loss: 0.41463953256607056, d_fake_loss: 0.5934953689575195, g_loss: 0.8042757511138916\n"
     ]
    },
    {
     "data": {
      "application/vnd.jupyter.widget-view+json": {
       "model_id": "ee596ba8f70c4601a31bb287353e8499",
       "version_major": 2,
       "version_minor": 0
      },
      "text/plain": [
       "Output()"
      ]
     },
     "metadata": {},
     "output_type": "display_data"
    },
    {
     "name": "stdout",
     "output_type": "stream",
     "text": [
      "Epoch: 0, iteration: 12, d_real_acu: 0.92578125, d_fake_acu: 1.0, d_total_acu: 0.962890625\n",
      "d_real_loss: 0.5549731850624084, d_fake_loss: 0.484715074300766, g_loss: 0.9568314552307129\n"
     ]
    },
    {
     "data": {
      "application/vnd.jupyter.widget-view+json": {
       "model_id": "9ac04586e1014f38a0813bcf0858e88c",
       "version_major": 2,
       "version_minor": 0
      },
      "text/plain": [
       "Output()"
      ]
     },
     "metadata": {},
     "output_type": "display_data"
    },
    {
     "name": "stdout",
     "output_type": "stream",
     "text": [
      "Epoch: 0, iteration: 16, d_real_acu: 0.94140625, d_fake_acu: 0.0, d_total_acu: 0.470703125\n",
      "d_real_loss: 0.5435953140258789, d_fake_loss: 0.7497930526733398, g_loss: 1.232977271080017\n"
     ]
    },
    {
     "data": {
      "application/vnd.jupyter.widget-view+json": {
       "model_id": "1badc2c4beb94c21b51b9a9b1d10f4a5",
       "version_major": 2,
       "version_minor": 0
      },
      "text/plain": [
       "Output()"
      ]
     },
     "metadata": {},
     "output_type": "display_data"
    },
    {
     "name": "stdout",
     "output_type": "stream",
     "text": [
      "Epoch: 0, iteration: 20, d_real_acu: 0.42941176891326904, d_fake_acu: 1.0, d_total_acu: 0.7147058844566345\n",
      "d_real_loss: 0.7808392643928528, d_fake_loss: 0.5100439786911011, g_loss: 0.9174922704696655\n"
     ]
    },
    {
     "data": {
      "application/vnd.jupyter.widget-view+json": {
       "model_id": "ea565e0091614a65996145675dde7b82",
       "version_major": 2,
       "version_minor": 0
      },
      "text/plain": [
       "Output()"
      ]
     },
     "metadata": {},
     "output_type": "display_data"
    },
    {
     "name": "stdout",
     "output_type": "stream",
     "text": [
      "Epoch: 0, d_loss: 1.2031318204743522, g_loss: 1.4215501915840876, dacc: 0.7928691790217445\n",
      "Epoch: 1, iteration: 0, d_real_acu: 0.44921875, d_fake_acu: 1.0, d_total_acu: 0.724609375\n",
      "d_real_loss: 0.7725785970687866, d_fake_loss: 0.5728209018707275, g_loss: 0.8297879695892334\n"
     ]
    },
    {
     "data": {
      "application/vnd.jupyter.widget-view+json": {
       "model_id": "01d21685eccd4a13a9055c5fc238a1b7",
       "version_major": 2,
       "version_minor": 0
      },
      "text/plain": [
       "Output()"
      ]
     },
     "metadata": {},
     "output_type": "display_data"
    },
    {
     "name": "stdout",
     "output_type": "stream",
     "text": [
      "Epoch: 1, iteration: 4, d_real_acu: 0.01171875, d_fake_acu: 1.0, d_total_acu: 0.505859375\n",
      "d_real_loss: 0.9467527270317078, d_fake_loss: 0.23166300356388092, g_loss: 1.634213924407959\n"
     ]
    },
    {
     "data": {
      "application/vnd.jupyter.widget-view+json": {
       "model_id": "966610bbdc3b4ecbb61aee1f072e0aee",
       "version_major": 2,
       "version_minor": 0
      },
      "text/plain": [
       "Output()"
      ]
     },
     "metadata": {},
     "output_type": "display_data"
    },
    {
     "name": "stdout",
     "output_type": "stream",
     "text": [
      "Epoch: 1, iteration: 8, d_real_acu: 0.52734375, d_fake_acu: 1.0, d_total_acu: 0.763671875\n",
      "d_real_loss: 0.7005947232246399, d_fake_loss: 0.2761023938655853, g_loss: 1.4216749668121338\n"
     ]
    },
    {
     "data": {
      "application/vnd.jupyter.widget-view+json": {
       "model_id": "706c3e3f16e74b9688cd34e156e19a0c",
       "version_major": 2,
       "version_minor": 0
      },
      "text/plain": [
       "Output()"
      ]
     },
     "metadata": {},
     "output_type": "display_data"
    },
    {
     "name": "stdout",
     "output_type": "stream",
     "text": [
      "Epoch: 1, iteration: 12, d_real_acu: 0.49609375, d_fake_acu: 1.0, d_total_acu: 0.748046875\n",
      "d_real_loss: 0.7009321451187134, d_fake_loss: 0.38238948583602905, g_loss: 1.1463677883148193\n"
     ]
    },
    {
     "data": {
      "application/vnd.jupyter.widget-view+json": {
       "model_id": "ddae1d9c796e4507b2651b365a9d016c",
       "version_major": 2,
       "version_minor": 0
      },
      "text/plain": [
       "Output()"
      ]
     },
     "metadata": {},
     "output_type": "display_data"
    },
    {
     "name": "stdout",
     "output_type": "stream",
     "text": [
      "Epoch: 1, iteration: 16, d_real_acu: 0.53125, d_fake_acu: 1.0, d_total_acu: 0.765625\n",
      "d_real_loss: 0.7040877342224121, d_fake_loss: 0.5673620104789734, g_loss: 0.837054431438446\n"
     ]
    },
    {
     "data": {
      "application/vnd.jupyter.widget-view+json": {
       "model_id": "8165e33887f240e09e1f20858e162193",
       "version_major": 2,
       "version_minor": 0
      },
      "text/plain": [
       "Output()"
      ]
     },
     "metadata": {},
     "output_type": "display_data"
    },
    {
     "name": "stdout",
     "output_type": "stream",
     "text": [
      "Epoch: 1, iteration: 20, d_real_acu: 0.9705882668495178, d_fake_acu: 1.0, d_total_acu: 0.9852941632270813\n",
      "d_real_loss: 0.5033469200134277, d_fake_loss: 0.5779495239257812, g_loss: 0.8226236701011658\n"
     ]
    },
    {
     "data": {
      "application/vnd.jupyter.widget-view+json": {
       "model_id": "d657c22b816e45c997436a8110c66afd",
       "version_major": 2,
       "version_minor": 0
      },
      "text/plain": [
       "Output()"
      ]
     },
     "metadata": {},
     "output_type": "display_data"
    },
    {
     "name": "stdout",
     "output_type": "stream",
     "text": [
      "Epoch: 1, d_loss: 1.170533781959897, g_loss: 1.1546580564408075, dacc: 0.6833585018203372\n",
      "Epoch: 2, iteration: 0, d_real_acu: 0.984375, d_fake_acu: 1.0, d_total_acu: 0.9921875\n",
      "d_real_loss: 0.5069929361343384, d_fake_loss: 0.6435990333557129, g_loss: 0.7452874183654785\n"
     ]
    },
    {
     "data": {
      "application/vnd.jupyter.widget-view+json": {
       "model_id": "e4be32fc5d974bb2aacd27e31b5aa8a3",
       "version_major": 2,
       "version_minor": 0
      },
      "text/plain": [
       "Output()"
      ]
     },
     "metadata": {},
     "output_type": "display_data"
    },
    {
     "name": "stdout",
     "output_type": "stream",
     "text": [
      "Epoch: 2, iteration: 4, d_real_acu: 0.96484375, d_fake_acu: 1.0, d_total_acu: 0.982421875\n",
      "d_real_loss: 0.5278905034065247, d_fake_loss: 0.5921033620834351, g_loss: 0.8054231405258179\n"
     ]
    },
    {
     "data": {
      "application/vnd.jupyter.widget-view+json": {
       "model_id": "ce395dac6a914425a4907efeed794347",
       "version_major": 2,
       "version_minor": 0
      },
      "text/plain": [
       "Output()"
      ]
     },
     "metadata": {},
     "output_type": "display_data"
    },
    {
     "name": "stdout",
     "output_type": "stream",
     "text": [
      "Epoch: 2, iteration: 8, d_real_acu: 0.53125, d_fake_acu: 1.0, d_total_acu: 0.765625\n",
      "d_real_loss: 0.6396281719207764, d_fake_loss: 0.47247314453125, g_loss: 0.9769782423973083\n"
     ]
    },
    {
     "data": {
      "application/vnd.jupyter.widget-view+json": {
       "model_id": "4baf57f24ca64719be37dc2400410a4c",
       "version_major": 2,
       "version_minor": 0
      },
      "text/plain": [
       "Output()"
      ]
     },
     "metadata": {},
     "output_type": "display_data"
    },
    {
     "name": "stdout",
     "output_type": "stream",
     "text": [
      "Epoch: 2, iteration: 12, d_real_acu: 0.40234375, d_fake_acu: 1.0, d_total_acu: 0.701171875\n",
      "d_real_loss: 0.8559936285018921, d_fake_loss: 0.35169315338134766, g_loss: 1.2159364223480225\n"
     ]
    },
    {
     "data": {
      "application/vnd.jupyter.widget-view+json": {
       "model_id": "06da223d01d44eae9d19eaff0f900f42",
       "version_major": 2,
       "version_minor": 0
      },
      "text/plain": [
       "Output()"
      ]
     },
     "metadata": {},
     "output_type": "display_data"
    },
    {
     "name": "stdout",
     "output_type": "stream",
     "text": [
      "Epoch: 2, iteration: 16, d_real_acu: 0.4140625, d_fake_acu: 1.0, d_total_acu: 0.70703125\n",
      "d_real_loss: 0.8761646151542664, d_fake_loss: 0.6488965749740601, g_loss: 0.7394953966140747\n"
     ]
    },
    {
     "data": {
      "application/vnd.jupyter.widget-view+json": {
       "model_id": "edc85b862ef74aeb9ec6fa01f7e489a6",
       "version_major": 2,
       "version_minor": 0
      },
      "text/plain": [
       "Output()"
      ]
     },
     "metadata": {},
     "output_type": "display_data"
    },
    {
     "name": "stdout",
     "output_type": "stream",
     "text": [
      "Epoch: 2, iteration: 20, d_real_acu: 0.4647058844566345, d_fake_acu: 1.0, d_total_acu: 0.7323529720306396\n",
      "d_real_loss: 0.9665611982345581, d_fake_loss: 0.36177682876586914, g_loss: 1.1919714212417603\n"
     ]
    },
    {
     "data": {
      "application/vnd.jupyter.widget-view+json": {
       "model_id": "ceb3bdc2f3e34b0caacfc740d86f4b1a",
       "version_major": 2,
       "version_minor": 0
      },
      "text/plain": [
       "Output()"
      ]
     },
     "metadata": {},
     "output_type": "display_data"
    },
    {
     "name": "stdout",
     "output_type": "stream",
     "text": [
      "Epoch: 2, d_loss: 1.255199710528056, g_loss: 1.0282393495241802, dacc: 0.7151194867633638\n",
      "Epoch: 3, iteration: 0, d_real_acu: 0.3984375, d_fake_acu: 1.0, d_total_acu: 0.69921875\n",
      "d_real_loss: 1.0246516466140747, d_fake_loss: 0.4122086465358734, g_loss: 1.0848788022994995\n"
     ]
    },
    {
     "data": {
      "application/vnd.jupyter.widget-view+json": {
       "model_id": "0e46712901bf4db9a9c5fc2767c215a5",
       "version_major": 2,
       "version_minor": 0
      },
      "text/plain": [
       "Output()"
      ]
     },
     "metadata": {},
     "output_type": "display_data"
    },
    {
     "name": "stdout",
     "output_type": "stream",
     "text": [
      "Epoch: 3, iteration: 4, d_real_acu: 0.3203125, d_fake_acu: 1.0, d_total_acu: 0.66015625\n",
      "d_real_loss: 1.1430331468582153, d_fake_loss: 0.2598333954811096, g_loss: 1.475264310836792\n"
     ]
    },
    {
     "data": {
      "application/vnd.jupyter.widget-view+json": {
       "model_id": "1f50881f65504f949988c70de792219a",
       "version_major": 2,
       "version_minor": 0
      },
      "text/plain": [
       "Output()"
      ]
     },
     "metadata": {},
     "output_type": "display_data"
    },
    {
     "name": "stdout",
     "output_type": "stream",
     "text": [
      "Epoch: 3, iteration: 8, d_real_acu: 0.3828125, d_fake_acu: 1.0, d_total_acu: 0.69140625\n",
      "d_real_loss: 1.0973269939422607, d_fake_loss: 0.4227891266345978, g_loss: 1.0647952556610107\n"
     ]
    },
    {
     "data": {
      "application/vnd.jupyter.widget-view+json": {
       "model_id": "ed13c9879a934963a422649718c40460",
       "version_major": 2,
       "version_minor": 0
      },
      "text/plain": [
       "Output()"
      ]
     },
     "metadata": {},
     "output_type": "display_data"
    },
    {
     "name": "stdout",
     "output_type": "stream",
     "text": [
      "Epoch: 3, iteration: 12, d_real_acu: 0.25, d_fake_acu: 1.0, d_total_acu: 0.625\n",
      "d_real_loss: 1.150481939315796, d_fake_loss: 0.34465572237968445, g_loss: 1.2324347496032715\n"
     ]
    },
    {
     "data": {
      "application/vnd.jupyter.widget-view+json": {
       "model_id": "c0540b5c86a84303b0c420efd6803a01",
       "version_major": 2,
       "version_minor": 0
      },
      "text/plain": [
       "Output()"
      ]
     },
     "metadata": {},
     "output_type": "display_data"
    },
    {
     "name": "stdout",
     "output_type": "stream",
     "text": [
      "Epoch: 3, iteration: 16, d_real_acu: 0.14453125, d_fake_acu: 1.0, d_total_acu: 0.572265625\n",
      "d_real_loss: 1.0801119804382324, d_fake_loss: 0.21875199675559998, g_loss: 2.148988723754883\n"
     ]
    },
    {
     "data": {
      "application/vnd.jupyter.widget-view+json": {
       "model_id": "d5fd49cb79c942828fd45259e7eac69b",
       "version_major": 2,
       "version_minor": 0
      },
      "text/plain": [
       "Output()"
      ]
     },
     "metadata": {},
     "output_type": "display_data"
    },
    {
     "name": "stdout",
     "output_type": "stream",
     "text": [
      "Epoch: 3, iteration: 20, d_real_acu: 0.8470588326454163, d_fake_acu: 1.0, d_total_acu: 0.9235294461250305\n",
      "d_real_loss: 0.6632104516029358, d_fake_loss: 0.3656771779060364, g_loss: 1.1836320161819458\n"
     ]
    },
    {
     "data": {
      "application/vnd.jupyter.widget-view+json": {
       "model_id": "6cd8d3d0fa204279950441b8b4804abc",
       "version_major": 2,
       "version_minor": 0
      },
      "text/plain": [
       "Output()"
      ]
     },
     "metadata": {},
     "output_type": "display_data"
    },
    {
     "name": "stdout",
     "output_type": "stream",
     "text": [
      "Epoch: 3, d_loss: 1.4647223552068074, g_loss: 1.2918818933623177, dacc: 0.6314031879107157\n",
      "Epoch: 4, iteration: 0, d_real_acu: 0.76953125, d_fake_acu: 1.0, d_total_acu: 0.884765625\n",
      "d_real_loss: 0.6659471392631531, d_fake_loss: 0.4256269931793213, g_loss: 1.0595269203186035\n"
     ]
    },
    {
     "data": {
      "application/vnd.jupyter.widget-view+json": {
       "model_id": "40198ac995a14485be5ee6b280f429ce",
       "version_major": 2,
       "version_minor": 0
      },
      "text/plain": [
       "Output()"
      ]
     },
     "metadata": {},
     "output_type": "display_data"
    },
    {
     "name": "stdout",
     "output_type": "stream",
     "text": [
      "Epoch: 4, iteration: 4, d_real_acu: 0.79296875, d_fake_acu: 1.0, d_total_acu: 0.896484375\n",
      "d_real_loss: 0.6643993854522705, d_fake_loss: 0.5393853783607483, g_loss: 0.8749206066131592\n"
     ]
    },
    {
     "data": {
      "application/vnd.jupyter.widget-view+json": {
       "model_id": "918f88b6c0ac4c64a26f6f8d859d7bc6",
       "version_major": 2,
       "version_minor": 0
      },
      "text/plain": [
       "Output()"
      ]
     },
     "metadata": {},
     "output_type": "display_data"
    },
    {
     "name": "stdout",
     "output_type": "stream",
     "text": [
      "Epoch: 4, iteration: 8, d_real_acu: 0.8125, d_fake_acu: 1.0, d_total_acu: 0.90625\n",
      "d_real_loss: 0.6609141826629639, d_fake_loss: 0.584438145160675, g_loss: 0.8150917887687683\n"
     ]
    },
    {
     "data": {
      "application/vnd.jupyter.widget-view+json": {
       "model_id": "fa6a6ce2e3144d9090ab1ac301d5759b",
       "version_major": 2,
       "version_minor": 0
      },
      "text/plain": [
       "Output()"
      ]
     },
     "metadata": {},
     "output_type": "display_data"
    },
    {
     "name": "stdout",
     "output_type": "stream",
     "text": [
      "Epoch: 4, iteration: 12, d_real_acu: 0.7578125, d_fake_acu: 1.0, d_total_acu: 0.87890625\n",
      "d_real_loss: 0.6671201586723328, d_fake_loss: 0.6211156845092773, g_loss: 0.7708123922348022\n"
     ]
    },
    {
     "data": {
      "application/vnd.jupyter.widget-view+json": {
       "model_id": "faac17e4e9c2468a81966497a329ce67",
       "version_major": 2,
       "version_minor": 0
      },
      "text/plain": [
       "Output()"
      ]
     },
     "metadata": {},
     "output_type": "display_data"
    },
    {
     "name": "stdout",
     "output_type": "stream",
     "text": [
      "Epoch: 4, iteration: 16, d_real_acu: 0.7890625, d_fake_acu: 1.0, d_total_acu: 0.89453125\n",
      "d_real_loss: 0.6649429798126221, d_fake_loss: 0.6553525328636169, g_loss: 0.7328177690505981\n"
     ]
    },
    {
     "data": {
      "application/vnd.jupyter.widget-view+json": {
       "model_id": "2e709640e934406e8e57b9a90adf5e11",
       "version_major": 2,
       "version_minor": 0
      },
      "text/plain": [
       "Output()"
      ]
     },
     "metadata": {},
     "output_type": "display_data"
    },
    {
     "name": "stdout",
     "output_type": "stream",
     "text": [
      "Epoch: 4, iteration: 20, d_real_acu: 0.8235294222831726, d_fake_acu: 0.5588235259056091, d_total_acu: 0.6911764740943909\n",
      "d_real_loss: 0.6572221517562866, d_fake_loss: 0.6920945048332214, g_loss: 0.6945810914039612\n"
     ]
    },
    {
     "data": {
      "application/vnd.jupyter.widget-view+json": {
       "model_id": "a7e37dacb6f54a95af9c5446496c4922",
       "version_major": 2,
       "version_minor": 0
      },
      "text/plain": [
       "Output()"
      ]
     },
     "metadata": {},
     "output_type": "display_data"
    },
    {
     "name": "stdout",
     "output_type": "stream",
     "text": [
      "Epoch: 4, d_loss: 1.255676928020659, g_loss: 0.812359352906545, dacc: 0.8913581059092567\n",
      "Epoch: 5, iteration: 0, d_real_acu: 0.8046875, d_fake_acu: 0.00390625, d_total_acu: 0.404296875\n",
      "d_real_loss: 0.6653259992599487, d_fake_loss: 0.7012394666671753, g_loss: 0.5775619745254517\n"
     ]
    },
    {
     "data": {
      "application/vnd.jupyter.widget-view+json": {
       "model_id": "7378460d290c481fa3ce3f43b110d8a0",
       "version_major": 2,
       "version_minor": 0
      },
      "text/plain": [
       "Output()"
      ]
     },
     "metadata": {},
     "output_type": "display_data"
    },
    {
     "name": "stdout",
     "output_type": "stream",
     "text": [
      "Epoch: 5, iteration: 4, d_real_acu: 0.9609375, d_fake_acu: 1.0, d_total_acu: 0.98046875\n",
      "d_real_loss: 0.4907623529434204, d_fake_loss: 0.5467245578765869, g_loss: 0.8650411367416382\n"
     ]
    },
    {
     "data": {
      "application/vnd.jupyter.widget-view+json": {
       "model_id": "65c3860bebe24c1987dc9179189d661f",
       "version_major": 2,
       "version_minor": 0
      },
      "text/plain": [
       "Output()"
      ]
     },
     "metadata": {},
     "output_type": "display_data"
    },
    {
     "name": "stdout",
     "output_type": "stream",
     "text": [
      "Epoch: 5, iteration: 8, d_real_acu: 0.95703125, d_fake_acu: 1.0, d_total_acu: 0.978515625\n",
      "d_real_loss: 0.4935234785079956, d_fake_loss: 0.6329014301300049, g_loss: 0.7568762898445129\n"
     ]
    },
    {
     "data": {
      "application/vnd.jupyter.widget-view+json": {
       "model_id": "19d70670f9724904b01fdf9a35eb72e4",
       "version_major": 2,
       "version_minor": 0
      },
      "text/plain": [
       "Output()"
      ]
     },
     "metadata": {},
     "output_type": "display_data"
    },
    {
     "name": "stdout",
     "output_type": "stream",
     "text": [
      "Epoch: 5, iteration: 12, d_real_acu: 0.83984375, d_fake_acu: 1.0, d_total_acu: 0.919921875\n",
      "d_real_loss: 0.5484554767608643, d_fake_loss: 0.5426772832870483, g_loss: 0.8698301315307617\n"
     ]
    },
    {
     "data": {
      "application/vnd.jupyter.widget-view+json": {
       "model_id": "9d40b838c17b4ff1b096b731059bd3b9",
       "version_major": 2,
       "version_minor": 0
      },
      "text/plain": [
       "Output()"
      ]
     },
     "metadata": {},
     "output_type": "display_data"
    },
    {
     "name": "stdout",
     "output_type": "stream",
     "text": [
      "Epoch: 5, iteration: 16, d_real_acu: 0.76953125, d_fake_acu: 0.7421875, d_total_acu: 0.755859375\n",
      "d_real_loss: 0.5573154091835022, d_fake_loss: 0.6760209202766418, g_loss: 0.7118233442306519\n"
     ]
    },
    {
     "data": {
      "application/vnd.jupyter.widget-view+json": {
       "model_id": "0cc0a24aa3674c56af58f4c201e986cb",
       "version_major": 2,
       "version_minor": 0
      },
      "text/plain": [
       "Output()"
      ]
     },
     "metadata": {},
     "output_type": "display_data"
    },
    {
     "name": "stdout",
     "output_type": "stream",
     "text": [
      "Epoch: 5, iteration: 20, d_real_acu: 0.5470588207244873, d_fake_acu: 1.0, d_total_acu: 0.7735294103622437\n",
      "d_real_loss: 0.623186469078064, d_fake_loss: 0.5870974659919739, g_loss: 0.8126589059829712\n"
     ]
    },
    {
     "data": {
      "application/vnd.jupyter.widget-view+json": {
       "model_id": "b1ab8182472242328d02c7c47191376e",
       "version_major": 2,
       "version_minor": 0
      },
      "text/plain": [
       "Output()"
      ]
     },
     "metadata": {},
     "output_type": "display_data"
    },
    {
     "name": "stdout",
     "output_type": "stream",
     "text": [
      "Epoch: 5, d_loss: 1.1819353387469338, g_loss: 0.7916380280540103, dacc: 0.776046043350583\n",
      "Epoch: 6, iteration: 0, d_real_acu: 0.546875, d_fake_acu: 0.93359375, d_total_acu: 0.740234375\n",
      "d_real_loss: 0.6333487033843994, d_fake_loss: 0.6287746429443359, g_loss: 0.769402027130127\n"
     ]
    },
    {
     "data": {
      "application/vnd.jupyter.widget-view+json": {
       "model_id": "6c08e7f6cc9d49d7a33ca45a4925d37d",
       "version_major": 2,
       "version_minor": 0
      },
      "text/plain": [
       "Output()"
      ]
     },
     "metadata": {},
     "output_type": "display_data"
    },
    {
     "name": "stdout",
     "output_type": "stream",
     "text": [
      "Epoch: 6, iteration: 4, d_real_acu: 0.375, d_fake_acu: 1.0, d_total_acu: 0.6875\n",
      "d_real_loss: 0.7234979271888733, d_fake_loss: 0.5548979043960571, g_loss: 0.8525042533874512\n"
     ]
    },
    {
     "data": {
      "application/vnd.jupyter.widget-view+json": {
       "model_id": "bfc37222e06947c3859a495ad2be8ac8",
       "version_major": 2,
       "version_minor": 0
      },
      "text/plain": [
       "Output()"
      ]
     },
     "metadata": {},
     "output_type": "display_data"
    },
    {
     "name": "stdout",
     "output_type": "stream",
     "text": [
      "Epoch: 6, iteration: 8, d_real_acu: 0.03125, d_fake_acu: 1.0, d_total_acu: 0.515625\n",
      "d_real_loss: 0.795539140701294, d_fake_loss: 0.52261883020401, g_loss: 1.1127276420593262\n"
     ]
    },
    {
     "data": {
      "application/vnd.jupyter.widget-view+json": {
       "model_id": "8087dcc039984304a53a9c1db55ec043",
       "version_major": 2,
       "version_minor": 0
      },
      "text/plain": [
       "Output()"
      ]
     },
     "metadata": {},
     "output_type": "display_data"
    },
    {
     "name": "stdout",
     "output_type": "stream",
     "text": [
      "Epoch: 6, iteration: 12, d_real_acu: 0.41015625, d_fake_acu: 1.0, d_total_acu: 0.705078125\n",
      "d_real_loss: 0.7680689692497253, d_fake_loss: 0.49390965700149536, g_loss: 0.9483380913734436\n"
     ]
    },
    {
     "data": {
      "application/vnd.jupyter.widget-view+json": {
       "model_id": "1a69d738225a4ab0aecebc8af7db9eea",
       "version_major": 2,
       "version_minor": 0
      },
      "text/plain": [
       "Output()"
      ]
     },
     "metadata": {},
     "output_type": "display_data"
    },
    {
     "name": "stdout",
     "output_type": "stream",
     "text": [
      "Epoch: 6, iteration: 16, d_real_acu: 0.37109375, d_fake_acu: 0.6484375, d_total_acu: 0.509765625\n",
      "d_real_loss: 0.7853744029998779, d_fake_loss: 0.6583174467086792, g_loss: 0.7504758238792419\n"
     ]
    },
    {
     "data": {
      "application/vnd.jupyter.widget-view+json": {
       "model_id": "b85a154eb15645d483c65fdd445e49a9",
       "version_major": 2,
       "version_minor": 0
      },
      "text/plain": [
       "Output()"
      ]
     },
     "metadata": {},
     "output_type": "display_data"
    },
    {
     "name": "stdout",
     "output_type": "stream",
     "text": [
      "Epoch: 6, iteration: 20, d_real_acu: 0.888235330581665, d_fake_acu: 0.3294117748737335, d_total_acu: 0.6088235378265381\n",
      "d_real_loss: 0.5405319929122925, d_fake_loss: 0.8856227397918701, g_loss: 0.5612242221832275\n"
     ]
    },
    {
     "data": {
      "application/vnd.jupyter.widget-view+json": {
       "model_id": "ef2d7e6a0f854355bb347f650a83e75a",
       "version_major": 2,
       "version_minor": 0
      },
      "text/plain": [
       "Output()"
      ]
     },
     "metadata": {},
     "output_type": "display_data"
    },
    {
     "name": "stdout",
     "output_type": "stream",
     "text": [
      "Epoch: 6, d_loss: 1.3161260400499617, g_loss: 0.8640233704021999, dacc: 0.6289729958488828\n",
      "Epoch: 7, iteration: 0, d_real_acu: 0.89453125, d_fake_acu: 0.2421875, d_total_acu: 0.568359375\n",
      "d_real_loss: 0.5344769954681396, d_fake_loss: 1.0178391933441162, g_loss: 0.5783801078796387\n"
     ]
    },
    {
     "data": {
      "application/vnd.jupyter.widget-view+json": {
       "model_id": "1c6063f773a14c5a85f5ba84890792f5",
       "version_major": 2,
       "version_minor": 0
      },
      "text/plain": [
       "Output()"
      ]
     },
     "metadata": {},
     "output_type": "display_data"
    },
    {
     "name": "stdout",
     "output_type": "stream",
     "text": [
      "Epoch: 7, iteration: 4, d_real_acu: 0.46875, d_fake_acu: 0.8984375, d_total_acu: 0.68359375\n",
      "d_real_loss: 0.7089460492134094, d_fake_loss: 0.6035913228988647, g_loss: 0.7849241495132446\n"
     ]
    },
    {
     "data": {
      "application/vnd.jupyter.widget-view+json": {
       "model_id": "428ab088c48b45b6ac65d87d512d74a6",
       "version_major": 2,
       "version_minor": 0
      },
      "text/plain": [
       "Output()"
      ]
     },
     "metadata": {},
     "output_type": "display_data"
    },
    {
     "name": "stdout",
     "output_type": "stream",
     "text": [
      "Epoch: 7, iteration: 8, d_real_acu: 0.40625, d_fake_acu: 0.25, d_total_acu: 0.328125\n",
      "d_real_loss: 0.9166688919067383, d_fake_loss: 0.707477331161499, g_loss: 1.1039490699768066\n"
     ]
    },
    {
     "data": {
      "application/vnd.jupyter.widget-view+json": {
       "model_id": "ce209f3ad36a43d9857909db4483dc9f",
       "version_major": 2,
       "version_minor": 0
      },
      "text/plain": [
       "Output()"
      ]
     },
     "metadata": {},
     "output_type": "display_data"
    },
    {
     "name": "stdout",
     "output_type": "stream",
     "text": [
      "Epoch: 7, iteration: 12, d_real_acu: 0.3984375, d_fake_acu: 1.0, d_total_acu: 0.69921875\n",
      "d_real_loss: 0.8510533571243286, d_fake_loss: 0.5501483678817749, g_loss: 0.8626734018325806\n"
     ]
    },
    {
     "data": {
      "application/vnd.jupyter.widget-view+json": {
       "model_id": "0cd4a55a921846808a5974eb65119158",
       "version_major": 2,
       "version_minor": 0
      },
      "text/plain": [
       "Output()"
      ]
     },
     "metadata": {},
     "output_type": "display_data"
    },
    {
     "name": "stdout",
     "output_type": "stream",
     "text": [
      "Epoch: 7, iteration: 16, d_real_acu: 0.3828125, d_fake_acu: 0.62890625, d_total_acu: 0.505859375\n",
      "d_real_loss: 0.7679873704910278, d_fake_loss: 0.6655286550521851, g_loss: 1.0437541007995605\n"
     ]
    },
    {
     "data": {
      "application/vnd.jupyter.widget-view+json": {
       "model_id": "b327a09648e74ba2aa7c2f6f41a00a63",
       "version_major": 2,
       "version_minor": 0
      },
      "text/plain": [
       "Output()"
      ]
     },
     "metadata": {},
     "output_type": "display_data"
    },
    {
     "name": "stdout",
     "output_type": "stream",
     "text": [
      "Epoch: 7, iteration: 20, d_real_acu: 0.800000011920929, d_fake_acu: 0.8647059202194214, d_total_acu: 0.8323529362678528\n",
      "d_real_loss: 0.6271933317184448, d_fake_loss: 0.5714502930641174, g_loss: 0.8243353366851807\n"
     ]
    },
    {
     "data": {
      "application/vnd.jupyter.widget-view+json": {
       "model_id": "7288e5629b724a7891f986d7073db15d",
       "version_major": 2,
       "version_minor": 0
      },
      "text/plain": [
       "Output()"
      ]
     },
     "metadata": {},
     "output_type": "display_data"
    },
    {
     "name": "stdout",
     "output_type": "stream",
     "text": [
      "Epoch: 7, d_loss: 1.4322621992656164, g_loss: 0.8972827309653872, dacc: 0.5771172529175168\n",
      "Epoch: 8, iteration: 0, d_real_acu: 0.7265625, d_fake_acu: 0.390625, d_total_acu: 0.55859375\n",
      "d_real_loss: 0.6544966697692871, d_fake_loss: 0.7178536653518677, g_loss: 1.0510330200195312\n"
     ]
    },
    {
     "data": {
      "application/vnd.jupyter.widget-view+json": {
       "model_id": "5e94a3b9308a4b278d440819089da307",
       "version_major": 2,
       "version_minor": 0
      },
      "text/plain": [
       "Output()"
      ]
     },
     "metadata": {},
     "output_type": "display_data"
    },
    {
     "name": "stdout",
     "output_type": "stream",
     "text": [
      "Epoch: 8, iteration: 4, d_real_acu: 0.66015625, d_fake_acu: 0.97265625, d_total_acu: 0.81640625\n",
      "d_real_loss: 0.641817569732666, d_fake_loss: 0.5972625613212585, g_loss: 0.82183837890625\n"
     ]
    },
    {
     "data": {
      "application/vnd.jupyter.widget-view+json": {
       "model_id": "cbbe81203d8d4e93ac569a5672918de1",
       "version_major": 2,
       "version_minor": 0
      },
      "text/plain": [
       "Output()"
      ]
     },
     "metadata": {},
     "output_type": "display_data"
    },
    {
     "name": "stdout",
     "output_type": "stream",
     "text": [
      "Epoch: 8, iteration: 8, d_real_acu: 0.46875, d_fake_acu: 0.296875, d_total_acu: 0.3828125\n",
      "d_real_loss: 0.7059686183929443, d_fake_loss: 0.7588369846343994, g_loss: 0.9608908295631409\n"
     ]
    },
    {
     "data": {
      "application/vnd.jupyter.widget-view+json": {
       "model_id": "6be7ebeafd504c91bac81827800f6a7a",
       "version_major": 2,
       "version_minor": 0
      },
      "text/plain": [
       "Output()"
      ]
     },
     "metadata": {},
     "output_type": "display_data"
    },
    {
     "name": "stdout",
     "output_type": "stream",
     "text": [
      "Epoch: 8, iteration: 12, d_real_acu: 0.4453125, d_fake_acu: 0.97265625, d_total_acu: 0.708984375\n",
      "d_real_loss: 0.7716443538665771, d_fake_loss: 0.5677173733711243, g_loss: 0.8379896283149719\n"
     ]
    },
    {
     "data": {
      "application/vnd.jupyter.widget-view+json": {
       "model_id": "8a1b1569090a497a96a7750f680a0836",
       "version_major": 2,
       "version_minor": 0
      },
      "text/plain": [
       "Output()"
      ]
     },
     "metadata": {},
     "output_type": "display_data"
    },
    {
     "name": "stdout",
     "output_type": "stream",
     "text": [
      "Epoch: 8, iteration: 16, d_real_acu: 0.40625, d_fake_acu: 0.84765625, d_total_acu: 0.626953125\n",
      "d_real_loss: 0.8023030757904053, d_fake_loss: 0.6517540216445923, g_loss: 0.7239382266998291\n"
     ]
    },
    {
     "data": {
      "application/vnd.jupyter.widget-view+json": {
       "model_id": "6c7850ad2d26487f8d675e7ab2bbf96d",
       "version_major": 2,
       "version_minor": 0
      },
      "text/plain": [
       "Output()"
      ]
     },
     "metadata": {},
     "output_type": "display_data"
    },
    {
     "name": "stdout",
     "output_type": "stream",
     "text": [
      "Epoch: 8, iteration: 20, d_real_acu: 0.44117647409439087, d_fake_acu: 0.0058823530562222, d_total_acu: 0.2235294133424759\n",
      "d_real_loss: 0.7167128920555115, d_fake_loss: 0.9668304920196533, g_loss: 1.0296907424926758\n"
     ]
    },
    {
     "data": {
      "application/vnd.jupyter.widget-view+json": {
       "model_id": "0a8eaabd7fd34b828b74870d1dc3bf3b",
       "version_major": 2,
       "version_minor": 0
      },
      "text/plain": [
       "Output()"
      ]
     },
     "metadata": {},
     "output_type": "display_data"
    },
    {
     "name": "stdout",
     "output_type": "stream",
     "text": [
      "Epoch: 8, d_loss: 1.3715603294826688, g_loss: 0.9404640822183519, dacc: 0.5907223827782131\n",
      "Epoch: 9, iteration: 0, d_real_acu: 0.43359375, d_fake_acu: 0.01953125, d_total_acu: 0.2265625\n",
      "d_real_loss: 0.7264565229415894, d_fake_loss: 0.9801234006881714, g_loss: 1.1448204517364502\n"
     ]
    },
    {
     "data": {
      "application/vnd.jupyter.widget-view+json": {
       "model_id": "2468ba6c54e5481ca2a948372ae14a3c",
       "version_major": 2,
       "version_minor": 0
      },
      "text/plain": [
       "Output()"
      ]
     },
     "metadata": {},
     "output_type": "display_data"
    },
    {
     "name": "stdout",
     "output_type": "stream",
     "text": [
      "Epoch: 9, iteration: 4, d_real_acu: 0.42578125, d_fake_acu: 1.0, d_total_acu: 0.712890625\n",
      "d_real_loss: 0.82222580909729, d_fake_loss: 0.4880422055721283, g_loss: 0.9318027496337891\n"
     ]
    },
    {
     "data": {
      "application/vnd.jupyter.widget-view+json": {
       "model_id": "2d49cff362104cec970cdb0b370cc1fe",
       "version_major": 2,
       "version_minor": 0
      },
      "text/plain": [
       "Output()"
      ]
     },
     "metadata": {},
     "output_type": "display_data"
    },
    {
     "name": "stdout",
     "output_type": "stream",
     "text": [
      "Epoch: 9, iteration: 8, d_real_acu: 0.46484375, d_fake_acu: 0.7734375, d_total_acu: 0.619140625\n",
      "d_real_loss: 0.7499411106109619, d_fake_loss: 0.6438338756561279, g_loss: 0.7509455680847168\n"
     ]
    },
    {
     "data": {
      "application/vnd.jupyter.widget-view+json": {
       "model_id": "4344b28340b84f1aa02b18b758bd3130",
       "version_major": 2,
       "version_minor": 0
      },
      "text/plain": [
       "Output()"
      ]
     },
     "metadata": {},
     "output_type": "display_data"
    },
    {
     "name": "stdout",
     "output_type": "stream",
     "text": [
      "Epoch: 9, iteration: 12, d_real_acu: 0.5390625, d_fake_acu: 0.72265625, d_total_acu: 0.630859375\n",
      "d_real_loss: 0.5706437826156616, d_fake_loss: 0.5904266834259033, g_loss: 0.8233655691146851\n"
     ]
    },
    {
     "data": {
      "application/vnd.jupyter.widget-view+json": {
       "model_id": "73529b237c7949faba4949e37a2d78eb",
       "version_major": 2,
       "version_minor": 0
      },
      "text/plain": [
       "Output()"
      ]
     },
     "metadata": {},
     "output_type": "display_data"
    },
    {
     "name": "stdout",
     "output_type": "stream",
     "text": [
      "Epoch: 9, iteration: 16, d_real_acu: 0.765625, d_fake_acu: 0.58203125, d_total_acu: 0.673828125\n",
      "d_real_loss: 0.4972732365131378, d_fake_loss: 0.6835379600524902, g_loss: 0.7104580402374268\n"
     ]
    },
    {
     "data": {
      "application/vnd.jupyter.widget-view+json": {
       "model_id": "dee5a50536aa4c66b2d7c93a06fc17c0",
       "version_major": 2,
       "version_minor": 0
      },
      "text/plain": [
       "Output()"
      ]
     },
     "metadata": {},
     "output_type": "display_data"
    },
    {
     "name": "stdout",
     "output_type": "stream",
     "text": [
      "Epoch: 9, iteration: 20, d_real_acu: 0.8588235378265381, d_fake_acu: 0.529411792755127, d_total_acu: 0.6941176652908325\n",
      "d_real_loss: 0.44023367762565613, d_fake_loss: 0.6602819561958313, g_loss: 0.7511754631996155\n"
     ]
    },
    {
     "data": {
      "application/vnd.jupyter.widget-view+json": {
       "model_id": "314eccd7924b4683ac1e5211e9f90692",
       "version_major": 2,
       "version_minor": 0
      },
      "text/plain": [
       "Output()"
      ]
     },
     "metadata": {},
     "output_type": "display_data"
    },
    {
     "name": "stdout",
     "output_type": "stream",
     "text": [
      "Epoch: 9, d_loss: 1.3229981944674538, g_loss: 0.9214955199332464, dacc: 0.584299501918611\n",
      "Epoch: 10, iteration: 0, d_real_acu: 0.91015625, d_fake_acu: 0.5, d_total_acu: 0.705078125\n",
      "d_real_loss: 0.4052598178386688, d_fake_loss: 0.683596134185791, g_loss: 0.702917218208313\n"
     ]
    },
    {
     "data": {
      "application/vnd.jupyter.widget-view+json": {
       "model_id": "c5b846e9f3e64b39a5aa8c974ea720f1",
       "version_major": 2,
       "version_minor": 0
      },
      "text/plain": [
       "Output()"
      ]
     },
     "metadata": {},
     "output_type": "display_data"
    },
    {
     "name": "stdout",
     "output_type": "stream",
     "text": [
      "Epoch: 10, iteration: 4, d_real_acu: 0.9609375, d_fake_acu: 1.0, d_total_acu: 0.98046875\n",
      "d_real_loss: 0.34502506256103516, d_fake_loss: 0.5899913907051086, g_loss: 0.8169165849685669\n"
     ]
    },
    {
     "data": {
      "application/vnd.jupyter.widget-view+json": {
       "model_id": "90038dfd3c474c8d999a26765736a77d",
       "version_major": 2,
       "version_minor": 0
      },
      "text/plain": [
       "Output()"
      ]
     },
     "metadata": {},
     "output_type": "display_data"
    },
    {
     "name": "stdout",
     "output_type": "stream",
     "text": [
      "Epoch: 10, iteration: 8, d_real_acu: 0.9296875, d_fake_acu: 0.625, d_total_acu: 0.77734375\n",
      "d_real_loss: 0.3814582824707031, d_fake_loss: 0.7008647918701172, g_loss: 0.7040885090827942\n"
     ]
    },
    {
     "data": {
      "application/vnd.jupyter.widget-view+json": {
       "model_id": "20d38b05668142a4838916100fbaf5bd",
       "version_major": 2,
       "version_minor": 0
      },
      "text/plain": [
       "Output()"
      ]
     },
     "metadata": {},
     "output_type": "display_data"
    },
    {
     "name": "stdout",
     "output_type": "stream",
     "text": [
      "Epoch: 10, iteration: 12, d_real_acu: 0.94140625, d_fake_acu: 0.41015625, d_total_acu: 0.67578125\n",
      "d_real_loss: 0.36985111236572266, d_fake_loss: 0.8118047714233398, g_loss: 0.6070523262023926\n"
     ]
    },
    {
     "data": {
      "application/vnd.jupyter.widget-view+json": {
       "model_id": "c86edb8c17b840aa93cea53f4ce50816",
       "version_major": 2,
       "version_minor": 0
      },
      "text/plain": [
       "Output()"
      ]
     },
     "metadata": {},
     "output_type": "display_data"
    },
    {
     "name": "stdout",
     "output_type": "stream",
     "text": [
      "Epoch: 10, iteration: 16, d_real_acu: 0.9765625, d_fake_acu: 0.5390625, d_total_acu: 0.7578125\n",
      "d_real_loss: 0.339445561170578, d_fake_loss: 0.7632168531417847, g_loss: 0.6525622606277466\n"
     ]
    },
    {
     "data": {
      "application/vnd.jupyter.widget-view+json": {
       "model_id": "2db7431bcee545d38e0ba5dd10c4e448",
       "version_major": 2,
       "version_minor": 0
      },
      "text/plain": [
       "Output()"
      ]
     },
     "metadata": {},
     "output_type": "display_data"
    },
    {
     "name": "stdout",
     "output_type": "stream",
     "text": [
      "Epoch: 10, iteration: 20, d_real_acu: 0.9470588564872742, d_fake_acu: 0.25882354378700256, d_total_acu: 0.6029412150382996\n",
      "d_real_loss: 0.3629467189311981, d_fake_loss: 0.9486778974533081, g_loss: 0.5422044992446899\n"
     ]
    },
    {
     "data": {
      "application/vnd.jupyter.widget-view+json": {
       "model_id": "2fe887b2bcdd42708cb98777de3fbb03",
       "version_major": 2,
       "version_minor": 0
      },
      "text/plain": [
       "Output()"
      ]
     },
     "metadata": {},
     "output_type": "display_data"
    },
    {
     "name": "stdout",
     "output_type": "stream",
     "text": [
      "Epoch: 10, d_loss: 1.115135099206652, g_loss: 0.6878708884829566, dacc: 0.7449503257161095\n",
      "Epoch: 11, iteration: 0, d_real_acu: 0.9453125, d_fake_acu: 0.1640625, d_total_acu: 0.5546875\n",
      "d_real_loss: 0.37519803643226624, d_fake_loss: 0.9706041812896729, g_loss: 0.6419723629951477\n"
     ]
    },
    {
     "data": {
      "application/vnd.jupyter.widget-view+json": {
       "model_id": "8e2fc38a3cc4453c8af9185a9e07a258",
       "version_major": 2,
       "version_minor": 0
      },
      "text/plain": [
       "Output()"
      ]
     },
     "metadata": {},
     "output_type": "display_data"
    },
    {
     "name": "stdout",
     "output_type": "stream",
     "text": [
      "Epoch: 11, iteration: 4, d_real_acu: 0.953125, d_fake_acu: 0.33984375, d_total_acu: 0.646484375\n",
      "d_real_loss: 0.3491329550743103, d_fake_loss: 0.8851227164268494, g_loss: 0.5828569531440735\n"
     ]
    },
    {
     "data": {
      "application/vnd.jupyter.widget-view+json": {
       "model_id": "3b5699678dd044e49f52ec628a3017db",
       "version_major": 2,
       "version_minor": 0
      },
      "text/plain": [
       "Output()"
      ]
     },
     "metadata": {},
     "output_type": "display_data"
    },
    {
     "name": "stdout",
     "output_type": "stream",
     "text": [
      "Epoch: 11, iteration: 8, d_real_acu: 0.9140625, d_fake_acu: 0.6328125, d_total_acu: 0.7734375\n",
      "d_real_loss: 0.3978649079799652, d_fake_loss: 0.744985818862915, g_loss: 0.6833978295326233\n"
     ]
    },
    {
     "data": {
      "application/vnd.jupyter.widget-view+json": {
       "model_id": "7f1ed1d101264062a570befdf3623b35",
       "version_major": 2,
       "version_minor": 0
      },
      "text/plain": [
       "Output()"
      ]
     },
     "metadata": {},
     "output_type": "display_data"
    },
    {
     "name": "stdout",
     "output_type": "stream",
     "text": [
      "Epoch: 11, iteration: 12, d_real_acu: 0.92578125, d_fake_acu: 0.58203125, d_total_acu: 0.75390625\n",
      "d_real_loss: 0.3794494867324829, d_fake_loss: 0.8174883127212524, g_loss: 0.6228874921798706\n"
     ]
    },
    {
     "data": {
      "application/vnd.jupyter.widget-view+json": {
       "model_id": "630ec4bcf334499ea77d62bac67d8897",
       "version_major": 2,
       "version_minor": 0
      },
      "text/plain": [
       "Output()"
      ]
     },
     "metadata": {},
     "output_type": "display_data"
    },
    {
     "name": "stdout",
     "output_type": "stream",
     "text": [
      "Epoch: 11, iteration: 16, d_real_acu: 0.75390625, d_fake_acu: 0.77734375, d_total_acu: 0.765625\n",
      "d_real_loss: 0.4198058545589447, d_fake_loss: 0.6150192022323608, g_loss: 0.7926219701766968\n"
     ]
    },
    {
     "data": {
      "application/vnd.jupyter.widget-view+json": {
       "model_id": "567f4604c49149c49f2d142c2acf57e1",
       "version_major": 2,
       "version_minor": 0
      },
      "text/plain": [
       "Output()"
      ]
     },
     "metadata": {},
     "output_type": "display_data"
    },
    {
     "name": "stdout",
     "output_type": "stream",
     "text": [
      "Epoch: 11, iteration: 20, d_real_acu: 0.7352941036224365, d_fake_acu: 0.6882352828979492, d_total_acu: 0.7117646932601929\n",
      "d_real_loss: 0.44630271196365356, d_fake_loss: 0.7079920768737793, g_loss: 0.6907642483711243\n"
     ]
    },
    {
     "data": {
      "application/vnd.jupyter.widget-view+json": {
       "model_id": "21e93839b2104d8da70c277c70b27c34",
       "version_major": 2,
       "version_minor": 0
      },
      "text/plain": [
       "Output()"
      ]
     },
     "metadata": {},
     "output_type": "display_data"
    },
    {
     "name": "stdout",
     "output_type": "stream",
     "text": [
      "Epoch: 11, d_loss: 1.1770589976083665, g_loss: 0.6764234474727085, dacc: 0.719440431821914\n",
      "Epoch: 12, iteration: 0, d_real_acu: 0.75390625, d_fake_acu: 0.53125, d_total_acu: 0.642578125\n",
      "d_real_loss: 0.43450167775154114, d_fake_loss: 0.7379281520843506, g_loss: 0.6540588140487671\n"
     ]
    },
    {
     "data": {
      "application/vnd.jupyter.widget-view+json": {
       "model_id": "745a949ff7fe4c4090c210d0f27839de",
       "version_major": 2,
       "version_minor": 0
      },
      "text/plain": [
       "Output()"
      ]
     },
     "metadata": {},
     "output_type": "display_data"
    },
    {
     "name": "stdout",
     "output_type": "stream",
     "text": [
      "Epoch: 12, iteration: 4, d_real_acu: 0.53515625, d_fake_acu: 0.40625, d_total_acu: 0.470703125\n",
      "d_real_loss: 0.46827784180641174, d_fake_loss: 0.7411743998527527, g_loss: 0.9423778653144836\n"
     ]
    },
    {
     "data": {
      "application/vnd.jupyter.widget-view+json": {
       "model_id": "9a7681e9fc8445ebaa4fb46ea20ebfb4",
       "version_major": 2,
       "version_minor": 0
      },
      "text/plain": [
       "Output()"
      ]
     },
     "metadata": {},
     "output_type": "display_data"
    },
    {
     "name": "stdout",
     "output_type": "stream",
     "text": [
      "Epoch: 12, iteration: 8, d_real_acu: 0.80859375, d_fake_acu: 0.03125, d_total_acu: 0.419921875\n",
      "d_real_loss: 0.4772912561893463, d_fake_loss: 1.5105669498443604, g_loss: 1.7147573232650757\n"
     ]
    },
    {
     "data": {
      "application/vnd.jupyter.widget-view+json": {
       "model_id": "c01c9a333b234dada831cf64201df5c1",
       "version_major": 2,
       "version_minor": 0
      },
      "text/plain": [
       "Output()"
      ]
     },
     "metadata": {},
     "output_type": "display_data"
    },
    {
     "name": "stdout",
     "output_type": "stream",
     "text": [
      "Epoch: 12, iteration: 12, d_real_acu: 0.2265625, d_fake_acu: 1.0, d_total_acu: 0.61328125\n",
      "d_real_loss: 1.3778977394104004, d_fake_loss: 0.10683418065309525, g_loss: 2.2635183334350586\n"
     ]
    },
    {
     "data": {
      "application/vnd.jupyter.widget-view+json": {
       "model_id": "824ae434cd944934aee4caadedcab319",
       "version_major": 2,
       "version_minor": 0
      },
      "text/plain": [
       "Output()"
      ]
     },
     "metadata": {},
     "output_type": "display_data"
    },
    {
     "name": "stdout",
     "output_type": "stream",
     "text": [
      "Epoch: 12, iteration: 16, d_real_acu: 0.3515625, d_fake_acu: 0.81640625, d_total_acu: 0.583984375\n",
      "d_real_loss: 1.3801965713500977, d_fake_loss: 0.42454788088798523, g_loss: 1.2474033832550049\n"
     ]
    },
    {
     "data": {
      "application/vnd.jupyter.widget-view+json": {
       "model_id": "97b44368356d4aa29a66f979c37a0388",
       "version_major": 2,
       "version_minor": 0
      },
      "text/plain": [
       "Output()"
      ]
     },
     "metadata": {},
     "output_type": "display_data"
    },
    {
     "name": "stdout",
     "output_type": "stream",
     "text": [
      "Epoch: 12, iteration: 20, d_real_acu: 0.48235294222831726, d_fake_acu: 0.6823529601097107, d_total_acu: 0.5823529362678528\n",
      "d_real_loss: 0.6975991725921631, d_fake_loss: 0.7803810834884644, g_loss: 0.7378087043762207\n"
     ]
    },
    {
     "data": {
      "application/vnd.jupyter.widget-view+json": {
       "model_id": "5a3f67653e49469ca4ae71c6706b4518",
       "version_major": 2,
       "version_minor": 0
      },
      "text/plain": [
       "Output()"
      ]
     },
     "metadata": {},
     "output_type": "display_data"
    },
    {
     "name": "stdout",
     "output_type": "stream",
     "text": [
      "Epoch: 12, d_loss: 1.4392965521131242, g_loss: 1.3128306723776317, dacc: 0.5801864493460882\n",
      "Epoch: 13, iteration: 0, d_real_acu: 0.5703125, d_fake_acu: 0.609375, d_total_acu: 0.58984375\n",
      "d_real_loss: 0.6446416974067688, d_fake_loss: 0.727295994758606, g_loss: 0.8191064596176147\n"
     ]
    },
    {
     "data": {
      "application/vnd.jupyter.widget-view+json": {
       "model_id": "ccb40297d9754809af43e5c83f97335b",
       "version_major": 2,
       "version_minor": 0
      },
      "text/plain": [
       "Output()"
      ]
     },
     "metadata": {},
     "output_type": "display_data"
    },
    {
     "name": "stdout",
     "output_type": "stream",
     "text": [
      "Epoch: 13, iteration: 4, d_real_acu: 0.828125, d_fake_acu: 0.5390625, d_total_acu: 0.68359375\n",
      "d_real_loss: 0.591060221195221, d_fake_loss: 0.5930861830711365, g_loss: 0.8387137651443481\n"
     ]
    },
    {
     "data": {
      "application/vnd.jupyter.widget-view+json": {
       "model_id": "25e677edfc0a4b5d935e899eeb2b2dcf",
       "version_major": 2,
       "version_minor": 0
      },
      "text/plain": [
       "Output()"
      ]
     },
     "metadata": {},
     "output_type": "display_data"
    },
    {
     "name": "stdout",
     "output_type": "stream",
     "text": [
      "Epoch: 13, iteration: 8, d_real_acu: 0.5, d_fake_acu: 0.5078125, d_total_acu: 0.50390625\n",
      "d_real_loss: 0.6886554956436157, d_fake_loss: 0.5862236618995667, g_loss: 1.1144236326217651\n"
     ]
    },
    {
     "data": {
      "application/vnd.jupyter.widget-view+json": {
       "model_id": "3383534faf0e4702abc1096044adb643",
       "version_major": 2,
       "version_minor": 0
      },
      "text/plain": [
       "Output()"
      ]
     },
     "metadata": {},
     "output_type": "display_data"
    },
    {
     "name": "stdout",
     "output_type": "stream",
     "text": [
      "Epoch: 13, iteration: 12, d_real_acu: 0.390625, d_fake_acu: 0.421875, d_total_acu: 0.40625\n",
      "d_real_loss: 0.7247267365455627, d_fake_loss: 0.6458819508552551, g_loss: 0.9712984561920166\n"
     ]
    },
    {
     "data": {
      "application/vnd.jupyter.widget-view+json": {
       "model_id": "9737e1ee47524b91b1e50a1ab2482ced",
       "version_major": 2,
       "version_minor": 0
      },
      "text/plain": [
       "Output()"
      ]
     },
     "metadata": {},
     "output_type": "display_data"
    },
    {
     "name": "stdout",
     "output_type": "stream",
     "text": [
      "Epoch: 13, iteration: 16, d_real_acu: 0.703125, d_fake_acu: 0.5703125, d_total_acu: 0.63671875\n",
      "d_real_loss: 0.6331731677055359, d_fake_loss: 0.6805554628372192, g_loss: 0.7378663420677185\n"
     ]
    },
    {
     "data": {
      "application/vnd.jupyter.widget-view+json": {
       "model_id": "efa51f089bbd408eae8092fadc7616dd",
       "version_major": 2,
       "version_minor": 0
      },
      "text/plain": [
       "Output()"
      ]
     },
     "metadata": {},
     "output_type": "display_data"
    },
    {
     "name": "stdout",
     "output_type": "stream",
     "text": [
      "Epoch: 13, iteration: 20, d_real_acu: 0.7941176891326904, d_fake_acu: 0.6411764621734619, d_total_acu: 0.7176470756530762\n",
      "d_real_loss: 0.5750237703323364, d_fake_loss: 0.7338484525680542, g_loss: 0.6785342693328857\n"
     ]
    },
    {
     "data": {
      "application/vnd.jupyter.widget-view+json": {
       "model_id": "5ae2b224294d4849936e1f401e0a6dc1",
       "version_major": 2,
       "version_minor": 0
      },
      "text/plain": [
       "Output()"
      ]
     },
     "metadata": {},
     "output_type": "display_data"
    },
    {
     "name": "stdout",
     "output_type": "stream",
     "text": [
      "Epoch: 13, d_loss: 1.2915916442871094, g_loss: 0.8398962872368949, dacc: 0.6165769440787179\n",
      "Epoch: 14, iteration: 0, d_real_acu: 0.84765625, d_fake_acu: 0.1953125, d_total_acu: 0.521484375\n",
      "d_real_loss: 0.548011302947998, d_fake_loss: 0.8186675310134888, g_loss: 0.8196872472763062\n"
     ]
    },
    {
     "data": {
      "application/vnd.jupyter.widget-view+json": {
       "model_id": "230286aad29841cd915afc164024a75e",
       "version_major": 2,
       "version_minor": 0
      },
      "text/plain": [
       "Output()"
      ]
     },
     "metadata": {},
     "output_type": "display_data"
    },
    {
     "name": "stdout",
     "output_type": "stream",
     "text": [
      "Epoch: 14, iteration: 4, d_real_acu: 0.625, d_fake_acu: 0.65234375, d_total_acu: 0.638671875\n",
      "d_real_loss: 0.693177342414856, d_fake_loss: 0.6517958641052246, g_loss: 0.7538017630577087\n"
     ]
    },
    {
     "data": {
      "application/vnd.jupyter.widget-view+json": {
       "model_id": "58a3c946f6de4e05a0e24a9a42019c9f",
       "version_major": 2,
       "version_minor": 0
      },
      "text/plain": [
       "Output()"
      ]
     },
     "metadata": {},
     "output_type": "display_data"
    },
    {
     "name": "stdout",
     "output_type": "stream",
     "text": [
      "Epoch: 14, iteration: 8, d_real_acu: 0.55078125, d_fake_acu: 0.640625, d_total_acu: 0.595703125\n",
      "d_real_loss: 0.7544924020767212, d_fake_loss: 0.6557886600494385, g_loss: 1.0334784984588623\n"
     ]
    },
    {
     "data": {
      "application/vnd.jupyter.widget-view+json": {
       "model_id": "8fba3f78901c4f5fa92ff9697c6cf30f",
       "version_major": 2,
       "version_minor": 0
      },
      "text/plain": [
       "Output()"
      ]
     },
     "metadata": {},
     "output_type": "display_data"
    },
    {
     "name": "stdout",
     "output_type": "stream",
     "text": [
      "Epoch: 14, iteration: 12, d_real_acu: 0.54296875, d_fake_acu: 0.5390625, d_total_acu: 0.541015625\n",
      "d_real_loss: 0.762871265411377, d_fake_loss: 0.7438231110572815, g_loss: 0.9507369995117188\n"
     ]
    },
    {
     "data": {
      "application/vnd.jupyter.widget-view+json": {
       "model_id": "7c57b9053a7c48849c95a46fa7dcca7e",
       "version_major": 2,
       "version_minor": 0
      },
      "text/plain": [
       "Output()"
      ]
     },
     "metadata": {},
     "output_type": "display_data"
    },
    {
     "name": "stdout",
     "output_type": "stream",
     "text": [
      "Epoch: 14, iteration: 16, d_real_acu: 0.61328125, d_fake_acu: 1.0, d_total_acu: 0.806640625\n",
      "d_real_loss: 0.7304299473762512, d_fake_loss: 0.49799680709838867, g_loss: 0.9340794086456299\n"
     ]
    },
    {
     "data": {
      "application/vnd.jupyter.widget-view+json": {
       "model_id": "e13b75b875ce4a6e8e666742cc6a0444",
       "version_major": 2,
       "version_minor": 0
      },
      "text/plain": [
       "Output()"
      ]
     },
     "metadata": {},
     "output_type": "display_data"
    },
    {
     "name": "stdout",
     "output_type": "stream",
     "text": [
      "Epoch: 14, iteration: 20, d_real_acu: 0.6941176652908325, d_fake_acu: 1.0, d_total_acu: 0.8470588326454163\n",
      "d_real_loss: 0.6658682823181152, d_fake_loss: 0.5113242268562317, g_loss: 0.9197961688041687\n"
     ]
    },
    {
     "data": {
      "application/vnd.jupyter.widget-view+json": {
       "model_id": "cfae8662b84a484eab60e0b26cf02527",
       "version_major": 2,
       "version_minor": 0
      },
      "text/plain": [
       "Output()"
      ]
     },
     "metadata": {},
     "output_type": "display_data"
    },
    {
     "name": "stdout",
     "output_type": "stream",
     "text": [
      "Epoch: 14, d_loss: 1.3601397105625697, g_loss: 0.8513289548101879, dacc: 0.6489670872688293\n",
      "Epoch: 15, iteration: 0, d_real_acu: 0.65625, d_fake_acu: 1.0, d_total_acu: 0.828125\n",
      "d_real_loss: 0.6673926115036011, d_fake_loss: 0.6076995134353638, g_loss: 0.8041038513183594\n"
     ]
    },
    {
     "data": {
      "application/vnd.jupyter.widget-view+json": {
       "model_id": "d67332309c5444a1903f937955c20bb0",
       "version_major": 2,
       "version_minor": 0
      },
      "text/plain": [
       "Output()"
      ]
     },
     "metadata": {},
     "output_type": "display_data"
    },
    {
     "name": "stdout",
     "output_type": "stream",
     "text": [
      "Epoch: 15, iteration: 4, d_real_acu: 0.6640625, d_fake_acu: 0.62109375, d_total_acu: 0.642578125\n",
      "d_real_loss: 0.6559043526649475, d_fake_loss: 0.6261463165283203, g_loss: 0.7773326635360718\n"
     ]
    },
    {
     "data": {
      "application/vnd.jupyter.widget-view+json": {
       "model_id": "f31e22807af940da88375df41df004b5",
       "version_major": 2,
       "version_minor": 0
      },
      "text/plain": [
       "Output()"
      ]
     },
     "metadata": {},
     "output_type": "display_data"
    },
    {
     "name": "stdout",
     "output_type": "stream",
     "text": [
      "Epoch: 15, iteration: 8, d_real_acu: 0.78125, d_fake_acu: 0.85546875, d_total_acu: 0.818359375\n",
      "d_real_loss: 0.5858447551727295, d_fake_loss: 0.6080388426780701, g_loss: 0.7990239858627319\n"
     ]
    },
    {
     "data": {
      "application/vnd.jupyter.widget-view+json": {
       "model_id": "bbf89f5b3ac64fd6b4c53b1af3e68ed7",
       "version_major": 2,
       "version_minor": 0
      },
      "text/plain": [
       "Output()"
      ]
     },
     "metadata": {},
     "output_type": "display_data"
    },
    {
     "name": "stdout",
     "output_type": "stream",
     "text": [
      "Epoch: 15, iteration: 12, d_real_acu: 0.74609375, d_fake_acu: 0.8203125, d_total_acu: 0.783203125\n",
      "d_real_loss: 0.6047887802124023, d_fake_loss: 0.5455663800239563, g_loss: 0.8979980945587158\n"
     ]
    },
    {
     "data": {
      "application/vnd.jupyter.widget-view+json": {
       "model_id": "47dd001e4e544c5c833500f3885dab12",
       "version_major": 2,
       "version_minor": 0
      },
      "text/plain": [
       "Output()"
      ]
     },
     "metadata": {},
     "output_type": "display_data"
    },
    {
     "name": "stdout",
     "output_type": "stream",
     "text": [
      "Epoch: 15, iteration: 16, d_real_acu: 0.73046875, d_fake_acu: 0.90625, d_total_acu: 0.818359375\n",
      "d_real_loss: 0.6211452484130859, d_fake_loss: 0.4800441861152649, g_loss: 1.02329683303833\n"
     ]
    },
    {
     "data": {
      "application/vnd.jupyter.widget-view+json": {
       "model_id": "6dc9c71d23b44bbf963b289500bcf718",
       "version_major": 2,
       "version_minor": 0
      },
      "text/plain": [
       "Output()"
      ]
     },
     "metadata": {},
     "output_type": "display_data"
    },
    {
     "name": "stdout",
     "output_type": "stream",
     "text": [
      "Epoch: 15, iteration: 20, d_real_acu: 0.6764705777168274, d_fake_acu: 0.4000000059604645, d_total_acu: 0.5382353067398071\n",
      "d_real_loss: 0.642051637172699, d_fake_loss: 0.7737360596656799, g_loss: 1.0771032571792603\n"
     ]
    },
    {
     "data": {
      "application/vnd.jupyter.widget-view+json": {
       "model_id": "1395e0a9859143f887eaa3913fbdbc1d",
       "version_major": 2,
       "version_minor": 0
      },
      "text/plain": [
       "Output()"
      ]
     },
     "metadata": {},
     "output_type": "display_data"
    },
    {
     "name": "stdout",
     "output_type": "stream",
     "text": [
      "Epoch: 15, d_loss: 1.226334571838379, g_loss: 0.9340622566995167, dacc: 0.698621324130467\n",
      "Epoch: 16, iteration: 0, d_real_acu: 0.70703125, d_fake_acu: 0.58984375, d_total_acu: 0.6484375\n",
      "d_real_loss: 0.6365060806274414, d_fake_loss: 0.5644984841346741, g_loss: 0.958259105682373\n"
     ]
    },
    {
     "data": {
      "application/vnd.jupyter.widget-view+json": {
       "model_id": "c452542513e941ce89c1b2db7970359c",
       "version_major": 2,
       "version_minor": 0
      },
      "text/plain": [
       "Output()"
      ]
     },
     "metadata": {},
     "output_type": "display_data"
    },
    {
     "name": "stdout",
     "output_type": "stream",
     "text": [
      "Epoch: 16, iteration: 4, d_real_acu: 0.6328125, d_fake_acu: 0.78515625, d_total_acu: 0.708984375\n",
      "d_real_loss: 0.6983605623245239, d_fake_loss: 0.5366268157958984, g_loss: 0.9291980266571045\n"
     ]
    },
    {
     "data": {
      "application/vnd.jupyter.widget-view+json": {
       "model_id": "3b31149add864f5e9b582242f4323705",
       "version_major": 2,
       "version_minor": 0
      },
      "text/plain": [
       "Output()"
      ]
     },
     "metadata": {},
     "output_type": "display_data"
    },
    {
     "name": "stdout",
     "output_type": "stream",
     "text": [
      "Epoch: 16, iteration: 8, d_real_acu: 0.58984375, d_fake_acu: 0.8046875, d_total_acu: 0.697265625\n",
      "d_real_loss: 0.7383717894554138, d_fake_loss: 0.6134055256843567, g_loss: 0.8007184267044067\n"
     ]
    },
    {
     "data": {
      "application/vnd.jupyter.widget-view+json": {
       "model_id": "d6c8d46ed2804e6583f517fabb5a8b89",
       "version_major": 2,
       "version_minor": 0
      },
      "text/plain": [
       "Output()"
      ]
     },
     "metadata": {},
     "output_type": "display_data"
    },
    {
     "name": "stdout",
     "output_type": "stream",
     "text": [
      "Epoch: 16, iteration: 12, d_real_acu: 0.35546875, d_fake_acu: 1.0, d_total_acu: 0.677734375\n",
      "d_real_loss: 0.8777257204055786, d_fake_loss: 0.420614093542099, g_loss: 1.0775623321533203\n"
     ]
    },
    {
     "data": {
      "application/vnd.jupyter.widget-view+json": {
       "model_id": "dd5e3d36644449a4902efeada575b030",
       "version_major": 2,
       "version_minor": 0
      },
      "text/plain": [
       "Output()"
      ]
     },
     "metadata": {},
     "output_type": "display_data"
    },
    {
     "name": "stdout",
     "output_type": "stream",
     "text": [
      "Epoch: 16, iteration: 16, d_real_acu: 0.37109375, d_fake_acu: 0.921875, d_total_acu: 0.646484375\n",
      "d_real_loss: 0.8418102264404297, d_fake_loss: 0.570361852645874, g_loss: 0.8392410278320312\n"
     ]
    },
    {
     "data": {
      "application/vnd.jupyter.widget-view+json": {
       "model_id": "f4488fcb91ab44b3a11e639214026e52",
       "version_major": 2,
       "version_minor": 0
      },
      "text/plain": [
       "Output()"
      ]
     },
     "metadata": {},
     "output_type": "display_data"
    },
    {
     "name": "stdout",
     "output_type": "stream",
     "text": [
      "Epoch: 16, iteration: 20, d_real_acu: 0.4058823585510254, d_fake_acu: 0.28823530673980713, d_total_acu: 0.34705883264541626\n",
      "d_real_loss: 0.810588002204895, d_fake_loss: 0.7242594361305237, g_loss: 0.8465617895126343\n"
     ]
    },
    {
     "data": {
      "application/vnd.jupyter.widget-view+json": {
       "model_id": "5d3981951dc94635b11dee5cf316c469",
       "version_major": 2,
       "version_minor": 0
      },
      "text/plain": [
       "Output()"
      ]
     },
     "metadata": {},
     "output_type": "display_data"
    },
    {
     "name": "stdout",
     "output_type": "stream",
     "text": [
      "Epoch: 16, d_loss: 1.389975598880223, g_loss: 0.9584821945145017, dacc: 0.591210390840258\n",
      "Epoch: 17, iteration: 0, d_real_acu: 0.53515625, d_fake_acu: 0.88671875, d_total_acu: 0.7109375\n",
      "d_real_loss: 0.7261227369308472, d_fake_loss: 0.6298717260360718, g_loss: 0.7675277590751648\n"
     ]
    },
    {
     "data": {
      "application/vnd.jupyter.widget-view+json": {
       "model_id": "279ccca51bea457492cbc66c20d7ca64",
       "version_major": 2,
       "version_minor": 0
      },
      "text/plain": [
       "Output()"
      ]
     },
     "metadata": {},
     "output_type": "display_data"
    },
    {
     "name": "stdout",
     "output_type": "stream",
     "text": [
      "Epoch: 17, iteration: 4, d_real_acu: 0.734375, d_fake_acu: 0.20703125, d_total_acu: 0.470703125\n",
      "d_real_loss: 0.583217978477478, d_fake_loss: 0.732876718044281, g_loss: 0.8298811912536621\n"
     ]
    },
    {
     "data": {
      "application/vnd.jupyter.widget-view+json": {
       "model_id": "5e9519cbbb594fec93015be9a9c7037e",
       "version_major": 2,
       "version_minor": 0
      },
      "text/plain": [
       "Output()"
      ]
     },
     "metadata": {},
     "output_type": "display_data"
    },
    {
     "name": "stdout",
     "output_type": "stream",
     "text": [
      "Epoch: 17, iteration: 8, d_real_acu: 0.8671875, d_fake_acu: 0.36328125, d_total_acu: 0.615234375\n",
      "d_real_loss: 0.47574570775032043, d_fake_loss: 0.7298992276191711, g_loss: 0.6831314563751221\n"
     ]
    },
    {
     "data": {
      "application/vnd.jupyter.widget-view+json": {
       "model_id": "5cf9153077b14d5aa010db55cac011ec",
       "version_major": 2,
       "version_minor": 0
      },
      "text/plain": [
       "Output()"
      ]
     },
     "metadata": {},
     "output_type": "display_data"
    },
    {
     "name": "stdout",
     "output_type": "stream",
     "text": [
      "Epoch: 17, iteration: 12, d_real_acu: 0.828125, d_fake_acu: 0.53125, d_total_acu: 0.6796875\n",
      "d_real_loss: 0.4851927161216736, d_fake_loss: 0.721462607383728, g_loss: 0.7111217975616455\n"
     ]
    },
    {
     "data": {
      "application/vnd.jupyter.widget-view+json": {
       "model_id": "7f19c23fc0e447209686baa5fad609b5",
       "version_major": 2,
       "version_minor": 0
      },
      "text/plain": [
       "Output()"
      ]
     },
     "metadata": {},
     "output_type": "display_data"
    },
    {
     "name": "stdout",
     "output_type": "stream",
     "text": [
      "Epoch: 17, iteration: 16, d_real_acu: 0.7578125, d_fake_acu: 0.23828125, d_total_acu: 0.498046875\n",
      "d_real_loss: 0.5789719820022583, d_fake_loss: 0.8133572936058044, g_loss: 0.9005827903747559\n"
     ]
    },
    {
     "data": {
      "application/vnd.jupyter.widget-view+json": {
       "model_id": "9a98df408ad743b69750cbfb3d2cd7f5",
       "version_major": 2,
       "version_minor": 0
      },
      "text/plain": [
       "Output()"
      ]
     },
     "metadata": {},
     "output_type": "display_data"
    },
    {
     "name": "stdout",
     "output_type": "stream",
     "text": [
      "Epoch: 17, iteration: 20, d_real_acu: 0.5647059082984924, d_fake_acu: 0.7235293984413147, d_total_acu: 0.6441176533699036\n",
      "d_real_loss: 0.7087994813919067, d_fake_loss: 0.6005871891975403, g_loss: 0.8107336759567261\n"
     ]
    },
    {
     "data": {
      "application/vnd.jupyter.widget-view+json": {
       "model_id": "55c2e51d041a4942b9b531deb3888486",
       "version_major": 2,
       "version_minor": 0
      },
      "text/plain": [
       "Output()"
      ]
     },
     "metadata": {},
     "output_type": "display_data"
    },
    {
     "name": "stdout",
     "output_type": "stream",
     "text": [
      "Epoch: 17, d_loss: 1.2697057269868397, g_loss: 0.8166628536723909, dacc: 0.6247942930176145\n",
      "Epoch: 18, iteration: 0, d_real_acu: 0.50390625, d_fake_acu: 0.4765625, d_total_acu: 0.490234375\n",
      "d_real_loss: 0.726173460483551, d_fake_loss: 0.6717404127120972, g_loss: 1.0037238597869873\n"
     ]
    },
    {
     "data": {
      "application/vnd.jupyter.widget-view+json": {
       "model_id": "1c3b04260fc34405916ff414ae57eead",
       "version_major": 2,
       "version_minor": 0
      },
      "text/plain": [
       "Output()"
      ]
     },
     "metadata": {},
     "output_type": "display_data"
    },
    {
     "name": "stdout",
     "output_type": "stream",
     "text": [
      "Epoch: 18, iteration: 4, d_real_acu: 0.42578125, d_fake_acu: 0.83984375, d_total_acu: 0.6328125\n",
      "d_real_loss: 0.838530957698822, d_fake_loss: 0.5247416496276855, g_loss: 0.9131816625595093\n"
     ]
    },
    {
     "data": {
      "application/vnd.jupyter.widget-view+json": {
       "model_id": "700709e2f12c49e69b24f08c95672f4f",
       "version_major": 2,
       "version_minor": 0
      },
      "text/plain": [
       "Output()"
      ]
     },
     "metadata": {},
     "output_type": "display_data"
    },
    {
     "name": "stdout",
     "output_type": "stream",
     "text": [
      "Epoch: 18, iteration: 8, d_real_acu: 0.53125, d_fake_acu: 0.703125, d_total_acu: 0.6171875\n",
      "d_real_loss: 0.7607319355010986, d_fake_loss: 0.5297993421554565, g_loss: 0.9768519401550293\n"
     ]
    },
    {
     "data": {
      "application/vnd.jupyter.widget-view+json": {
       "model_id": "9dfcdef9de8a47a092775e6c0c5e77e2",
       "version_major": 2,
       "version_minor": 0
      },
      "text/plain": [
       "Output()"
      ]
     },
     "metadata": {},
     "output_type": "display_data"
    },
    {
     "name": "stdout",
     "output_type": "stream",
     "text": [
      "Epoch: 18, iteration: 12, d_real_acu: 0.53125, d_fake_acu: 0.63671875, d_total_acu: 0.583984375\n",
      "d_real_loss: 0.7600405216217041, d_fake_loss: 0.7306732535362244, g_loss: 0.971649706363678\n"
     ]
    },
    {
     "data": {
      "application/vnd.jupyter.widget-view+json": {
       "model_id": "6e9d12eb6e7940cabd6f130e778756f6",
       "version_major": 2,
       "version_minor": 0
      },
      "text/plain": [
       "Output()"
      ]
     },
     "metadata": {},
     "output_type": "display_data"
    },
    {
     "name": "stdout",
     "output_type": "stream",
     "text": [
      "Epoch: 18, iteration: 16, d_real_acu: 0.53515625, d_fake_acu: 0.953125, d_total_acu: 0.744140625\n",
      "d_real_loss: 0.8228259682655334, d_fake_loss: 0.592957079410553, g_loss: 0.8045052289962769\n"
     ]
    },
    {
     "data": {
      "application/vnd.jupyter.widget-view+json": {
       "model_id": "228a5fb8a1304b70b8b7d55e9cc3a052",
       "version_major": 2,
       "version_minor": 0
      },
      "text/plain": [
       "Output()"
      ]
     },
     "metadata": {},
     "output_type": "display_data"
    },
    {
     "name": "stdout",
     "output_type": "stream",
     "text": [
      "Epoch: 18, iteration: 20, d_real_acu: 0.4176470637321472, d_fake_acu: 0.9470588564872742, d_total_acu: 0.6823529601097107\n",
      "d_real_loss: 0.828972339630127, d_fake_loss: 0.5348824858665466, g_loss: 0.9194170832633972\n"
     ]
    },
    {
     "data": {
      "application/vnd.jupyter.widget-view+json": {
       "model_id": "d42200f3214c41239ee81ae807badc50",
       "version_major": 2,
       "version_minor": 0
      },
      "text/plain": [
       "Output()"
      ]
     },
     "metadata": {},
     "output_type": "display_data"
    },
    {
     "name": "stdout",
     "output_type": "stream",
     "text": [
      "Epoch: 18, d_loss: 1.4044580459594727, g_loss: 0.9441388675144741, dacc: 0.6060607064337957\n",
      "Epoch: 19, iteration: 0, d_real_acu: 0.375, d_fake_acu: 0.40625, d_total_acu: 0.390625\n",
      "d_real_loss: 0.8645284175872803, d_fake_loss: 0.6839315891265869, g_loss: 1.000243067741394\n"
     ]
    },
    {
     "data": {
      "application/vnd.jupyter.widget-view+json": {
       "model_id": "eae83d33ec1641cb90af0ceee2dda803",
       "version_major": 2,
       "version_minor": 0
      },
      "text/plain": [
       "Output()"
      ]
     },
     "metadata": {},
     "output_type": "display_data"
    },
    {
     "name": "stdout",
     "output_type": "stream",
     "text": [
      "Epoch: 19, iteration: 4, d_real_acu: 0.66015625, d_fake_acu: 0.31640625, d_total_acu: 0.48828125\n",
      "d_real_loss: 0.6337115168571472, d_fake_loss: 0.7021753191947937, g_loss: 1.1106890439987183\n"
     ]
    },
    {
     "data": {
      "application/vnd.jupyter.widget-view+json": {
       "model_id": "bde38dc4792b44c2ae88b2917019deba",
       "version_major": 2,
       "version_minor": 0
      },
      "text/plain": [
       "Output()"
      ]
     },
     "metadata": {},
     "output_type": "display_data"
    },
    {
     "name": "stdout",
     "output_type": "stream",
     "text": [
      "Epoch: 19, iteration: 8, d_real_acu: 0.5859375, d_fake_acu: 0.296875, d_total_acu: 0.44140625\n",
      "d_real_loss: 0.680305540561676, d_fake_loss: 0.6867012977600098, g_loss: 1.2332394123077393\n"
     ]
    },
    {
     "data": {
      "application/vnd.jupyter.widget-view+json": {
       "model_id": "9175b1c8f6f3410d92fac0748278f16f",
       "version_major": 2,
       "version_minor": 0
      },
      "text/plain": [
       "Output()"
      ]
     },
     "metadata": {},
     "output_type": "display_data"
    },
    {
     "name": "stdout",
     "output_type": "stream",
     "text": [
      "Epoch: 19, iteration: 12, d_real_acu: 0.34375, d_fake_acu: 0.9921875, d_total_acu: 0.66796875\n",
      "d_real_loss: 0.813151478767395, d_fake_loss: 0.48660826683044434, g_loss: 0.9748094081878662\n"
     ]
    },
    {
     "data": {
      "application/vnd.jupyter.widget-view+json": {
       "model_id": "b5211393c2f742cc89b282d42c6ffba9",
       "version_major": 2,
       "version_minor": 0
      },
      "text/plain": [
       "Output()"
      ]
     },
     "metadata": {},
     "output_type": "display_data"
    },
    {
     "name": "stdout",
     "output_type": "stream",
     "text": [
      "Epoch: 19, iteration: 16, d_real_acu: 0.2421875, d_fake_acu: 0.74609375, d_total_acu: 0.494140625\n",
      "d_real_loss: 0.8545032739639282, d_fake_loss: 0.526997983455658, g_loss: 1.4165221452713013\n"
     ]
    },
    {
     "data": {
      "application/vnd.jupyter.widget-view+json": {
       "model_id": "dde1106d63624051acd4aa573dec454a",
       "version_major": 2,
       "version_minor": 0
      },
      "text/plain": [
       "Output()"
      ]
     },
     "metadata": {},
     "output_type": "display_data"
    },
    {
     "name": "stdout",
     "output_type": "stream",
     "text": [
      "Epoch: 19, iteration: 20, d_real_acu: 0.4882352948188782, d_fake_acu: 0.6529411673545837, d_total_acu: 0.570588231086731\n",
      "d_real_loss: 0.7377158403396606, d_fake_loss: 0.5570517182350159, g_loss: 1.3525997400283813\n"
     ]
    },
    {
     "data": {
      "application/vnd.jupyter.widget-view+json": {
       "model_id": "f65bad03f32941b99452da4ac305a8d0",
       "version_major": 2,
       "version_minor": 0
      },
      "text/plain": [
       "Output()"
      ]
     },
     "metadata": {},
     "output_type": "display_data"
    },
    {
     "name": "stdout",
     "output_type": "stream",
     "text": [
      "Epoch: 19, d_loss: 1.3128335702986944, g_loss: 1.0882228357451302, dacc: 0.6024126836231777\n",
      "Epoch: 20, iteration: 0, d_real_acu: 0.57421875, d_fake_acu: 1.0, d_total_acu: 0.787109375\n",
      "d_real_loss: 0.6841814517974854, d_fake_loss: 0.3691334128379822, g_loss: 1.1980681419372559\n"
     ]
    },
    {
     "data": {
      "application/vnd.jupyter.widget-view+json": {
       "model_id": "9fa0332e5e494e8a8033a895cd6044a7",
       "version_major": 2,
       "version_minor": 0
      },
      "text/plain": [
       "Output()"
      ]
     },
     "metadata": {},
     "output_type": "display_data"
    },
    {
     "name": "stdout",
     "output_type": "stream",
     "text": [
      "Epoch: 20, iteration: 4, d_real_acu: 0.63671875, d_fake_acu: 1.0, d_total_acu: 0.818359375\n",
      "d_real_loss: 0.6442307233810425, d_fake_loss: 0.4193630516529083, g_loss: 1.0934159755706787\n"
     ]
    },
    {
     "data": {
      "application/vnd.jupyter.widget-view+json": {
       "model_id": "2161eae812034d669bfa378dc324982e",
       "version_major": 2,
       "version_minor": 0
      },
      "text/plain": [
       "Output()"
      ]
     },
     "metadata": {},
     "output_type": "display_data"
    },
    {
     "name": "stdout",
     "output_type": "stream",
     "text": [
      "Epoch: 20, iteration: 8, d_real_acu: 0.6875, d_fake_acu: 0.2890625, d_total_acu: 0.48828125\n",
      "d_real_loss: 0.6350672245025635, d_fake_loss: 0.7516946196556091, g_loss: 1.1434452533721924\n"
     ]
    },
    {
     "data": {
      "application/vnd.jupyter.widget-view+json": {
       "model_id": "3cef49f2285e41f2b43b3f1a84b8d79b",
       "version_major": 2,
       "version_minor": 0
      },
      "text/plain": [
       "Output()"
      ]
     },
     "metadata": {},
     "output_type": "display_data"
    },
    {
     "name": "stdout",
     "output_type": "stream",
     "text": [
      "Epoch: 20, iteration: 12, d_real_acu: 0.6484375, d_fake_acu: 0.6171875, d_total_acu: 0.6328125\n",
      "d_real_loss: 0.6388735175132751, d_fake_loss: 0.6194663047790527, g_loss: 0.8038610219955444\n"
     ]
    },
    {
     "data": {
      "application/vnd.jupyter.widget-view+json": {
       "model_id": "3f1f6d5ef4974c939022acb31b540283",
       "version_major": 2,
       "version_minor": 0
      },
      "text/plain": [
       "Output()"
      ]
     },
     "metadata": {},
     "output_type": "display_data"
    },
    {
     "name": "stdout",
     "output_type": "stream",
     "text": [
      "Epoch: 20, iteration: 16, d_real_acu: 0.58203125, d_fake_acu: 0.671875, d_total_acu: 0.626953125\n",
      "d_real_loss: 0.6593091487884521, d_fake_loss: 0.5434374809265137, g_loss: 0.960113525390625\n"
     ]
    },
    {
     "data": {
      "application/vnd.jupyter.widget-view+json": {
       "model_id": "1cc7cd7793254d4cb9f82525ea1b9d2f",
       "version_major": 2,
       "version_minor": 0
      },
      "text/plain": [
       "Output()"
      ]
     },
     "metadata": {},
     "output_type": "display_data"
    },
    {
     "name": "stdout",
     "output_type": "stream",
     "text": [
      "Epoch: 20, iteration: 20, d_real_acu: 0.5882353186607361, d_fake_acu: 0.5529412031173706, d_total_acu: 0.570588231086731\n",
      "d_real_loss: 0.7093466520309448, d_fake_loss: 0.5869344472885132, g_loss: 1.2995716333389282\n"
     ]
    },
    {
     "data": {
      "application/vnd.jupyter.widget-view+json": {
       "model_id": "e77c6110a8ae4611b4410b46c8c697fd",
       "version_major": 2,
       "version_minor": 0
      },
      "text/plain": [
       "Output()"
      ]
     },
     "metadata": {},
     "output_type": "display_data"
    },
    {
     "name": "stdout",
     "output_type": "stream",
     "text": [
      "Epoch: 20, d_loss: 1.2054268292018346, g_loss: 1.0499626369703383, dacc: 0.6924424455279395\n",
      "Epoch: 21, iteration: 0, d_real_acu: 0.5234375, d_fake_acu: 0.7890625, d_total_acu: 0.65625\n",
      "d_real_loss: 0.7098389267921448, d_fake_loss: 0.4479535222053528, g_loss: 1.1530565023422241\n"
     ]
    },
    {
     "data": {
      "application/vnd.jupyter.widget-view+json": {
       "model_id": "de5bc10cf9e44524a8771cf6d32273b8",
       "version_major": 2,
       "version_minor": 0
      },
      "text/plain": [
       "Output()"
      ]
     },
     "metadata": {},
     "output_type": "display_data"
    },
    {
     "name": "stdout",
     "output_type": "stream",
     "text": [
      "Epoch: 21, iteration: 4, d_real_acu: 0.66015625, d_fake_acu: 0.46875, d_total_acu: 0.564453125\n",
      "d_real_loss: 0.6429386734962463, d_fake_loss: 0.6998000144958496, g_loss: 1.044410228729248\n"
     ]
    },
    {
     "data": {
      "application/vnd.jupyter.widget-view+json": {
       "model_id": "ff834b0db6b746e3b3cb6c170b4906ad",
       "version_major": 2,
       "version_minor": 0
      },
      "text/plain": [
       "Output()"
      ]
     },
     "metadata": {},
     "output_type": "display_data"
    },
    {
     "name": "stdout",
     "output_type": "stream",
     "text": [
      "Epoch: 21, iteration: 8, d_real_acu: 0.6875, d_fake_acu: 0.609375, d_total_acu: 0.6484375\n",
      "d_real_loss: 0.6408481001853943, d_fake_loss: 0.6335509419441223, g_loss: 0.7739584445953369\n"
     ]
    },
    {
     "data": {
      "application/vnd.jupyter.widget-view+json": {
       "model_id": "f0e759d97c5b4ba8b9d24fdf5cc1b055",
       "version_major": 2,
       "version_minor": 0
      },
      "text/plain": [
       "Output()"
      ]
     },
     "metadata": {},
     "output_type": "display_data"
    },
    {
     "name": "stdout",
     "output_type": "stream",
     "text": [
      "Epoch: 21, iteration: 12, d_real_acu: 0.59375, d_fake_acu: 1.0, d_total_acu: 0.796875\n",
      "d_real_loss: 0.7354509830474854, d_fake_loss: 0.48936477303504944, g_loss: 0.9480310678482056\n"
     ]
    },
    {
     "data": {
      "application/vnd.jupyter.widget-view+json": {
       "model_id": "5f54bc7f4b0143e9b2d038c08f1896c2",
       "version_major": 2,
       "version_minor": 0
      },
      "text/plain": [
       "Output()"
      ]
     },
     "metadata": {},
     "output_type": "display_data"
    },
    {
     "name": "stdout",
     "output_type": "stream",
     "text": [
      "Epoch: 21, iteration: 16, d_real_acu: 0.59375, d_fake_acu: 0.54296875, d_total_acu: 0.568359375\n",
      "d_real_loss: 0.7327502965927124, d_fake_loss: 0.6373180150985718, g_loss: 1.135870099067688\n"
     ]
    },
    {
     "data": {
      "application/vnd.jupyter.widget-view+json": {
       "model_id": "2edfdc1efcc54c67a2fc0ab05e3ebfd1",
       "version_major": 2,
       "version_minor": 0
      },
      "text/plain": [
       "Output()"
      ]
     },
     "metadata": {},
     "output_type": "display_data"
    },
    {
     "name": "stdout",
     "output_type": "stream",
     "text": [
      "Epoch: 21, iteration: 20, d_real_acu: 0.7705882787704468, d_fake_acu: 1.0, d_total_acu: 0.8852941393852234\n",
      "d_real_loss: 0.5403333902359009, d_fake_loss: 0.43098145723342896, g_loss: 1.0325254201889038\n"
     ]
    },
    {
     "data": {
      "application/vnd.jupyter.widget-view+json": {
       "model_id": "f914f765abe0474eab9df5e8d03f5f05",
       "version_major": 2,
       "version_minor": 0
      },
      "text/plain": [
       "Output()"
      ]
     },
     "metadata": {},
     "output_type": "display_data"
    },
    {
     "name": "stdout",
     "output_type": "stream",
     "text": [
      "Epoch: 21, d_loss: 1.2700991715703691, g_loss: 0.9852725778307233, dacc: 0.6642736792564392\n",
      "Epoch: 22, iteration: 0, d_real_acu: 0.734375, d_fake_acu: 0.90234375, d_total_acu: 0.818359375\n",
      "d_real_loss: 0.5878860354423523, d_fake_loss: 0.49744510650634766, g_loss: 0.96199631690979\n"
     ]
    },
    {
     "data": {
      "application/vnd.jupyter.widget-view+json": {
       "model_id": "194888c1e67c4673a4451b1b7a4414c6",
       "version_major": 2,
       "version_minor": 0
      },
      "text/plain": [
       "Output()"
      ]
     },
     "metadata": {},
     "output_type": "display_data"
    },
    {
     "name": "stdout",
     "output_type": "stream",
     "text": [
      "Epoch: 22, iteration: 4, d_real_acu: 0.73046875, d_fake_acu: 0.265625, d_total_acu: 0.498046875\n",
      "d_real_loss: 0.6085110902786255, d_fake_loss: 0.7817037105560303, g_loss: 0.9274111986160278\n"
     ]
    },
    {
     "data": {
      "application/vnd.jupyter.widget-view+json": {
       "model_id": "276997203fb24de687db9c47b152b06c",
       "version_major": 2,
       "version_minor": 0
      },
      "text/plain": [
       "Output()"
      ]
     },
     "metadata": {},
     "output_type": "display_data"
    },
    {
     "name": "stdout",
     "output_type": "stream",
     "text": [
      "Epoch: 22, iteration: 8, d_real_acu: 0.796875, d_fake_acu: 0.234375, d_total_acu: 0.515625\n",
      "d_real_loss: 0.4915570020675659, d_fake_loss: 0.8133925199508667, g_loss: 1.0051223039627075\n"
     ]
    },
    {
     "data": {
      "application/vnd.jupyter.widget-view+json": {
       "model_id": "5f33e98f64364e86b4d7cd87f0e6790f",
       "version_major": 2,
       "version_minor": 0
      },
      "text/plain": [
       "Output()"
      ]
     },
     "metadata": {},
     "output_type": "display_data"
    },
    {
     "name": "stdout",
     "output_type": "stream",
     "text": [
      "Epoch: 22, iteration: 12, d_real_acu: 0.88671875, d_fake_acu: 0.38671875, d_total_acu: 0.63671875\n",
      "d_real_loss: 0.4170263409614563, d_fake_loss: 1.0257141590118408, g_loss: 0.5476675033569336\n"
     ]
    },
    {
     "data": {
      "application/vnd.jupyter.widget-view+json": {
       "model_id": "fb904e44959c4a7b95b8c7097626359b",
       "version_major": 2,
       "version_minor": 0
      },
      "text/plain": [
       "Output()"
      ]
     },
     "metadata": {},
     "output_type": "display_data"
    },
    {
     "name": "stdout",
     "output_type": "stream",
     "text": [
      "Epoch: 22, iteration: 16, d_real_acu: 0.78125, d_fake_acu: 0.39453125, d_total_acu: 0.587890625\n",
      "d_real_loss: 0.5665817856788635, d_fake_loss: 0.580443263053894, g_loss: 2.0005202293395996\n"
     ]
    },
    {
     "data": {
      "application/vnd.jupyter.widget-view+json": {
       "model_id": "b469961edd6040ff8c11f9e3e5968f08",
       "version_major": 2,
       "version_minor": 0
      },
      "text/plain": [
       "Output()"
      ]
     },
     "metadata": {},
     "output_type": "display_data"
    },
    {
     "name": "stdout",
     "output_type": "stream",
     "text": [
      "Epoch: 22, iteration: 20, d_real_acu: 0.758823573589325, d_fake_acu: 0.4117647111415863, d_total_acu: 0.5852941274642944\n",
      "d_real_loss: 0.5791856050491333, d_fake_loss: 0.6230177879333496, g_loss: 2.0728063583374023\n"
     ]
    },
    {
     "data": {
      "application/vnd.jupyter.widget-view+json": {
       "model_id": "b26f352dcfd545a0b3a9da9933c4502f",
       "version_major": 2,
       "version_minor": 0
      },
      "text/plain": [
       "Output()"
      ]
     },
     "metadata": {},
     "output_type": "display_data"
    },
    {
     "name": "stdout",
     "output_type": "stream",
     "text": [
      "Epoch: 22, d_loss: 1.200002860455286, g_loss: 1.0659575802939278, dacc: 0.6790058215459188\n",
      "Epoch: 23, iteration: 0, d_real_acu: 0.49609375, d_fake_acu: 1.0, d_total_acu: 0.748046875\n",
      "d_real_loss: 0.6523216962814331, d_fake_loss: 0.1792774498462677, g_loss: 1.8252242803573608\n"
     ]
    },
    {
     "data": {
      "application/vnd.jupyter.widget-view+json": {
       "model_id": "82382ea6188a46c08f45a138d1d08be3",
       "version_major": 2,
       "version_minor": 0
      },
      "text/plain": [
       "Output()"
      ]
     },
     "metadata": {},
     "output_type": "display_data"
    },
    {
     "name": "stdout",
     "output_type": "stream",
     "text": [
      "Epoch: 23, iteration: 4, d_real_acu: 0.46484375, d_fake_acu: 0.79296875, d_total_acu: 0.62890625\n",
      "d_real_loss: 0.6871804594993591, d_fake_loss: 0.5854533910751343, g_loss: 0.8309450745582581\n"
     ]
    },
    {
     "data": {
      "application/vnd.jupyter.widget-view+json": {
       "model_id": "35f7b4b4b4184e3d89b01c0c30d8ec2e",
       "version_major": 2,
       "version_minor": 0
      },
      "text/plain": [
       "Output()"
      ]
     },
     "metadata": {},
     "output_type": "display_data"
    },
    {
     "name": "stdout",
     "output_type": "stream",
     "text": [
      "Epoch: 23, iteration: 8, d_real_acu: 0.4453125, d_fake_acu: 0.99609375, d_total_acu: 0.720703125\n",
      "d_real_loss: 0.794729471206665, d_fake_loss: 0.2914983630180359, g_loss: 1.561011791229248\n"
     ]
    },
    {
     "data": {
      "application/vnd.jupyter.widget-view+json": {
       "model_id": "57643a0717d44e1d865f3b3de2574b12",
       "version_major": 2,
       "version_minor": 0
      },
      "text/plain": [
       "Output()"
      ]
     },
     "metadata": {},
     "output_type": "display_data"
    },
    {
     "name": "stdout",
     "output_type": "stream",
     "text": [
      "Epoch: 23, iteration: 12, d_real_acu: 0.46875, d_fake_acu: 1.0, d_total_acu: 0.734375\n",
      "d_real_loss: 0.9142311811447144, d_fake_loss: 0.18258136510849, g_loss: 1.9976418018341064\n"
     ]
    },
    {
     "data": {
      "application/vnd.jupyter.widget-view+json": {
       "model_id": "c20c880af716458c83f96648427dac51",
       "version_major": 2,
       "version_minor": 0
      },
      "text/plain": [
       "Output()"
      ]
     },
     "metadata": {},
     "output_type": "display_data"
    },
    {
     "name": "stdout",
     "output_type": "stream",
     "text": [
      "Epoch: 23, iteration: 16, d_real_acu: 0.38671875, d_fake_acu: 0.71875, d_total_acu: 0.552734375\n",
      "d_real_loss: 1.0286431312561035, d_fake_loss: 0.47499963641166687, g_loss: 2.187831163406372\n"
     ]
    },
    {
     "data": {
      "application/vnd.jupyter.widget-view+json": {
       "model_id": "8478a982056d44c3aeecae4bc82e2269",
       "version_major": 2,
       "version_minor": 0
      },
      "text/plain": [
       "Output()"
      ]
     },
     "metadata": {},
     "output_type": "display_data"
    },
    {
     "name": "stdout",
     "output_type": "stream",
     "text": [
      "Epoch: 23, iteration: 20, d_real_acu: 0.4470588266849518, d_fake_acu: 0.7411764860153198, d_total_acu: 0.5941176414489746\n",
      "d_real_loss: 0.9754624366760254, d_fake_loss: 0.4839620292186737, g_loss: 1.8552483320236206\n"
     ]
    },
    {
     "data": {
      "application/vnd.jupyter.widget-view+json": {
       "model_id": "6fa3d521690d462680b96a525ac9fd4f",
       "version_major": 2,
       "version_minor": 0
      },
      "text/plain": [
       "Output()"
      ]
     },
     "metadata": {},
     "output_type": "display_data"
    },
    {
     "name": "stdout",
     "output_type": "stream",
     "text": [
      "Epoch: 23, d_loss: 1.2064025089854287, g_loss: 1.64603914249511, dacc: 0.6602667626880464\n",
      "Epoch: 24, iteration: 0, d_real_acu: 0.4140625, d_fake_acu: 1.0, d_total_acu: 0.70703125\n",
      "d_real_loss: 1.017168641090393, d_fake_loss: 0.26653677225112915, g_loss: 1.5424325466156006\n"
     ]
    },
    {
     "data": {
      "application/vnd.jupyter.widget-view+json": {
       "model_id": "05aec073d88a4dbfb29d91ae1eca36b0",
       "version_major": 2,
       "version_minor": 0
      },
      "text/plain": [
       "Output()"
      ]
     },
     "metadata": {},
     "output_type": "display_data"
    },
    {
     "name": "stdout",
     "output_type": "stream",
     "text": [
      "Epoch: 24, iteration: 4, d_real_acu: 0.3515625, d_fake_acu: 1.0, d_total_acu: 0.67578125\n",
      "d_real_loss: 1.0154063701629639, d_fake_loss: 0.44401925802230835, g_loss: 1.0462749004364014\n"
     ]
    },
    {
     "data": {
      "application/vnd.jupyter.widget-view+json": {
       "model_id": "eaae9efa7a6d4c24817143bc0c85d46b",
       "version_major": 2,
       "version_minor": 0
      },
      "text/plain": [
       "Output()"
      ]
     },
     "metadata": {},
     "output_type": "display_data"
    },
    {
     "name": "stdout",
     "output_type": "stream",
     "text": [
      "Epoch: 24, iteration: 8, d_real_acu: 0.3359375, d_fake_acu: 1.0, d_total_acu: 0.66796875\n",
      "d_real_loss: 0.8508597612380981, d_fake_loss: 0.5231145620346069, g_loss: 0.9153648614883423\n"
     ]
    },
    {
     "data": {
      "application/vnd.jupyter.widget-view+json": {
       "model_id": "ccbc7f98d42f4149af530b90d4cc212b",
       "version_major": 2,
       "version_minor": 0
      },
      "text/plain": [
       "Output()"
      ]
     },
     "metadata": {},
     "output_type": "display_data"
    },
    {
     "name": "stdout",
     "output_type": "stream",
     "text": [
      "Epoch: 24, iteration: 12, d_real_acu: 0.6484375, d_fake_acu: 0.69140625, d_total_acu: 0.669921875\n",
      "d_real_loss: 0.7076095342636108, d_fake_loss: 0.5761268138885498, g_loss: 0.8315985202789307\n"
     ]
    },
    {
     "data": {
      "application/vnd.jupyter.widget-view+json": {
       "model_id": "fbb29b23a84340f2a21378d5c49e24c9",
       "version_major": 2,
       "version_minor": 0
      },
      "text/plain": [
       "Output()"
      ]
     },
     "metadata": {},
     "output_type": "display_data"
    },
    {
     "name": "stdout",
     "output_type": "stream",
     "text": [
      "Epoch: 24, iteration: 16, d_real_acu: 0.734375, d_fake_acu: 0.4453125, d_total_acu: 0.58984375\n",
      "d_real_loss: 0.5986720323562622, d_fake_loss: 0.6411340832710266, g_loss: 0.9209854006767273\n"
     ]
    },
    {
     "data": {
      "application/vnd.jupyter.widget-view+json": {
       "model_id": "5160b4c02fb246fab84d0c1d630b7cc4",
       "version_major": 2,
       "version_minor": 0
      },
      "text/plain": [
       "Output()"
      ]
     },
     "metadata": {},
     "output_type": "display_data"
    },
    {
     "name": "stdout",
     "output_type": "stream",
     "text": [
      "Epoch: 24, iteration: 20, d_real_acu: 0.8470588326454163, d_fake_acu: 0.4176470637321472, d_total_acu: 0.6323529481887817\n",
      "d_real_loss: 0.468395471572876, d_fake_loss: 0.7661939263343811, g_loss: 0.6417579054832458\n"
     ]
    },
    {
     "data": {
      "application/vnd.jupyter.widget-view+json": {
       "model_id": "e278bba9814f4f0f8bde721542fec5eb",
       "version_major": 2,
       "version_minor": 0
      },
      "text/plain": [
       "Output()"
      ]
     },
     "metadata": {},
     "output_type": "display_data"
    },
    {
     "name": "stdout",
     "output_type": "stream",
     "text": [
      "Epoch: 24, d_loss: 1.3335513387407576, g_loss: 0.9702845073881603, dacc: 0.639022015389942\n",
      "Epoch: 25, iteration: 0, d_real_acu: 0.890625, d_fake_acu: 0.18359375, d_total_acu: 0.537109375\n",
      "d_real_loss: 0.45543915033340454, d_fake_loss: 0.8228424787521362, g_loss: 0.712361216545105\n"
     ]
    },
    {
     "data": {
      "application/vnd.jupyter.widget-view+json": {
       "model_id": "5db537933fac4b589086eda53d741197",
       "version_major": 2,
       "version_minor": 0
      },
      "text/plain": [
       "Output()"
      ]
     },
     "metadata": {},
     "output_type": "display_data"
    },
    {
     "name": "stdout",
     "output_type": "stream",
     "text": [
      "Epoch: 25, iteration: 4, d_real_acu: 0.9453125, d_fake_acu: 0.39453125, d_total_acu: 0.669921875\n",
      "d_real_loss: 0.34508323669433594, d_fake_loss: 0.7569090723991394, g_loss: 0.6820232272148132\n"
     ]
    },
    {
     "data": {
      "application/vnd.jupyter.widget-view+json": {
       "model_id": "8941ccd41aac432ebf513b80675b1d5c",
       "version_major": 2,
       "version_minor": 0
      },
      "text/plain": [
       "Output()"
      ]
     },
     "metadata": {},
     "output_type": "display_data"
    },
    {
     "name": "stdout",
     "output_type": "stream",
     "text": [
      "Epoch: 25, iteration: 8, d_real_acu: 0.9609375, d_fake_acu: 0.25, d_total_acu: 0.60546875\n",
      "d_real_loss: 0.337538480758667, d_fake_loss: 0.9091544151306152, g_loss: 0.5497809648513794\n"
     ]
    },
    {
     "data": {
      "application/vnd.jupyter.widget-view+json": {
       "model_id": "7837af4b548b4d21a14e1c0ed155f3fb",
       "version_major": 2,
       "version_minor": 0
      },
      "text/plain": [
       "Output()"
      ]
     },
     "metadata": {},
     "output_type": "display_data"
    },
    {
     "name": "stdout",
     "output_type": "stream",
     "text": [
      "Epoch: 25, iteration: 12, d_real_acu: 0.94921875, d_fake_acu: 0.44140625, d_total_acu: 0.6953125\n",
      "d_real_loss: 0.3490908741950989, d_fake_loss: 0.8275454044342041, g_loss: 0.631781816482544\n"
     ]
    },
    {
     "data": {
      "application/vnd.jupyter.widget-view+json": {
       "model_id": "66decfc573d947a99af69713d7e21798",
       "version_major": 2,
       "version_minor": 0
      },
      "text/plain": [
       "Output()"
      ]
     },
     "metadata": {},
     "output_type": "display_data"
    },
    {
     "name": "stdout",
     "output_type": "stream",
     "text": [
      "Epoch: 25, iteration: 16, d_real_acu: 0.96484375, d_fake_acu: 0.30078125, d_total_acu: 0.6328125\n",
      "d_real_loss: 0.3350236415863037, d_fake_loss: 0.9844549298286438, g_loss: 0.5116634368896484\n"
     ]
    },
    {
     "data": {
      "application/vnd.jupyter.widget-view+json": {
       "model_id": "9d3f8a61cbba4439a4721bb90fb43af0",
       "version_major": 2,
       "version_minor": 0
      },
      "text/plain": [
       "Output()"
      ]
     },
     "metadata": {},
     "output_type": "display_data"
    },
    {
     "name": "stdout",
     "output_type": "stream",
     "text": [
      "Epoch: 25, iteration: 20, d_real_acu: 0.8764706254005432, d_fake_acu: 0.364705890417099, d_total_acu: 0.6205882430076599\n",
      "d_real_loss: 0.4178452491760254, d_fake_loss: 0.8875086307525635, g_loss: 0.6055942177772522\n"
     ]
    },
    {
     "data": {
      "application/vnd.jupyter.widget-view+json": {
       "model_id": "3a658c4989854368b2f80ffe77421719",
       "version_major": 2,
       "version_minor": 0
      },
      "text/plain": [
       "Output()"
      ]
     },
     "metadata": {},
     "output_type": "display_data"
    },
    {
     "name": "stdout",
     "output_type": "stream",
     "text": [
      "Epoch: 25, d_loss: 1.2227030197779338, g_loss: 0.6342721553075881, dacc: 0.6401358984765553\n",
      "Epoch: 26, iteration: 0, d_real_acu: 0.90234375, d_fake_acu: 0.4375, d_total_acu: 0.669921875\n",
      "d_real_loss: 0.3856044411659241, d_fake_loss: 0.9209017157554626, g_loss: 0.5789996385574341\n"
     ]
    },
    {
     "data": {
      "application/vnd.jupyter.widget-view+json": {
       "model_id": "55ec9997bd5e4ff1b0fcc6b8921c81e1",
       "version_major": 2,
       "version_minor": 0
      },
      "text/plain": [
       "Output()"
      ]
     },
     "metadata": {},
     "output_type": "display_data"
    },
    {
     "name": "stdout",
     "output_type": "stream",
     "text": [
      "Epoch: 26, iteration: 4, d_real_acu: 0.74609375, d_fake_acu: 0.40234375, d_total_acu: 0.57421875\n",
      "d_real_loss: 0.4982755184173584, d_fake_loss: 0.7874082922935486, g_loss: 0.9974331855773926\n"
     ]
    },
    {
     "data": {
      "application/vnd.jupyter.widget-view+json": {
       "model_id": "2b5c1147bac5435aa9c23200e1fd690f",
       "version_major": 2,
       "version_minor": 0
      },
      "text/plain": [
       "Output()"
      ]
     },
     "metadata": {},
     "output_type": "display_data"
    },
    {
     "name": "stdout",
     "output_type": "stream",
     "text": [
      "Epoch: 26, iteration: 8, d_real_acu: 0.78125, d_fake_acu: 1.0, d_total_acu: 0.890625\n",
      "d_real_loss: 0.5340395569801331, d_fake_loss: 0.505398154258728, g_loss: 0.9789434671401978\n"
     ]
    },
    {
     "data": {
      "application/vnd.jupyter.widget-view+json": {
       "model_id": "6cf690be7eef46d68fdab4d9b9cb954b",
       "version_major": 2,
       "version_minor": 0
      },
      "text/plain": [
       "Output()"
      ]
     },
     "metadata": {},
     "output_type": "display_data"
    },
    {
     "name": "stdout",
     "output_type": "stream",
     "text": [
      "Epoch: 26, iteration: 12, d_real_acu: 0.8125, d_fake_acu: 1.0, d_total_acu: 0.90625\n",
      "d_real_loss: 0.5350204110145569, d_fake_loss: 0.5617474317550659, g_loss: 0.8390854001045227\n"
     ]
    },
    {
     "data": {
      "application/vnd.jupyter.widget-view+json": {
       "model_id": "2e130d0b9b0e4577aafb94c2abcd1317",
       "version_major": 2,
       "version_minor": 0
      },
      "text/plain": [
       "Output()"
      ]
     },
     "metadata": {},
     "output_type": "display_data"
    },
    {
     "name": "stdout",
     "output_type": "stream",
     "text": [
      "Epoch: 26, iteration: 16, d_real_acu: 0.8359375, d_fake_acu: 0.61328125, d_total_acu: 0.724609375\n",
      "d_real_loss: 0.5279279947280884, d_fake_loss: 0.6679685115814209, g_loss: 0.7328534126281738\n"
     ]
    },
    {
     "data": {
      "application/vnd.jupyter.widget-view+json": {
       "model_id": "16a732d9ab024f1d88a492b9e638fb76",
       "version_major": 2,
       "version_minor": 0
      },
      "text/plain": [
       "Output()"
      ]
     },
     "metadata": {},
     "output_type": "display_data"
    },
    {
     "name": "stdout",
     "output_type": "stream",
     "text": [
      "Epoch: 26, iteration: 20, d_real_acu: 0.7235293984413147, d_fake_acu: 0.6882352828979492, d_total_acu: 0.7058823704719543\n",
      "d_real_loss: 0.6574740409851074, d_fake_loss: 0.6737449169158936, g_loss: 0.7319411635398865\n"
     ]
    },
    {
     "data": {
      "application/vnd.jupyter.widget-view+json": {
       "model_id": "cc2087bc3ada40538ca0bad83d35fdfd",
       "version_major": 2,
       "version_minor": 0
      },
      "text/plain": [
       "Output()"
      ]
     },
     "metadata": {},
     "output_type": "display_data"
    },
    {
     "name": "stdout",
     "output_type": "stream",
     "text": [
      "Epoch: 26, d_loss: 1.22085322084881, g_loss: 0.8285563730058216, dacc: 0.6851201426415217\n",
      "Epoch: 27, iteration: 0, d_real_acu: 0.67578125, d_fake_acu: 0.67578125, d_total_acu: 0.67578125\n",
      "d_real_loss: 0.6623100638389587, d_fake_loss: 0.7168946266174316, g_loss: 0.6664911508560181\n"
     ]
    },
    {
     "data": {
      "application/vnd.jupyter.widget-view+json": {
       "model_id": "c6e1e38bceec4fa9931c23ca56680e71",
       "version_major": 2,
       "version_minor": 0
      },
      "text/plain": [
       "Output()"
      ]
     },
     "metadata": {},
     "output_type": "display_data"
    },
    {
     "name": "stdout",
     "output_type": "stream",
     "text": [
      "Epoch: 27, iteration: 4, d_real_acu: 0.203125, d_fake_acu: 1.0, d_total_acu: 0.6015625\n",
      "d_real_loss: 1.0164306163787842, d_fake_loss: 0.31868958473205566, g_loss: 1.2940938472747803\n"
     ]
    },
    {
     "data": {
      "application/vnd.jupyter.widget-view+json": {
       "model_id": "2ca7fbbaf246454cbc0cc390e967b89a",
       "version_major": 2,
       "version_minor": 0
      },
      "text/plain": [
       "Output()"
      ]
     },
     "metadata": {},
     "output_type": "display_data"
    },
    {
     "name": "stdout",
     "output_type": "stream",
     "text": [
      "Epoch: 27, iteration: 8, d_real_acu: 0.58203125, d_fake_acu: 0.66015625, d_total_acu: 0.62109375\n",
      "d_real_loss: 0.6496121287345886, d_fake_loss: 0.676154375076294, g_loss: 0.9122105836868286\n"
     ]
    },
    {
     "data": {
      "application/vnd.jupyter.widget-view+json": {
       "model_id": "d3fd5553fd4b4629856a506e0d216eab",
       "version_major": 2,
       "version_minor": 0
      },
      "text/plain": [
       "Output()"
      ]
     },
     "metadata": {},
     "output_type": "display_data"
    },
    {
     "name": "stdout",
     "output_type": "stream",
     "text": [
      "Epoch: 27, iteration: 12, d_real_acu: 0.5546875, d_fake_acu: 0.54296875, d_total_acu: 0.548828125\n",
      "d_real_loss: 0.6527884006500244, d_fake_loss: 0.9855525493621826, g_loss: 0.6826314330101013\n"
     ]
    },
    {
     "data": {
      "application/vnd.jupyter.widget-view+json": {
       "model_id": "c02c3924ec2a42f6b5436a6ab4c8165a",
       "version_major": 2,
       "version_minor": 0
      },
      "text/plain": [
       "Output()"
      ]
     },
     "metadata": {},
     "output_type": "display_data"
    },
    {
     "name": "stdout",
     "output_type": "stream",
     "text": [
      "Epoch: 27, iteration: 16, d_real_acu: 0.29296875, d_fake_acu: 1.0, d_total_acu: 0.646484375\n",
      "d_real_loss: 1.0311681032180786, d_fake_loss: 0.49194037914276123, g_loss: 0.9835832118988037\n"
     ]
    },
    {
     "data": {
      "application/vnd.jupyter.widget-view+json": {
       "model_id": "06bbd64b91a24c35bd82e0bf6e275c6b",
       "version_major": 2,
       "version_minor": 0
      },
      "text/plain": [
       "Output()"
      ]
     },
     "metadata": {},
     "output_type": "display_data"
    },
    {
     "name": "stdout",
     "output_type": "stream",
     "text": [
      "Epoch: 27, iteration: 20, d_real_acu: 0.2823529541492462, d_fake_acu: 0.5235294103622437, d_total_acu: 0.40294119715690613\n",
      "d_real_loss: 1.0859769582748413, d_fake_loss: 0.6409482955932617, g_loss: 0.7448939085006714\n"
     ]
    },
    {
     "data": {
      "application/vnd.jupyter.widget-view+json": {
       "model_id": "1bb33aa4d12e46269569343dc6ecabf3",
       "version_major": 2,
       "version_minor": 0
      },
      "text/plain": [
       "Output()"
      ]
     },
     "metadata": {},
     "output_type": "display_data"
    },
    {
     "name": "stdout",
     "output_type": "stream",
     "text": [
      "Epoch: 27, d_loss: 1.47456689675649, g_loss: 0.942331680229732, dacc: 0.5788044915312812\n",
      "Epoch: 28, iteration: 0, d_real_acu: 0.3515625, d_fake_acu: 0.34765625, d_total_acu: 0.349609375\n",
      "d_real_loss: 0.8787825107574463, d_fake_loss: 0.7273129224777222, g_loss: 0.607712984085083\n"
     ]
    },
    {
     "data": {
      "application/vnd.jupyter.widget-view+json": {
       "model_id": "3d2951a2341e4078a42078b8f1e0b520",
       "version_major": 2,
       "version_minor": 0
      },
      "text/plain": [
       "Output()"
      ]
     },
     "metadata": {},
     "output_type": "display_data"
    },
    {
     "name": "stdout",
     "output_type": "stream",
     "text": [
      "Epoch: 28, iteration: 4, d_real_acu: 0.73828125, d_fake_acu: 0.17578125, d_total_acu: 0.45703125\n",
      "d_real_loss: 0.6514289379119873, d_fake_loss: 0.7820128202438354, g_loss: 0.7495976686477661\n"
     ]
    },
    {
     "data": {
      "application/vnd.jupyter.widget-view+json": {
       "model_id": "fe2952663a5d483a81ca9830b39bf2ed",
       "version_major": 2,
       "version_minor": 0
      },
      "text/plain": [
       "Output()"
      ]
     },
     "metadata": {},
     "output_type": "display_data"
    },
    {
     "name": "stdout",
     "output_type": "stream",
     "text": [
      "Epoch: 28, iteration: 8, d_real_acu: 0.390625, d_fake_acu: 0.87890625, d_total_acu: 0.634765625\n",
      "d_real_loss: 0.7625494003295898, d_fake_loss: 0.6274102926254272, g_loss: 0.7493284940719604\n"
     ]
    },
    {
     "data": {
      "application/vnd.jupyter.widget-view+json": {
       "model_id": "e27c6f3e81994f54aaccc6dce9ccecf9",
       "version_major": 2,
       "version_minor": 0
      },
      "text/plain": [
       "Output()"
      ]
     },
     "metadata": {},
     "output_type": "display_data"
    },
    {
     "name": "stdout",
     "output_type": "stream",
     "text": [
      "Epoch: 28, iteration: 12, d_real_acu: 0.66796875, d_fake_acu: 0.16796875, d_total_acu: 0.41796875\n",
      "d_real_loss: 0.6557310819625854, d_fake_loss: 0.7775553464889526, g_loss: 0.662716269493103\n"
     ]
    },
    {
     "data": {
      "application/vnd.jupyter.widget-view+json": {
       "model_id": "913f68d437aa44b982b6c08d66e07db7",
       "version_major": 2,
       "version_minor": 0
      },
      "text/plain": [
       "Output()"
      ]
     },
     "metadata": {},
     "output_type": "display_data"
    },
    {
     "name": "stdout",
     "output_type": "stream",
     "text": [
      "Epoch: 28, iteration: 16, d_real_acu: 0.671875, d_fake_acu: 0.67578125, d_total_acu: 0.673828125\n",
      "d_real_loss: 0.6471068263053894, d_fake_loss: 0.6454499959945679, g_loss: 0.7579725384712219\n"
     ]
    },
    {
     "data": {
      "application/vnd.jupyter.widget-view+json": {
       "model_id": "5c2b8c3ccb864c1abac481266318d6c9",
       "version_major": 2,
       "version_minor": 0
      },
      "text/plain": [
       "Output()"
      ]
     },
     "metadata": {},
     "output_type": "display_data"
    },
    {
     "name": "stdout",
     "output_type": "stream",
     "text": [
      "Epoch: 28, iteration: 20, d_real_acu: 0.7235293984413147, d_fake_acu: 0.4529411792755127, d_total_acu: 0.5882353186607361\n",
      "d_real_loss: 0.6216760873794556, d_fake_loss: 0.676441490650177, g_loss: 0.7527008056640625\n"
     ]
    },
    {
     "data": {
      "application/vnd.jupyter.widget-view+json": {
       "model_id": "8d3813103f984142a6db3eb2a514e190",
       "version_major": 2,
       "version_minor": 0
      },
      "text/plain": [
       "Output()"
      ]
     },
     "metadata": {},
     "output_type": "display_data"
    },
    {
     "name": "stdout",
     "output_type": "stream",
     "text": [
      "Epoch: 28, d_loss: 1.418128530184428, g_loss: 0.7173255256244114, dacc: 0.4847634377933684\n",
      "Epoch: 29, iteration: 0, d_real_acu: 0.67578125, d_fake_acu: 0.53125, d_total_acu: 0.603515625\n",
      "d_real_loss: 0.6413785219192505, d_fake_loss: 0.6673211455345154, g_loss: 0.721898078918457\n"
     ]
    },
    {
     "data": {
      "application/vnd.jupyter.widget-view+json": {
       "model_id": "f1856ff2dd084f9181b96f5973f56d56",
       "version_major": 2,
       "version_minor": 0
      },
      "text/plain": [
       "Output()"
      ]
     },
     "metadata": {},
     "output_type": "display_data"
    },
    {
     "name": "stdout",
     "output_type": "stream",
     "text": [
      "Epoch: 29, iteration: 4, d_real_acu: 0.80859375, d_fake_acu: 0.57421875, d_total_acu: 0.69140625\n",
      "d_real_loss: 0.5542242527008057, d_fake_loss: 0.6778971552848816, g_loss: 0.7037116289138794\n"
     ]
    },
    {
     "data": {
      "application/vnd.jupyter.widget-view+json": {
       "model_id": "2f1b4f55650848f98cbdf352916b284d",
       "version_major": 2,
       "version_minor": 0
      },
      "text/plain": [
       "Output()"
      ]
     },
     "metadata": {},
     "output_type": "display_data"
    },
    {
     "name": "stdout",
     "output_type": "stream",
     "text": [
      "Epoch: 29, iteration: 8, d_real_acu: 0.7890625, d_fake_acu: 0.2890625, d_total_acu: 0.5390625\n",
      "d_real_loss: 0.5382729768753052, d_fake_loss: 0.7257465124130249, g_loss: 0.778222382068634\n"
     ]
    },
    {
     "data": {
      "application/vnd.jupyter.widget-view+json": {
       "model_id": "99d6c31b38fd446c8686978209060209",
       "version_major": 2,
       "version_minor": 0
      },
      "text/plain": [
       "Output()"
      ]
     },
     "metadata": {},
     "output_type": "display_data"
    },
    {
     "name": "stdout",
     "output_type": "stream",
     "text": [
      "Epoch: 29, iteration: 12, d_real_acu: 0.796875, d_fake_acu: 0.8828125, d_total_acu: 0.83984375\n",
      "d_real_loss: 0.5550905466079712, d_fake_loss: 0.5971519947052002, g_loss: 0.8027819395065308\n"
     ]
    },
    {
     "data": {
      "application/vnd.jupyter.widget-view+json": {
       "model_id": "94ebee8f572b4c9a8f71139dc0e5b28e",
       "version_major": 2,
       "version_minor": 0
      },
      "text/plain": [
       "Output()"
      ]
     },
     "metadata": {},
     "output_type": "display_data"
    },
    {
     "name": "stdout",
     "output_type": "stream",
     "text": [
      "Epoch: 29, iteration: 16, d_real_acu: 0.71484375, d_fake_acu: 0.96875, d_total_acu: 0.841796875\n",
      "d_real_loss: 0.5924435257911682, d_fake_loss: 0.5915492177009583, g_loss: 0.8174352645874023\n"
     ]
    },
    {
     "data": {
      "application/vnd.jupyter.widget-view+json": {
       "model_id": "3686adc4833547b8bed1fef6025befbf",
       "version_major": 2,
       "version_minor": 0
      },
      "text/plain": [
       "Output()"
      ]
     },
     "metadata": {},
     "output_type": "display_data"
    },
    {
     "name": "stdout",
     "output_type": "stream",
     "text": [
      "Epoch: 29, iteration: 20, d_real_acu: 0.6117647290229797, d_fake_acu: 1.0, d_total_acu: 0.8058823943138123\n",
      "d_real_loss: 0.6620089411735535, d_fake_loss: 0.5628767609596252, g_loss: 0.8546233177185059\n"
     ]
    },
    {
     "data": {
      "application/vnd.jupyter.widget-view+json": {
       "model_id": "12c92be8ef9f414aaa80900996d840af",
       "version_major": 2,
       "version_minor": 0
      },
      "text/plain": [
       "Output()"
      ]
     },
     "metadata": {},
     "output_type": "display_data"
    },
    {
     "name": "stdout",
     "output_type": "stream",
     "text": [
      "Epoch: 29, d_loss: 1.2404106514794486, g_loss: 0.7636735751515343, dacc: 0.6813255009197053\n",
      "Epoch: 30, iteration: 0, d_real_acu: 0.5625, d_fake_acu: 0.91796875, d_total_acu: 0.740234375\n",
      "d_real_loss: 0.6879856586456299, d_fake_loss: 0.6130993366241455, g_loss: 0.7968308925628662\n"
     ]
    },
    {
     "data": {
      "application/vnd.jupyter.widget-view+json": {
       "model_id": "682f54ae96a04e58bdbfde8974a49101",
       "version_major": 2,
       "version_minor": 0
      },
      "text/plain": [
       "Output()"
      ]
     },
     "metadata": {},
     "output_type": "display_data"
    },
    {
     "name": "stdout",
     "output_type": "stream",
     "text": [
      "Epoch: 30, iteration: 4, d_real_acu: 0.51171875, d_fake_acu: 0.94921875, d_total_acu: 0.73046875\n",
      "d_real_loss: 0.7048917412757874, d_fake_loss: 0.59837406873703, g_loss: 0.80184406042099\n"
     ]
    },
    {
     "data": {
      "application/vnd.jupyter.widget-view+json": {
       "model_id": "315d8604edeb42daa471cfce48c071df",
       "version_major": 2,
       "version_minor": 0
      },
      "text/plain": [
       "Output()"
      ]
     },
     "metadata": {},
     "output_type": "display_data"
    },
    {
     "name": "stdout",
     "output_type": "stream",
     "text": [
      "Epoch: 30, iteration: 8, d_real_acu: 0.42578125, d_fake_acu: 1.0, d_total_acu: 0.712890625\n",
      "d_real_loss: 0.7817499041557312, d_fake_loss: 0.5777993202209473, g_loss: 0.8247062563896179\n"
     ]
    },
    {
     "data": {
      "application/vnd.jupyter.widget-view+json": {
       "model_id": "38b9da9f078141eb971c9f3ef6ab0519",
       "version_major": 2,
       "version_minor": 0
      },
      "text/plain": [
       "Output()"
      ]
     },
     "metadata": {},
     "output_type": "display_data"
    },
    {
     "name": "stdout",
     "output_type": "stream",
     "text": [
      "Epoch: 30, iteration: 12, d_real_acu: 0.3984375, d_fake_acu: 1.0, d_total_acu: 0.69921875\n",
      "d_real_loss: 0.8041496872901917, d_fake_loss: 0.586660623550415, g_loss: 0.8284101486206055\n"
     ]
    },
    {
     "data": {
      "application/vnd.jupyter.widget-view+json": {
       "model_id": "c7e826885d3e4e5aa360727584e707e3",
       "version_major": 2,
       "version_minor": 0
      },
      "text/plain": [
       "Output()"
      ]
     },
     "metadata": {},
     "output_type": "display_data"
    },
    {
     "name": "stdout",
     "output_type": "stream",
     "text": [
      "Epoch: 30, iteration: 16, d_real_acu: 0.328125, d_fake_acu: 1.0, d_total_acu: 0.6640625\n",
      "d_real_loss: 0.8220341801643372, d_fake_loss: 0.5837245583534241, g_loss: 0.8231223821640015\n"
     ]
    },
    {
     "data": {
      "application/vnd.jupyter.widget-view+json": {
       "model_id": "6a0d3e02ad96416ca9a8a1de101eab6e",
       "version_major": 2,
       "version_minor": 0
      },
      "text/plain": [
       "Output()"
      ]
     },
     "metadata": {},
     "output_type": "display_data"
    },
    {
     "name": "stdout",
     "output_type": "stream",
     "text": [
      "Epoch: 30, iteration: 20, d_real_acu: 0.3294117748737335, d_fake_acu: 1.0, d_total_acu: 0.6647058725357056\n",
      "d_real_loss: 0.8499376177787781, d_fake_loss: 0.5404725074768066, g_loss: 0.8391868472099304\n"
     ]
    },
    {
     "data": {
      "application/vnd.jupyter.widget-view+json": {
       "model_id": "43c12bfebbfa4015ab1c51183dd5e5d6",
       "version_major": 2,
       "version_minor": 0
      },
      "text/plain": [
       "Output()"
      ]
     },
     "metadata": {},
     "output_type": "display_data"
    },
    {
     "name": "stdout",
     "output_type": "stream",
     "text": [
      "Epoch: 30, d_loss: 1.381694203331357, g_loss: 0.8285550986017499, dacc: 0.6473520653588432\n",
      "Epoch: 31, iteration: 0, d_real_acu: 0.234375, d_fake_acu: 1.0, d_total_acu: 0.6171875\n",
      "d_real_loss: 0.8728482723236084, d_fake_loss: 0.5838483572006226, g_loss: 0.8015779852867126\n"
     ]
    },
    {
     "data": {
      "application/vnd.jupyter.widget-view+json": {
       "model_id": "48655c2b798f42cba13bba60e59a2426",
       "version_major": 2,
       "version_minor": 0
      },
      "text/plain": [
       "Output()"
      ]
     },
     "metadata": {},
     "output_type": "display_data"
    },
    {
     "name": "stdout",
     "output_type": "stream",
     "text": [
      "Epoch: 31, iteration: 4, d_real_acu: 0.28515625, d_fake_acu: 0.96484375, d_total_acu: 0.625\n",
      "d_real_loss: 0.8790466785430908, d_fake_loss: 0.6029864549636841, g_loss: 0.7909420132637024\n"
     ]
    },
    {
     "data": {
      "application/vnd.jupyter.widget-view+json": {
       "model_id": "f9b2192fd63145dc9bbe8d5544ab24cb",
       "version_major": 2,
       "version_minor": 0
      },
      "text/plain": [
       "Output()"
      ]
     },
     "metadata": {},
     "output_type": "display_data"
    },
    {
     "name": "stdout",
     "output_type": "stream",
     "text": [
      "Epoch: 31, iteration: 8, d_real_acu: 0.3671875, d_fake_acu: 1.0, d_total_acu: 0.68359375\n",
      "d_real_loss: 0.7932230234146118, d_fake_loss: 0.5083376169204712, g_loss: 0.9222408533096313\n"
     ]
    },
    {
     "data": {
      "application/vnd.jupyter.widget-view+json": {
       "model_id": "5ef0dd8bae5942658c73ac2c10adb01e",
       "version_major": 2,
       "version_minor": 0
      },
      "text/plain": [
       "Output()"
      ]
     },
     "metadata": {},
     "output_type": "display_data"
    },
    {
     "name": "stdout",
     "output_type": "stream",
     "text": [
      "Epoch: 31, iteration: 12, d_real_acu: 0.3671875, d_fake_acu: 0.58203125, d_total_acu: 0.474609375\n",
      "d_real_loss: 0.7650835514068604, d_fake_loss: 0.6553022861480713, g_loss: 0.8519659042358398\n"
     ]
    },
    {
     "data": {
      "application/vnd.jupyter.widget-view+json": {
       "model_id": "bbcbfee7d4c84de694941f00bc7f495b",
       "version_major": 2,
       "version_minor": 0
      },
      "text/plain": [
       "Output()"
      ]
     },
     "metadata": {},
     "output_type": "display_data"
    },
    {
     "name": "stdout",
     "output_type": "stream",
     "text": [
      "Epoch: 31, iteration: 16, d_real_acu: 0.6328125, d_fake_acu: 0.96484375, d_total_acu: 0.798828125\n",
      "d_real_loss: 0.6915172338485718, d_fake_loss: 0.5629894733428955, g_loss: 0.84718918800354\n"
     ]
    },
    {
     "data": {
      "application/vnd.jupyter.widget-view+json": {
       "model_id": "c21e81b9671e4e0a8bb3e9a25cf72ae1",
       "version_major": 2,
       "version_minor": 0
      },
      "text/plain": [
       "Output()"
      ]
     },
     "metadata": {},
     "output_type": "display_data"
    },
    {
     "name": "stdout",
     "output_type": "stream",
     "text": [
      "Epoch: 31, iteration: 20, d_real_acu: 0.4529411792755127, d_fake_acu: 0.9529411792755127, d_total_acu: 0.7029411792755127\n",
      "d_real_loss: 0.77065110206604, d_fake_loss: 0.5857295989990234, g_loss: 0.8211261034011841\n"
     ]
    },
    {
     "data": {
      "application/vnd.jupyter.widget-view+json": {
       "model_id": "fa0b47115a9a45bea5b7268bb17df83e",
       "version_major": 2,
       "version_minor": 0
      },
      "text/plain": [
       "Output()"
      ]
     },
     "metadata": {},
     "output_type": "display_data"
    },
    {
     "name": "stdout",
     "output_type": "stream",
     "text": [
      "Epoch: 31, d_loss: 1.3865267435709636, g_loss: 0.8940155562900362, dacc: 0.605832020441691\n",
      "Epoch: 32, iteration: 0, d_real_acu: 0.47265625, d_fake_acu: 0.4453125, d_total_acu: 0.458984375\n",
      "d_real_loss: 0.759962260723114, d_fake_loss: 0.6577727794647217, g_loss: 0.8734428882598877\n"
     ]
    },
    {
     "data": {
      "application/vnd.jupyter.widget-view+json": {
       "model_id": "b08d62ed3d89474ebea7968f50aea9ce",
       "version_major": 2,
       "version_minor": 0
      },
      "text/plain": [
       "Output()"
      ]
     },
     "metadata": {},
     "output_type": "display_data"
    },
    {
     "name": "stdout",
     "output_type": "stream",
     "text": [
      "Epoch: 32, iteration: 4, d_real_acu: 0.48046875, d_fake_acu: 0.7890625, d_total_acu: 0.634765625\n",
      "d_real_loss: 0.7417968511581421, d_fake_loss: 0.6426646709442139, g_loss: 0.7716237306594849\n"
     ]
    },
    {
     "data": {
      "application/vnd.jupyter.widget-view+json": {
       "model_id": "ca5c5c3f6b7c4337837834bcff38abe7",
       "version_major": 2,
       "version_minor": 0
      },
      "text/plain": [
       "Output()"
      ]
     },
     "metadata": {},
     "output_type": "display_data"
    },
    {
     "name": "stdout",
     "output_type": "stream",
     "text": [
      "Epoch: 32, iteration: 8, d_real_acu: 0.609375, d_fake_acu: 0.44140625, d_total_acu: 0.525390625\n",
      "d_real_loss: 0.6919938325881958, d_fake_loss: 0.7544835805892944, g_loss: 0.7833783626556396\n"
     ]
    },
    {
     "data": {
      "application/vnd.jupyter.widget-view+json": {
       "model_id": "e1d5574090e44394abf012f6ae173957",
       "version_major": 2,
       "version_minor": 0
      },
      "text/plain": [
       "Output()"
      ]
     },
     "metadata": {},
     "output_type": "display_data"
    },
    {
     "name": "stdout",
     "output_type": "stream",
     "text": [
      "Epoch: 32, iteration: 12, d_real_acu: 0.5625, d_fake_acu: 0.8203125, d_total_acu: 0.69140625\n",
      "d_real_loss: 0.7035431861877441, d_fake_loss: 0.6105085611343384, g_loss: 0.8112518191337585\n"
     ]
    },
    {
     "data": {
      "application/vnd.jupyter.widget-view+json": {
       "model_id": "df6b87631ad34371ac6b1a79b10912d2",
       "version_major": 2,
       "version_minor": 0
      },
      "text/plain": [
       "Output()"
      ]
     },
     "metadata": {},
     "output_type": "display_data"
    },
    {
     "name": "stdout",
     "output_type": "stream",
     "text": [
      "Epoch: 32, iteration: 16, d_real_acu: 0.4765625, d_fake_acu: 0.9375, d_total_acu: 0.70703125\n",
      "d_real_loss: 0.7191763520240784, d_fake_loss: 0.6226798295974731, g_loss: 0.7760525345802307\n"
     ]
    },
    {
     "data": {
      "application/vnd.jupyter.widget-view+json": {
       "model_id": "0d57a4240f2949088e4f0057c6bd0dd0",
       "version_major": 2,
       "version_minor": 0
      },
      "text/plain": [
       "Output()"
      ]
     },
     "metadata": {},
     "output_type": "display_data"
    },
    {
     "name": "stdout",
     "output_type": "stream",
     "text": [
      "Epoch: 32, iteration: 20, d_real_acu: 0.5529412031173706, d_fake_acu: 0.5058823823928833, d_total_acu: 0.529411792755127\n",
      "d_real_loss: 0.6906380653381348, d_fake_loss: 0.669462263584137, g_loss: 0.8986713290214539\n"
     ]
    },
    {
     "data": {
      "application/vnd.jupyter.widget-view+json": {
       "model_id": "4b29215f60a5439a86b175f5498954bc",
       "version_major": 2,
       "version_minor": 0
      },
      "text/plain": [
       "Output()"
      ]
     },
     "metadata": {},
     "output_type": "display_data"
    },
    {
     "name": "stdout",
     "output_type": "stream",
     "text": [
      "Epoch: 32, d_loss: 1.3900608619054158, g_loss: 0.8171225842975435, dacc: 0.5741312163216727\n",
      "Epoch: 33, iteration: 0, d_real_acu: 0.703125, d_fake_acu: 0.58203125, d_total_acu: 0.642578125\n",
      "d_real_loss: 0.6046620607376099, d_fake_loss: 0.6268124580383301, g_loss: 0.7834177613258362\n"
     ]
    },
    {
     "data": {
      "application/vnd.jupyter.widget-view+json": {
       "model_id": "b1629edf22a04d4b841d146ca7cd6366",
       "version_major": 2,
       "version_minor": 0
      },
      "text/plain": [
       "Output()"
      ]
     },
     "metadata": {},
     "output_type": "display_data"
    },
    {
     "name": "stdout",
     "output_type": "stream",
     "text": [
      "Epoch: 33, iteration: 4, d_real_acu: 0.84375, d_fake_acu: 0.1953125, d_total_acu: 0.51953125\n",
      "d_real_loss: 0.5249377489089966, d_fake_loss: 0.7852770686149597, g_loss: 0.8978115320205688\n"
     ]
    },
    {
     "data": {
      "application/vnd.jupyter.widget-view+json": {
       "model_id": "2e09a75d2299405facf074ad8416d123",
       "version_major": 2,
       "version_minor": 0
      },
      "text/plain": [
       "Output()"
      ]
     },
     "metadata": {},
     "output_type": "display_data"
    },
    {
     "name": "stdout",
     "output_type": "stream",
     "text": [
      "Epoch: 33, iteration: 8, d_real_acu: 0.75390625, d_fake_acu: 0.7890625, d_total_acu: 0.771484375\n",
      "d_real_loss: 0.5631040334701538, d_fake_loss: 0.5389987230300903, g_loss: 0.931228518486023\n"
     ]
    },
    {
     "data": {
      "application/vnd.jupyter.widget-view+json": {
       "model_id": "e14106f9a6e24ffab9a766c86a62648e",
       "version_major": 2,
       "version_minor": 0
      },
      "text/plain": [
       "Output()"
      ]
     },
     "metadata": {},
     "output_type": "display_data"
    },
    {
     "name": "stdout",
     "output_type": "stream",
     "text": [
      "Epoch: 33, iteration: 12, d_real_acu: 0.78125, d_fake_acu: 0.046875, d_total_acu: 0.4140625\n",
      "d_real_loss: 0.559334397315979, d_fake_loss: 0.7982083559036255, g_loss: 1.1417946815490723\n"
     ]
    },
    {
     "data": {
      "application/vnd.jupyter.widget-view+json": {
       "model_id": "12e5ff251fbe4a7cb37f05872839d351",
       "version_major": 2,
       "version_minor": 0
      },
      "text/plain": [
       "Output()"
      ]
     },
     "metadata": {},
     "output_type": "display_data"
    },
    {
     "name": "stdout",
     "output_type": "stream",
     "text": [
      "Epoch: 33, iteration: 16, d_real_acu: 0.67578125, d_fake_acu: 0.56640625, d_total_acu: 0.62109375\n",
      "d_real_loss: 0.6199110746383667, d_fake_loss: 0.582383394241333, g_loss: 0.8974569439888\n"
     ]
    },
    {
     "data": {
      "application/vnd.jupyter.widget-view+json": {
       "model_id": "fba05080f5164ceb9e8a7401a6a0ace3",
       "version_major": 2,
       "version_minor": 0
      },
      "text/plain": [
       "Output()"
      ]
     },
     "metadata": {},
     "output_type": "display_data"
    },
    {
     "name": "stdout",
     "output_type": "stream",
     "text": [
      "Epoch: 33, iteration: 20, d_real_acu: 0.8176470994949341, d_fake_acu: 0.5764706134796143, d_total_acu: 0.6970588564872742\n",
      "d_real_loss: 0.5505582094192505, d_fake_loss: 0.4939402937889099, g_loss: 1.2058570384979248\n"
     ]
    },
    {
     "data": {
      "application/vnd.jupyter.widget-view+json": {
       "model_id": "69ec6f982d074fbf9f27c84bd3bc6ced",
       "version_major": 2,
       "version_minor": 0
      },
      "text/plain": [
       "Output()"
      ]
     },
     "metadata": {},
     "output_type": "display_data"
    },
    {
     "name": "stdout",
     "output_type": "stream",
     "text": [
      "Epoch: 33, d_loss: 1.1984985697837103, g_loss: 0.9214667365664527, dacc: 0.6487066717374892\n",
      "Epoch: 34, iteration: 0, d_real_acu: 0.84375, d_fake_acu: 0.5546875, d_total_acu: 0.69921875\n",
      "d_real_loss: 0.5522068738937378, d_fake_loss: 0.5001927018165588, g_loss: 1.1489332914352417\n"
     ]
    },
    {
     "data": {
      "application/vnd.jupyter.widget-view+json": {
       "model_id": "fcfc9e61923140bbbd4a938c7d41f8bf",
       "version_major": 2,
       "version_minor": 0
      },
      "text/plain": [
       "Output()"
      ]
     },
     "metadata": {},
     "output_type": "display_data"
    },
    {
     "name": "stdout",
     "output_type": "stream",
     "text": [
      "Epoch: 34, iteration: 4, d_real_acu: 0.80859375, d_fake_acu: 0.55859375, d_total_acu: 0.68359375\n",
      "d_real_loss: 0.5568943023681641, d_fake_loss: 0.5865488052368164, g_loss: 0.9580749869346619\n"
     ]
    },
    {
     "data": {
      "application/vnd.jupyter.widget-view+json": {
       "model_id": "6d6a14a7739641d9b78c328edb606177",
       "version_major": 2,
       "version_minor": 0
      },
      "text/plain": [
       "Output()"
      ]
     },
     "metadata": {},
     "output_type": "display_data"
    },
    {
     "name": "stdout",
     "output_type": "stream",
     "text": [
      "Epoch: 34, iteration: 8, d_real_acu: 0.82421875, d_fake_acu: 0.5390625, d_total_acu: 0.681640625\n",
      "d_real_loss: 0.5532042980194092, d_fake_loss: 0.6951525807380676, g_loss: 0.838352382183075\n"
     ]
    },
    {
     "data": {
      "application/vnd.jupyter.widget-view+json": {
       "model_id": "7393fb4d9d8946f38d6c286f31fbadf6",
       "version_major": 2,
       "version_minor": 0
      },
      "text/plain": [
       "Output()"
      ]
     },
     "metadata": {},
     "output_type": "display_data"
    },
    {
     "name": "stdout",
     "output_type": "stream",
     "text": [
      "Epoch: 34, iteration: 12, d_real_acu: 0.7890625, d_fake_acu: 0.453125, d_total_acu: 0.62109375\n",
      "d_real_loss: 0.5776363611221313, d_fake_loss: 0.8180291056632996, g_loss: 0.7471197843551636\n"
     ]
    },
    {
     "data": {
      "application/vnd.jupyter.widget-view+json": {
       "model_id": "4b747ee9d3114eb196296b950da38d2c",
       "version_major": 2,
       "version_minor": 0
      },
      "text/plain": [
       "Output()"
      ]
     },
     "metadata": {},
     "output_type": "display_data"
    },
    {
     "name": "stdout",
     "output_type": "stream",
     "text": [
      "Epoch: 34, iteration: 16, d_real_acu: 0.8203125, d_fake_acu: 0.48046875, d_total_acu: 0.650390625\n",
      "d_real_loss: 0.5509359836578369, d_fake_loss: 0.8761579990386963, g_loss: 0.6654071807861328\n"
     ]
    },
    {
     "data": {
      "application/vnd.jupyter.widget-view+json": {
       "model_id": "54aac65a9f9f41689bcd1ab744317b06",
       "version_major": 2,
       "version_minor": 0
      },
      "text/plain": [
       "Output()"
      ]
     },
     "metadata": {},
     "output_type": "display_data"
    },
    {
     "name": "stdout",
     "output_type": "stream",
     "text": [
      "Epoch: 34, iteration: 20, d_real_acu: 0.7882353067398071, d_fake_acu: 0.4176470637321472, d_total_acu: 0.6029412150382996\n",
      "d_real_loss: 0.5718917846679688, d_fake_loss: 0.9630259871482849, g_loss: 0.5692939758300781\n"
     ]
    },
    {
     "data": {
      "application/vnd.jupyter.widget-view+json": {
       "model_id": "c358f93e3fdb43879dc633bb73bd21eb",
       "version_major": 2,
       "version_minor": 0
      },
      "text/plain": [
       "Output()"
      ]
     },
     "metadata": {},
     "output_type": "display_data"
    },
    {
     "name": "stdout",
     "output_type": "stream",
     "text": [
      "Epoch: 34, d_loss: 1.3056515795843942, g_loss: 0.8260031030291602, dacc: 0.6521303852399191\n",
      "Epoch: 35, iteration: 0, d_real_acu: 0.77734375, d_fake_acu: 0.4296875, d_total_acu: 0.603515625\n",
      "d_real_loss: 0.5629715919494629, d_fake_loss: 0.99358069896698, g_loss: 0.5835691690444946\n"
     ]
    },
    {
     "data": {
      "application/vnd.jupyter.widget-view+json": {
       "model_id": "d3734fb1458f4edeb92c138dab78ec7a",
       "version_major": 2,
       "version_minor": 0
      },
      "text/plain": [
       "Output()"
      ]
     },
     "metadata": {},
     "output_type": "display_data"
    },
    {
     "name": "stdout",
     "output_type": "stream",
     "text": [
      "Epoch: 35, iteration: 4, d_real_acu: 0.84765625, d_fake_acu: 0.390625, d_total_acu: 0.619140625\n",
      "d_real_loss: 0.5504908561706543, d_fake_loss: 1.078662633895874, g_loss: 0.5156204104423523\n"
     ]
    },
    {
     "data": {
      "application/vnd.jupyter.widget-view+json": {
       "model_id": "17b1e693a6fe4abeb0889734e932f99f",
       "version_major": 2,
       "version_minor": 0
      },
      "text/plain": [
       "Output()"
      ]
     },
     "metadata": {},
     "output_type": "display_data"
    },
    {
     "name": "stdout",
     "output_type": "stream",
     "text": [
      "Epoch: 35, iteration: 8, d_real_acu: 0.7578125, d_fake_acu: 0.5, d_total_acu: 0.62890625\n",
      "d_real_loss: 0.5192767381668091, d_fake_loss: 0.49859583377838135, g_loss: 1.2489213943481445\n"
     ]
    },
    {
     "data": {
      "application/vnd.jupyter.widget-view+json": {
       "model_id": "e780be26e9894270bf88b130db19eca7",
       "version_major": 2,
       "version_minor": 0
      },
      "text/plain": [
       "Output()"
      ]
     },
     "metadata": {},
     "output_type": "display_data"
    },
    {
     "name": "stdout",
     "output_type": "stream",
     "text": [
      "Epoch: 35, iteration: 12, d_real_acu: 0.65625, d_fake_acu: 1.0, d_total_acu: 0.828125\n",
      "d_real_loss: 0.5173199772834778, d_fake_loss: 0.39207723736763, g_loss: 1.5822055339813232\n"
     ]
    },
    {
     "data": {
      "application/vnd.jupyter.widget-view+json": {
       "model_id": "39e19d27e0584298889a1285e2929e51",
       "version_major": 2,
       "version_minor": 0
      },
      "text/plain": [
       "Output()"
      ]
     },
     "metadata": {},
     "output_type": "display_data"
    },
    {
     "name": "stdout",
     "output_type": "stream",
     "text": [
      "Epoch: 35, iteration: 16, d_real_acu: 0.73046875, d_fake_acu: 0.625, d_total_acu: 0.677734375\n",
      "d_real_loss: 0.48746275901794434, d_fake_loss: 0.500180184841156, g_loss: 1.287123441696167\n"
     ]
    },
    {
     "data": {
      "application/vnd.jupyter.widget-view+json": {
       "model_id": "45fb68d73512430db07dafc0337e7d6b",
       "version_major": 2,
       "version_minor": 0
      },
      "text/plain": [
       "Output()"
      ]
     },
     "metadata": {},
     "output_type": "display_data"
    },
    {
     "name": "stdout",
     "output_type": "stream",
     "text": [
      "Epoch: 35, iteration: 20, d_real_acu: 0.6058823466300964, d_fake_acu: 0.8352941274642944, d_total_acu: 0.7205882668495178\n",
      "d_real_loss: 0.5295538306236267, d_fake_loss: 0.49593013525009155, g_loss: 1.062326192855835\n"
     ]
    },
    {
     "data": {
      "application/vnd.jupyter.widget-view+json": {
       "model_id": "aad6bb7414e843328aad1aea2a17c16c",
       "version_major": 2,
       "version_minor": 0
      },
      "text/plain": [
       "Output()"
      ]
     },
     "metadata": {},
     "output_type": "display_data"
    },
    {
     "name": "stdout",
     "output_type": "stream",
     "text": [
      "Epoch: 35, d_loss: 1.1838051194236392, g_loss: 1.1318687200546265, dacc: 0.6825652150880723\n",
      "Epoch: 36, iteration: 0, d_real_acu: 0.65625, d_fake_acu: 0.6171875, d_total_acu: 0.63671875\n",
      "d_real_loss: 0.4970479905605316, d_fake_loss: 0.6047052145004272, g_loss: 0.864457368850708\n"
     ]
    },
    {
     "data": {
      "application/vnd.jupyter.widget-view+json": {
       "model_id": "312ca89a30ca4bfd9ee479e269fb717e",
       "version_major": 2,
       "version_minor": 0
      },
      "text/plain": [
       "Output()"
      ]
     },
     "metadata": {},
     "output_type": "display_data"
    },
    {
     "name": "stdout",
     "output_type": "stream",
     "text": [
      "Epoch: 36, iteration: 4, d_real_acu: 0.50390625, d_fake_acu: 0.6171875, d_total_acu: 0.560546875\n",
      "d_real_loss: 0.5489528179168701, d_fake_loss: 0.7673487067222595, g_loss: 1.2341111898422241\n"
     ]
    },
    {
     "data": {
      "application/vnd.jupyter.widget-view+json": {
       "model_id": "e6cded1d5cb748ecbca9843e112af15e",
       "version_major": 2,
       "version_minor": 0
      },
      "text/plain": [
       "Output()"
      ]
     },
     "metadata": {},
     "output_type": "display_data"
    },
    {
     "name": "stdout",
     "output_type": "stream",
     "text": [
      "Epoch: 36, iteration: 8, d_real_acu: 0.43359375, d_fake_acu: 0.76953125, d_total_acu: 0.6015625\n",
      "d_real_loss: 0.7381464242935181, d_fake_loss: 0.4080623686313629, g_loss: 1.239509105682373\n"
     ]
    },
    {
     "data": {
      "application/vnd.jupyter.widget-view+json": {
       "model_id": "114cb900969a460bbf0fc9f4ec4c6569",
       "version_major": 2,
       "version_minor": 0
      },
      "text/plain": [
       "Output()"
      ]
     },
     "metadata": {},
     "output_type": "display_data"
    },
    {
     "name": "stdout",
     "output_type": "stream",
     "text": [
      "Epoch: 36, iteration: 12, d_real_acu: 0.3203125, d_fake_acu: 1.0, d_total_acu: 0.66015625\n",
      "d_real_loss: 0.8179563283920288, d_fake_loss: 0.39069288969039917, g_loss: 1.1959826946258545\n"
     ]
    },
    {
     "data": {
      "application/vnd.jupyter.widget-view+json": {
       "model_id": "cca6e95c63ee46b69765ae618761cb05",
       "version_major": 2,
       "version_minor": 0
      },
      "text/plain": [
       "Output()"
      ]
     },
     "metadata": {},
     "output_type": "display_data"
    },
    {
     "name": "stdout",
     "output_type": "stream",
     "text": [
      "Epoch: 36, iteration: 16, d_real_acu: 0.30859375, d_fake_acu: 1.0, d_total_acu: 0.654296875\n",
      "d_real_loss: 0.8372859954833984, d_fake_loss: 0.3261463940143585, g_loss: 1.3069030046463013\n"
     ]
    },
    {
     "data": {
      "application/vnd.jupyter.widget-view+json": {
       "model_id": "5a4a3379e84049de884e44577fbff2b6",
       "version_major": 2,
       "version_minor": 0
      },
      "text/plain": [
       "Output()"
      ]
     },
     "metadata": {},
     "output_type": "display_data"
    },
    {
     "name": "stdout",
     "output_type": "stream",
     "text": [
      "Epoch: 36, iteration: 20, d_real_acu: 0.30000001192092896, d_fake_acu: 0.8705882430076599, d_total_acu: 0.5852941274642944\n",
      "d_real_loss: 0.8274146914482117, d_fake_loss: 0.5659011006355286, g_loss: 1.3501132726669312\n"
     ]
    },
    {
     "data": {
      "application/vnd.jupyter.widget-view+json": {
       "model_id": "469b352f4c524d53b82b5219f86870e4",
       "version_major": 2,
       "version_minor": 0
      },
      "text/plain": [
       "Output()"
      ]
     },
     "metadata": {},
     "output_type": "display_data"
    },
    {
     "name": "stdout",
     "output_type": "stream",
     "text": [
      "Epoch: 36, d_loss: 1.1884640568778628, g_loss: 1.238063131059919, dacc: 0.6304567144030616\n",
      "Epoch: 37, iteration: 0, d_real_acu: 0.55859375, d_fake_acu: 1.0, d_total_acu: 0.779296875\n",
      "d_real_loss: 0.709496796131134, d_fake_loss: 0.4269768297672272, g_loss: 1.2076187133789062\n"
     ]
    },
    {
     "data": {
      "application/vnd.jupyter.widget-view+json": {
       "model_id": "63683c0a5a764c3181011465d8e828f0",
       "version_major": 2,
       "version_minor": 0
      },
      "text/plain": [
       "Output()"
      ]
     },
     "metadata": {},
     "output_type": "display_data"
    },
    {
     "name": "stdout",
     "output_type": "stream",
     "text": [
      "Epoch: 37, iteration: 4, d_real_acu: 0.86328125, d_fake_acu: 1.0, d_total_acu: 0.931640625\n",
      "d_real_loss: 0.5456013679504395, d_fake_loss: 0.4183090925216675, g_loss: 1.312528133392334\n"
     ]
    },
    {
     "data": {
      "application/vnd.jupyter.widget-view+json": {
       "model_id": "409d5b22def6412a8b221b9dc4b6af6c",
       "version_major": 2,
       "version_minor": 0
      },
      "text/plain": [
       "Output()"
      ]
     },
     "metadata": {},
     "output_type": "display_data"
    },
    {
     "name": "stdout",
     "output_type": "stream",
     "text": [
      "Epoch: 37, iteration: 8, d_real_acu: 0.828125, d_fake_acu: 0.43359375, d_total_acu: 0.630859375\n",
      "d_real_loss: 0.5640397071838379, d_fake_loss: 0.5825427174568176, g_loss: 0.8948197960853577\n"
     ]
    },
    {
     "data": {
      "application/vnd.jupyter.widget-view+json": {
       "model_id": "a01807de74e5462daaa9514999bd3129",
       "version_major": 2,
       "version_minor": 0
      },
      "text/plain": [
       "Output()"
      ]
     },
     "metadata": {},
     "output_type": "display_data"
    },
    {
     "name": "stdout",
     "output_type": "stream",
     "text": [
      "Epoch: 37, iteration: 12, d_real_acu: 0.9140625, d_fake_acu: 1.0, d_total_acu: 0.95703125\n",
      "d_real_loss: 0.46344122290611267, d_fake_loss: 0.5446790456771851, g_loss: 0.9145634174346924\n"
     ]
    },
    {
     "data": {
      "application/vnd.jupyter.widget-view+json": {
       "model_id": "65d078aa572a4009a02cda421212a4cf",
       "version_major": 2,
       "version_minor": 0
      },
      "text/plain": [
       "Output()"
      ]
     },
     "metadata": {},
     "output_type": "display_data"
    },
    {
     "name": "stdout",
     "output_type": "stream",
     "text": [
      "Epoch: 37, iteration: 16, d_real_acu: 0.94140625, d_fake_acu: 0.28515625, d_total_acu: 0.61328125\n",
      "d_real_loss: 0.4324277341365814, d_fake_loss: 0.777393102645874, g_loss: 0.628944993019104\n"
     ]
    },
    {
     "data": {
      "application/vnd.jupyter.widget-view+json": {
       "model_id": "74ae7ecde4524cb9adcbaaa5cdebe289",
       "version_major": 2,
       "version_minor": 0
      },
      "text/plain": [
       "Output()"
      ]
     },
     "metadata": {},
     "output_type": "display_data"
    },
    {
     "name": "stdout",
     "output_type": "stream",
     "text": [
      "Epoch: 37, iteration: 20, d_real_acu: 0.9705882668495178, d_fake_acu: 0.3235294222831726, d_total_acu: 0.6470588445663452\n",
      "d_real_loss: 0.3789108395576477, d_fake_loss: 0.7301536798477173, g_loss: 0.6682438254356384\n"
     ]
    },
    {
     "data": {
      "application/vnd.jupyter.widget-view+json": {
       "model_id": "7855adc9e66c4051beeae29586e31ac8",
       "version_major": 2,
       "version_minor": 0
      },
      "text/plain": [
       "Output()"
      ]
     },
     "metadata": {},
     "output_type": "display_data"
    },
    {
     "name": "stdout",
     "output_type": "stream",
     "text": [
      "Epoch: 37, d_loss: 1.1047939629781813, g_loss: 0.9814018436840602, dacc: 0.737378546169826\n",
      "Epoch: 38, iteration: 0, d_real_acu: 0.921875, d_fake_acu: 0.09375, d_total_acu: 0.5078125\n",
      "d_real_loss: 0.4054447412490845, d_fake_loss: 0.7957454919815063, g_loss: 1.0984216928482056\n"
     ]
    },
    {
     "data": {
      "application/vnd.jupyter.widget-view+json": {
       "model_id": "610506e2b203481d84c71237c0ddc868",
       "version_major": 2,
       "version_minor": 0
      },
      "text/plain": [
       "Output()"
      ]
     },
     "metadata": {},
     "output_type": "display_data"
    },
    {
     "name": "stdout",
     "output_type": "stream",
     "text": [
      "Epoch: 38, iteration: 4, d_real_acu: 0.92578125, d_fake_acu: 0.359375, d_total_acu: 0.642578125\n",
      "d_real_loss: 0.4118155241012573, d_fake_loss: 0.7081053256988525, g_loss: 0.678607165813446\n"
     ]
    },
    {
     "data": {
      "application/vnd.jupyter.widget-view+json": {
       "model_id": "2ca0807c7fee4bc7bb9ec307a74d0167",
       "version_major": 2,
       "version_minor": 0
      },
      "text/plain": [
       "Output()"
      ]
     },
     "metadata": {},
     "output_type": "display_data"
    },
    {
     "name": "stdout",
     "output_type": "stream",
     "text": [
      "Epoch: 38, iteration: 8, d_real_acu: 0.8984375, d_fake_acu: 0.7578125, d_total_acu: 0.828125\n",
      "d_real_loss: 0.4695344567298889, d_fake_loss: 0.5661288499832153, g_loss: 0.8374580144882202\n"
     ]
    },
    {
     "data": {
      "application/vnd.jupyter.widget-view+json": {
       "model_id": "cfac05179ca9488884d7b677764acbb4",
       "version_major": 2,
       "version_minor": 0
      },
      "text/plain": [
       "Output()"
      ]
     },
     "metadata": {},
     "output_type": "display_data"
    },
    {
     "name": "stdout",
     "output_type": "stream",
     "text": [
      "Epoch: 38, iteration: 12, d_real_acu: 0.625, d_fake_acu: 1.0, d_total_acu: 0.8125\n",
      "d_real_loss: 0.6569645404815674, d_fake_loss: 0.4406548738479614, g_loss: 1.0866574048995972\n"
     ]
    },
    {
     "data": {
      "application/vnd.jupyter.widget-view+json": {
       "model_id": "a40f54965a22467bbc43871145947681",
       "version_major": 2,
       "version_minor": 0
      },
      "text/plain": [
       "Output()"
      ]
     },
     "metadata": {},
     "output_type": "display_data"
    },
    {
     "name": "stdout",
     "output_type": "stream",
     "text": [
      "Epoch: 38, iteration: 16, d_real_acu: 0.66015625, d_fake_acu: 0.515625, d_total_acu: 0.587890625\n",
      "d_real_loss: 0.6412303447723389, d_fake_loss: 0.6262708902359009, g_loss: 1.2932608127593994\n"
     ]
    },
    {
     "data": {
      "application/vnd.jupyter.widget-view+json": {
       "model_id": "dd1e6f816cbf401991ca0f7439c2ef3b",
       "version_major": 2,
       "version_minor": 0
      },
      "text/plain": [
       "Output()"
      ]
     },
     "metadata": {},
     "output_type": "display_data"
    },
    {
     "name": "stdout",
     "output_type": "stream",
     "text": [
      "Epoch: 38, iteration: 20, d_real_acu: 0.4176470637321472, d_fake_acu: 1.0, d_total_acu: 0.708823561668396\n",
      "d_real_loss: 0.8028315305709839, d_fake_loss: 0.5354293584823608, g_loss: 0.9078423976898193\n"
     ]
    },
    {
     "data": {
      "application/vnd.jupyter.widget-view+json": {
       "model_id": "93327c9d9e214fe09e1daa941a589de6",
       "version_major": 2,
       "version_minor": 0
      },
      "text/plain": [
       "Output()"
      ]
     },
     "metadata": {},
     "output_type": "display_data"
    },
    {
     "name": "stdout",
     "output_type": "stream",
     "text": [
      "Epoch: 38, d_loss: 1.1338010600634985, g_loss: 0.969091018040975, dacc: 0.7349253779365903\n",
      "Epoch: 39, iteration: 0, d_real_acu: 0.4375, d_fake_acu: 0.93359375, d_total_acu: 0.685546875\n",
      "d_real_loss: 0.774055004119873, d_fake_loss: 0.5857479572296143, g_loss: 0.8266322016716003\n"
     ]
    },
    {
     "data": {
      "application/vnd.jupyter.widget-view+json": {
       "model_id": "3fec0695c54a47f2a4da496e0fba3e66",
       "version_major": 2,
       "version_minor": 0
      },
      "text/plain": [
       "Output()"
      ]
     },
     "metadata": {},
     "output_type": "display_data"
    },
    {
     "name": "stdout",
     "output_type": "stream",
     "text": [
      "Epoch: 39, iteration: 4, d_real_acu: 0.3828125, d_fake_acu: 1.0, d_total_acu: 0.69140625\n",
      "d_real_loss: 0.837925910949707, d_fake_loss: 0.5768591165542603, g_loss: 0.823835551738739\n"
     ]
    },
    {
     "data": {
      "application/vnd.jupyter.widget-view+json": {
       "model_id": "8481b257e2764632a66b4ba6dfa70676",
       "version_major": 2,
       "version_minor": 0
      },
      "text/plain": [
       "Output()"
      ]
     },
     "metadata": {},
     "output_type": "display_data"
    },
    {
     "name": "stdout",
     "output_type": "stream",
     "text": [
      "Epoch: 39, iteration: 8, d_real_acu: 0.546875, d_fake_acu: 0.67578125, d_total_acu: 0.611328125\n",
      "d_real_loss: 0.7320704460144043, d_fake_loss: 0.6418935060501099, g_loss: 0.7887207269668579\n"
     ]
    },
    {
     "data": {
      "application/vnd.jupyter.widget-view+json": {
       "model_id": "873fb9419d594e279b2065a16a5aa1ed",
       "version_major": 2,
       "version_minor": 0
      },
      "text/plain": [
       "Output()"
      ]
     },
     "metadata": {},
     "output_type": "display_data"
    },
    {
     "name": "stdout",
     "output_type": "stream",
     "text": [
      "Epoch: 39, iteration: 12, d_real_acu: 0.66796875, d_fake_acu: 0.63671875, d_total_acu: 0.65234375\n",
      "d_real_loss: 0.704430341720581, d_fake_loss: 0.6621366739273071, g_loss: 0.7256673574447632\n"
     ]
    },
    {
     "data": {
      "application/vnd.jupyter.widget-view+json": {
       "model_id": "baa6578b55954a81a5d7d31ffba0ff02",
       "version_major": 2,
       "version_minor": 0
      },
      "text/plain": [
       "Output()"
      ]
     },
     "metadata": {},
     "output_type": "display_data"
    },
    {
     "name": "stdout",
     "output_type": "stream",
     "text": [
      "Epoch: 39, iteration: 16, d_real_acu: 0.60546875, d_fake_acu: 1.0, d_total_acu: 0.802734375\n",
      "d_real_loss: 0.7713413238525391, d_fake_loss: 0.5776697397232056, g_loss: 0.836813747882843\n"
     ]
    },
    {
     "data": {
      "application/vnd.jupyter.widget-view+json": {
       "model_id": "87cbdd0ead9b4221a2cba4dea1c675af",
       "version_major": 2,
       "version_minor": 0
      },
      "text/plain": [
       "Output()"
      ]
     },
     "metadata": {},
     "output_type": "display_data"
    },
    {
     "name": "stdout",
     "output_type": "stream",
     "text": [
      "Epoch: 39, iteration: 20, d_real_acu: 0.2823529541492462, d_fake_acu: 1.0, d_total_acu: 0.6411764621734619\n",
      "d_real_loss: 0.9816345572471619, d_fake_loss: 0.41249772906303406, g_loss: 1.113037347793579\n"
     ]
    },
    {
     "data": {
      "application/vnd.jupyter.widget-view+json": {
       "model_id": "860be1351e7a44a39d6f33621654358b",
       "version_major": 2,
       "version_minor": 0
      },
      "text/plain": [
       "Output()"
      ]
     },
     "metadata": {},
     "output_type": "display_data"
    },
    {
     "name": "stdout",
     "output_type": "stream",
     "text": [
      "Epoch: 39, d_loss: 1.3805145990280878, g_loss: 0.9271784424781799, dacc: 0.6474406946273077\n",
      "Epoch: 40, iteration: 0, d_real_acu: 0.42578125, d_fake_acu: 1.0, d_total_acu: 0.712890625\n",
      "d_real_loss: 0.8905318379402161, d_fake_loss: 0.48096776008605957, g_loss: 0.9673532843589783\n"
     ]
    },
    {
     "data": {
      "application/vnd.jupyter.widget-view+json": {
       "model_id": "81b1c7f9043e412e9a5602073993750f",
       "version_major": 2,
       "version_minor": 0
      },
      "text/plain": [
       "Output()"
      ]
     },
     "metadata": {},
     "output_type": "display_data"
    },
    {
     "name": "stdout",
     "output_type": "stream",
     "text": [
      "Epoch: 40, iteration: 4, d_real_acu: 0.296875, d_fake_acu: 1.0, d_total_acu: 0.6484375\n",
      "d_real_loss: 0.9835734367370605, d_fake_loss: 0.4421696066856384, g_loss: 1.1015167236328125\n"
     ]
    },
    {
     "data": {
      "application/vnd.jupyter.widget-view+json": {
       "model_id": "723cfc89ed464899b7980f3f0674f325",
       "version_major": 2,
       "version_minor": 0
      },
      "text/plain": [
       "Output()"
      ]
     },
     "metadata": {},
     "output_type": "display_data"
    },
    {
     "name": "stdout",
     "output_type": "stream",
     "text": [
      "Epoch: 40, iteration: 8, d_real_acu: 0.40625, d_fake_acu: 1.0, d_total_acu: 0.703125\n",
      "d_real_loss: 0.9072123765945435, d_fake_loss: 0.4270772635936737, g_loss: 1.114295482635498\n"
     ]
    },
    {
     "data": {
      "application/vnd.jupyter.widget-view+json": {
       "model_id": "7a216b7d5eb14ad4acd0766ac88f5397",
       "version_major": 2,
       "version_minor": 0
      },
      "text/plain": [
       "Output()"
      ]
     },
     "metadata": {},
     "output_type": "display_data"
    },
    {
     "name": "stdout",
     "output_type": "stream",
     "text": [
      "Epoch: 40, iteration: 12, d_real_acu: 0.625, d_fake_acu: 1.0, d_total_acu: 0.8125\n",
      "d_real_loss: 0.7376587390899658, d_fake_loss: 0.4131014943122864, g_loss: 1.1266684532165527\n"
     ]
    },
    {
     "data": {
      "application/vnd.jupyter.widget-view+json": {
       "model_id": "3b101ca242b24d75a6da9cc8db3d51e1",
       "version_major": 2,
       "version_minor": 0
      },
      "text/plain": [
       "Output()"
      ]
     },
     "metadata": {},
     "output_type": "display_data"
    },
    {
     "name": "stdout",
     "output_type": "stream",
     "text": [
      "Epoch: 40, iteration: 16, d_real_acu: 0.515625, d_fake_acu: 0.37890625, d_total_acu: 0.447265625\n",
      "d_real_loss: 0.8168072700500488, d_fake_loss: 0.7498502731323242, g_loss: 1.106050729751587\n"
     ]
    },
    {
     "data": {
      "application/vnd.jupyter.widget-view+json": {
       "model_id": "19a72ee1ef2e482e89fb49d2c42bb2b1",
       "version_major": 2,
       "version_minor": 0
      },
      "text/plain": [
       "Output()"
      ]
     },
     "metadata": {},
     "output_type": "display_data"
    },
    {
     "name": "stdout",
     "output_type": "stream",
     "text": [
      "Epoch: 40, iteration: 20, d_real_acu: 0.7647058963775635, d_fake_acu: 0.1764705926179886, d_total_acu: 0.47058823704719543\n",
      "d_real_loss: 0.6099320650100708, d_fake_loss: 0.7942501306533813, g_loss: 1.2150764465332031\n"
     ]
    },
    {
     "data": {
      "application/vnd.jupyter.widget-view+json": {
       "model_id": "05ff1ef3f47c48868faccd6f8b6ab92a",
       "version_major": 2,
       "version_minor": 0
      },
      "text/plain": [
       "Output()"
      ]
     },
     "metadata": {},
     "output_type": "display_data"
    },
    {
     "name": "stdout",
     "output_type": "stream",
     "text": [
      "Epoch: 40, d_loss: 1.3641632284436906, g_loss: 1.0435022115707397, dacc: 0.6818211660498664\n",
      "Epoch: 41, iteration: 0, d_real_acu: 0.71484375, d_fake_acu: 1.0, d_total_acu: 0.857421875\n",
      "d_real_loss: 0.6192231178283691, d_fake_loss: 0.462982714176178, g_loss: 0.9861868023872375\n"
     ]
    },
    {
     "data": {
      "application/vnd.jupyter.widget-view+json": {
       "model_id": "f4239035364c4792a0002ee298083264",
       "version_major": 2,
       "version_minor": 0
      },
      "text/plain": [
       "Output()"
      ]
     },
     "metadata": {},
     "output_type": "display_data"
    },
    {
     "name": "stdout",
     "output_type": "stream",
     "text": [
      "Epoch: 41, iteration: 4, d_real_acu: 0.69921875, d_fake_acu: 0.83984375, d_total_acu: 0.76953125\n",
      "d_real_loss: 0.6303058862686157, d_fake_loss: 0.548103928565979, g_loss: 0.896518349647522\n"
     ]
    },
    {
     "data": {
      "application/vnd.jupyter.widget-view+json": {
       "model_id": "a30cf5d72c484d5194b7f40d0624a18c",
       "version_major": 2,
       "version_minor": 0
      },
      "text/plain": [
       "Output()"
      ]
     },
     "metadata": {},
     "output_type": "display_data"
    },
    {
     "name": "stdout",
     "output_type": "stream",
     "text": [
      "Epoch: 41, iteration: 8, d_real_acu: 0.5703125, d_fake_acu: 1.0, d_total_acu: 0.78515625\n",
      "d_real_loss: 0.628152072429657, d_fake_loss: 0.4466569125652313, g_loss: 1.066508173942566\n"
     ]
    },
    {
     "data": {
      "application/vnd.jupyter.widget-view+json": {
       "model_id": "ce70dfd73ce74d3dba66a6bfa447b0cd",
       "version_major": 2,
       "version_minor": 0
      },
      "text/plain": [
       "Output()"
      ]
     },
     "metadata": {},
     "output_type": "display_data"
    },
    {
     "name": "stdout",
     "output_type": "stream",
     "text": [
      "Epoch: 41, iteration: 12, d_real_acu: 0.71484375, d_fake_acu: 0.6953125, d_total_acu: 0.705078125\n",
      "d_real_loss: 0.5798206329345703, d_fake_loss: 0.597417950630188, g_loss: 0.8256994485855103\n"
     ]
    },
    {
     "data": {
      "application/vnd.jupyter.widget-view+json": {
       "model_id": "52d0a29342d447849b542f38605be971",
       "version_major": 2,
       "version_minor": 0
      },
      "text/plain": [
       "Output()"
      ]
     },
     "metadata": {},
     "output_type": "display_data"
    },
    {
     "name": "stdout",
     "output_type": "stream",
     "text": [
      "Epoch: 41, iteration: 16, d_real_acu: 0.80859375, d_fake_acu: 0.484375, d_total_acu: 0.646484375\n",
      "d_real_loss: 0.5318276286125183, d_fake_loss: 0.6676660776138306, g_loss: 0.7585750818252563\n"
     ]
    },
    {
     "data": {
      "application/vnd.jupyter.widget-view+json": {
       "model_id": "a4cada4651014f508deed7a3dee7a292",
       "version_major": 2,
       "version_minor": 0
      },
      "text/plain": [
       "Output()"
      ]
     },
     "metadata": {},
     "output_type": "display_data"
    },
    {
     "name": "stdout",
     "output_type": "stream",
     "text": [
      "Epoch: 41, iteration: 20, d_real_acu: 0.7705882787704468, d_fake_acu: 0.6117647290229797, d_total_acu: 0.6911764740943909\n",
      "d_real_loss: 0.5624763369560242, d_fake_loss: 0.629886269569397, g_loss: 0.8063494563102722\n"
     ]
    },
    {
     "data": {
      "application/vnd.jupyter.widget-view+json": {
       "model_id": "a0899e7a706a4f069f3e872d7270da20",
       "version_major": 2,
       "version_minor": 0
      },
      "text/plain": [
       "Output()"
      ]
     },
     "metadata": {},
     "output_type": "display_data"
    },
    {
     "name": "stdout",
     "output_type": "stream",
     "text": [
      "Epoch: 41, d_loss: 1.1951689549854823, g_loss: 0.9357413053512573, dacc: 0.7015329570997328\n",
      "Epoch: 42, iteration: 0, d_real_acu: 0.828125, d_fake_acu: 0.45703125, d_total_acu: 0.642578125\n",
      "d_real_loss: 0.516843318939209, d_fake_loss: 0.6679795384407043, g_loss: 0.7299090623855591\n"
     ]
    },
    {
     "data": {
      "application/vnd.jupyter.widget-view+json": {
       "model_id": "7ad90b83a8904055bca6b0decbe07db8",
       "version_major": 2,
       "version_minor": 0
      },
      "text/plain": [
       "Output()"
      ]
     },
     "metadata": {},
     "output_type": "display_data"
    },
    {
     "name": "stdout",
     "output_type": "stream",
     "text": [
      "Epoch: 42, iteration: 4, d_real_acu: 0.72265625, d_fake_acu: 0.81640625, d_total_acu: 0.76953125\n",
      "d_real_loss: 0.6075879335403442, d_fake_loss: 0.6013578176498413, g_loss: 0.8089206218719482\n"
     ]
    },
    {
     "data": {
      "application/vnd.jupyter.widget-view+json": {
       "model_id": "48ed76e6a8b64bb4b361c54666f0fbd3",
       "version_major": 2,
       "version_minor": 0
      },
      "text/plain": [
       "Output()"
      ]
     },
     "metadata": {},
     "output_type": "display_data"
    },
    {
     "name": "stdout",
     "output_type": "stream",
     "text": [
      "Epoch: 42, iteration: 8, d_real_acu: 0.47265625, d_fake_acu: 0.80078125, d_total_acu: 0.63671875\n",
      "d_real_loss: 0.7385062575340271, d_fake_loss: 0.5958883166313171, g_loss: 0.8263462781906128\n"
     ]
    },
    {
     "data": {
      "application/vnd.jupyter.widget-view+json": {
       "model_id": "a64245e100f34e96955637581e49c070",
       "version_major": 2,
       "version_minor": 0
      },
      "text/plain": [
       "Output()"
      ]
     },
     "metadata": {},
     "output_type": "display_data"
    },
    {
     "name": "stdout",
     "output_type": "stream",
     "text": [
      "Epoch: 42, iteration: 12, d_real_acu: 0.12890625, d_fake_acu: 1.0, d_total_acu: 0.564453125\n",
      "d_real_loss: 0.9462869167327881, d_fake_loss: 0.5136435627937317, g_loss: 1.0636358261108398\n"
     ]
    },
    {
     "data": {
      "application/vnd.jupyter.widget-view+json": {
       "model_id": "d63872be715c41c1b6d822517aa00215",
       "version_major": 2,
       "version_minor": 0
      },
      "text/plain": [
       "Output()"
      ]
     },
     "metadata": {},
     "output_type": "display_data"
    },
    {
     "name": "stdout",
     "output_type": "stream",
     "text": [
      "Epoch: 42, iteration: 16, d_real_acu: 0.65234375, d_fake_acu: 0.6015625, d_total_acu: 0.626953125\n",
      "d_real_loss: 0.6570122838020325, d_fake_loss: 0.634505033493042, g_loss: 0.8180915117263794\n"
     ]
    },
    {
     "data": {
      "application/vnd.jupyter.widget-view+json": {
       "model_id": "576beed0cd4b45bca1a9f71f81f6faff",
       "version_major": 2,
       "version_minor": 0
      },
      "text/plain": [
       "Output()"
      ]
     },
     "metadata": {},
     "output_type": "display_data"
    },
    {
     "name": "stdout",
     "output_type": "stream",
     "text": [
      "Epoch: 42, iteration: 20, d_real_acu: 0.529411792755127, d_fake_acu: 0.30000001192092896, d_total_acu: 0.41470590233802795\n",
      "d_real_loss: 0.7342095971107483, d_fake_loss: 0.6918070316314697, g_loss: 0.8429394960403442\n"
     ]
    },
    {
     "data": {
      "application/vnd.jupyter.widget-view+json": {
       "model_id": "db548c19a1774595bb828a8a767341e0",
       "version_major": 2,
       "version_minor": 0
      },
      "text/plain": [
       "Output()"
      ]
     },
     "metadata": {},
     "output_type": "display_data"
    },
    {
     "name": "stdout",
     "output_type": "stream",
     "text": [
      "Epoch: 42, d_loss: 1.3493922324407668, g_loss: 0.8891237349737258, dacc: 0.6066154596351442\n",
      "Epoch: 43, iteration: 0, d_real_acu: 0.50390625, d_fake_acu: 0.74609375, d_total_acu: 0.625\n",
      "d_real_loss: 0.7164355516433716, d_fake_loss: 0.630238950252533, g_loss: 0.7929581999778748\n"
     ]
    },
    {
     "data": {
      "application/vnd.jupyter.widget-view+json": {
       "model_id": "01f57892f9cc4d0fbec09081943633a8",
       "version_major": 2,
       "version_minor": 0
      },
      "text/plain": [
       "Output()"
      ]
     },
     "metadata": {},
     "output_type": "display_data"
    },
    {
     "name": "stdout",
     "output_type": "stream",
     "text": [
      "Epoch: 43, iteration: 4, d_real_acu: 0.6484375, d_fake_acu: 0.51171875, d_total_acu: 0.580078125\n",
      "d_real_loss: 0.659643828868866, d_fake_loss: 0.6722860336303711, g_loss: 0.9402077198028564\n"
     ]
    },
    {
     "data": {
      "application/vnd.jupyter.widget-view+json": {
       "model_id": "c611478e1a0b4473a1589fc7a6cc6a56",
       "version_major": 2,
       "version_minor": 0
      },
      "text/plain": [
       "Output()"
      ]
     },
     "metadata": {},
     "output_type": "display_data"
    },
    {
     "name": "stdout",
     "output_type": "stream",
     "text": [
      "Epoch: 43, iteration: 8, d_real_acu: 0.609375, d_fake_acu: 0.66796875, d_total_acu: 0.638671875\n",
      "d_real_loss: 0.6888418197631836, d_fake_loss: 0.6345735788345337, g_loss: 0.8637057542800903\n"
     ]
    },
    {
     "data": {
      "application/vnd.jupyter.widget-view+json": {
       "model_id": "fb6b256e57fe40b2bb2508b6cad0a852",
       "version_major": 2,
       "version_minor": 0
      },
      "text/plain": [
       "Output()"
      ]
     },
     "metadata": {},
     "output_type": "display_data"
    },
    {
     "name": "stdout",
     "output_type": "stream",
     "text": [
      "Epoch: 43, iteration: 12, d_real_acu: 0.73046875, d_fake_acu: 0.75390625, d_total_acu: 0.7421875\n",
      "d_real_loss: 0.6001064777374268, d_fake_loss: 0.42212599515914917, g_loss: 1.1921844482421875\n"
     ]
    },
    {
     "data": {
      "application/vnd.jupyter.widget-view+json": {
       "model_id": "c94eb439150f43cc8f9eff9e56a825bf",
       "version_major": 2,
       "version_minor": 0
      },
      "text/plain": [
       "Output()"
      ]
     },
     "metadata": {},
     "output_type": "display_data"
    },
    {
     "name": "stdout",
     "output_type": "stream",
     "text": [
      "Epoch: 43, iteration: 16, d_real_acu: 0.73828125, d_fake_acu: 0.1171875, d_total_acu: 0.427734375\n",
      "d_real_loss: 0.5984561443328857, d_fake_loss: 0.8369033336639404, g_loss: 0.8991243839263916\n"
     ]
    },
    {
     "data": {
      "application/vnd.jupyter.widget-view+json": {
       "model_id": "180fc49d7442440db3c585deaac6624b",
       "version_major": 2,
       "version_minor": 0
      },
      "text/plain": [
       "Output()"
      ]
     },
     "metadata": {},
     "output_type": "display_data"
    },
    {
     "name": "stdout",
     "output_type": "stream",
     "text": [
      "Epoch: 43, iteration: 20, d_real_acu: 0.5941176414489746, d_fake_acu: 0.4882352948188782, d_total_acu: 0.5411764979362488\n",
      "d_real_loss: 0.6449577808380127, d_fake_loss: 0.7262000441551208, g_loss: 1.367404818534851\n"
     ]
    },
    {
     "data": {
      "application/vnd.jupyter.widget-view+json": {
       "model_id": "1db96a4124384ed9a916890e0457b553",
       "version_major": 2,
       "version_minor": 0
      },
      "text/plain": [
       "Output()"
      ]
     },
     "metadata": {},
     "output_type": "display_data"
    },
    {
     "name": "stdout",
     "output_type": "stream",
     "text": [
      "Epoch: 43, d_loss: 1.3075893492925734, g_loss: 0.97525364728201, dacc: 0.6114287915683928\n",
      "Epoch: 44, iteration: 0, d_real_acu: 0.44140625, d_fake_acu: 1.0, d_total_acu: 0.720703125\n",
      "d_real_loss: 0.7505897879600525, d_fake_loss: 0.41995882987976074, g_loss: 1.0287284851074219\n"
     ]
    },
    {
     "data": {
      "application/vnd.jupyter.widget-view+json": {
       "model_id": "a5605eb41c164fbe8f15568fb30fcd17",
       "version_major": 2,
       "version_minor": 0
      },
      "text/plain": [
       "Output()"
      ]
     },
     "metadata": {},
     "output_type": "display_data"
    },
    {
     "name": "stdout",
     "output_type": "stream",
     "text": [
      "Epoch: 44, iteration: 4, d_real_acu: 0.4921875, d_fake_acu: 0.65234375, d_total_acu: 0.572265625\n",
      "d_real_loss: 0.7967289686203003, d_fake_loss: 0.6638506650924683, g_loss: 1.2576621770858765\n"
     ]
    },
    {
     "data": {
      "application/vnd.jupyter.widget-view+json": {
       "model_id": "dd179f221981469fa1d6a277184bb470",
       "version_major": 2,
       "version_minor": 0
      },
      "text/plain": [
       "Output()"
      ]
     },
     "metadata": {},
     "output_type": "display_data"
    },
    {
     "name": "stdout",
     "output_type": "stream",
     "text": [
      "Epoch: 44, iteration: 8, d_real_acu: 0.46875, d_fake_acu: 0.73828125, d_total_acu: 0.603515625\n",
      "d_real_loss: 0.8706963062286377, d_fake_loss: 0.5955082178115845, g_loss: 0.8809472322463989\n"
     ]
    },
    {
     "data": {
      "application/vnd.jupyter.widget-view+json": {
       "model_id": "2c8df27f60984a06a9b7579f9d882fea",
       "version_major": 2,
       "version_minor": 0
      },
      "text/plain": [
       "Output()"
      ]
     },
     "metadata": {},
     "output_type": "display_data"
    },
    {
     "name": "stdout",
     "output_type": "stream",
     "text": [
      "Epoch: 44, iteration: 12, d_real_acu: 0.46484375, d_fake_acu: 1.0, d_total_acu: 0.732421875\n",
      "d_real_loss: 0.7135953903198242, d_fake_loss: 0.4690423607826233, g_loss: 1.0705146789550781\n"
     ]
    },
    {
     "data": {
      "application/vnd.jupyter.widget-view+json": {
       "model_id": "e99ea748a50843f9bd301f253cf46548",
       "version_major": 2,
       "version_minor": 0
      },
      "text/plain": [
       "Output()"
      ]
     },
     "metadata": {},
     "output_type": "display_data"
    },
    {
     "name": "stdout",
     "output_type": "stream",
     "text": [
      "Epoch: 44, iteration: 16, d_real_acu: 0.5390625, d_fake_acu: 0.99609375, d_total_acu: 0.767578125\n",
      "d_real_loss: 0.7004902362823486, d_fake_loss: 0.5591685175895691, g_loss: 0.8086790442466736\n"
     ]
    },
    {
     "data": {
      "application/vnd.jupyter.widget-view+json": {
       "model_id": "8cc291071b054f80a81e3398feb528e9",
       "version_major": 2,
       "version_minor": 0
      },
      "text/plain": [
       "Output()"
      ]
     },
     "metadata": {},
     "output_type": "display_data"
    },
    {
     "name": "stdout",
     "output_type": "stream",
     "text": [
      "Epoch: 44, iteration: 20, d_real_acu: 0.6000000238418579, d_fake_acu: 0.1823529452085495, d_total_acu: 0.3911764919757843\n",
      "d_real_loss: 0.6288022994995117, d_fake_loss: 0.7606760263442993, g_loss: 0.8607791662216187\n"
     ]
    },
    {
     "data": {
      "application/vnd.jupyter.widget-view+json": {
       "model_id": "7863a0462b1d466fb5874eccdb183860",
       "version_major": 2,
       "version_minor": 0
      },
      "text/plain": [
       "Output()"
      ]
     },
     "metadata": {},
     "output_type": "display_data"
    },
    {
     "name": "stdout",
     "output_type": "stream",
     "text": [
      "Epoch: 44, d_loss: 1.363421462831043, g_loss: 0.9687478882925851, dacc: 0.6163767079512278\n",
      "Epoch: 45, iteration: 0, d_real_acu: 0.72265625, d_fake_acu: 0.8671875, d_total_acu: 0.794921875\n",
      "d_real_loss: 0.5363742113113403, d_fake_loss: 0.6372734308242798, g_loss: 0.7245246767997742\n"
     ]
    },
    {
     "data": {
      "application/vnd.jupyter.widget-view+json": {
       "model_id": "2983c0d15f8b470b9daf04fb474401cb",
       "version_major": 2,
       "version_minor": 0
      },
      "text/plain": [
       "Output()"
      ]
     },
     "metadata": {},
     "output_type": "display_data"
    },
    {
     "name": "stdout",
     "output_type": "stream",
     "text": [
      "Epoch: 45, iteration: 4, d_real_acu: 0.6875, d_fake_acu: 0.140625, d_total_acu: 0.4140625\n",
      "d_real_loss: 0.5360226631164551, d_fake_loss: 0.759225606918335, g_loss: 0.8448876142501831\n"
     ]
    },
    {
     "data": {
      "application/vnd.jupyter.widget-view+json": {
       "model_id": "04306d2cdbb14ecca554f1dd0b6bb831",
       "version_major": 2,
       "version_minor": 0
      },
      "text/plain": [
       "Output()"
      ]
     },
     "metadata": {},
     "output_type": "display_data"
    },
    {
     "name": "stdout",
     "output_type": "stream",
     "text": [
      "Epoch: 45, iteration: 8, d_real_acu: 0.80078125, d_fake_acu: 0.31640625, d_total_acu: 0.55859375\n",
      "d_real_loss: 0.4684845209121704, d_fake_loss: 0.7784345746040344, g_loss: 0.89026939868927\n"
     ]
    },
    {
     "data": {
      "application/vnd.jupyter.widget-view+json": {
       "model_id": "ba16a8ae7d974e84b24266bf9f68e9c1",
       "version_major": 2,
       "version_minor": 0
      },
      "text/plain": [
       "Output()"
      ]
     },
     "metadata": {},
     "output_type": "display_data"
    },
    {
     "name": "stdout",
     "output_type": "stream",
     "text": [
      "Epoch: 45, iteration: 12, d_real_acu: 0.76953125, d_fake_acu: 0.6171875, d_total_acu: 0.693359375\n",
      "d_real_loss: 0.49033012986183167, d_fake_loss: 0.6562384366989136, g_loss: 0.7264413833618164\n"
     ]
    },
    {
     "data": {
      "application/vnd.jupyter.widget-view+json": {
       "model_id": "627c76f6af934b23a10ad722f2f6e443",
       "version_major": 2,
       "version_minor": 0
      },
      "text/plain": [
       "Output()"
      ]
     },
     "metadata": {},
     "output_type": "display_data"
    },
    {
     "name": "stdout",
     "output_type": "stream",
     "text": [
      "Epoch: 45, iteration: 16, d_real_acu: 0.6640625, d_fake_acu: 1.0, d_total_acu: 0.83203125\n",
      "d_real_loss: 0.5595268607139587, d_fake_loss: 0.559526801109314, g_loss: 0.8773151636123657\n"
     ]
    },
    {
     "data": {
      "application/vnd.jupyter.widget-view+json": {
       "model_id": "65b60f740361462a8f677e9f087fb0d7",
       "version_major": 2,
       "version_minor": 0
      },
      "text/plain": [
       "Output()"
      ]
     },
     "metadata": {},
     "output_type": "display_data"
    },
    {
     "name": "stdout",
     "output_type": "stream",
     "text": [
      "Epoch: 45, iteration: 20, d_real_acu: 0.6941176652908325, d_fake_acu: 0.5176470875740051, d_total_acu: 0.6058823466300964\n",
      "d_real_loss: 0.5355941653251648, d_fake_loss: 0.676346480846405, g_loss: 0.7126901745796204\n"
     ]
    },
    {
     "data": {
      "application/vnd.jupyter.widget-view+json": {
       "model_id": "e43905266e174895bf0f94cabd93a70f",
       "version_major": 2,
       "version_minor": 0
      },
      "text/plain": [
       "Output()"
      ]
     },
     "metadata": {},
     "output_type": "display_data"
    },
    {
     "name": "stdout",
     "output_type": "stream",
     "text": [
      "Epoch: 45, d_loss: 1.1463587908517747, g_loss: 0.7999709390458607, dacc: 0.7139333855538141\n",
      "Epoch: 46, iteration: 0, d_real_acu: 0.73828125, d_fake_acu: 0.4765625, d_total_acu: 0.607421875\n",
      "d_real_loss: 0.5004124045372009, d_fake_loss: 0.7071470618247986, g_loss: 0.6845792531967163\n"
     ]
    },
    {
     "data": {
      "application/vnd.jupyter.widget-view+json": {
       "model_id": "30af0fbe0be0462080dcfacd60ce13dc",
       "version_major": 2,
       "version_minor": 0
      },
      "text/plain": [
       "Output()"
      ]
     },
     "metadata": {},
     "output_type": "display_data"
    },
    {
     "name": "stdout",
     "output_type": "stream",
     "text": [
      "Epoch: 46, iteration: 4, d_real_acu: 0.65625, d_fake_acu: 0.91796875, d_total_acu: 0.787109375\n",
      "d_real_loss: 0.5385596752166748, d_fake_loss: 0.5562690496444702, g_loss: 0.8669818639755249\n"
     ]
    },
    {
     "data": {
      "application/vnd.jupyter.widget-view+json": {
       "model_id": "aeefedb18cbb4b9f996fdbc060b7ff01",
       "version_major": 2,
       "version_minor": 0
      },
      "text/plain": [
       "Output()"
      ]
     },
     "metadata": {},
     "output_type": "display_data"
    },
    {
     "name": "stdout",
     "output_type": "stream",
     "text": [
      "Epoch: 46, iteration: 8, d_real_acu: 0.625, d_fake_acu: 1.0, d_total_acu: 0.8125\n",
      "d_real_loss: 0.5706074237823486, d_fake_loss: 0.44976314902305603, g_loss: 1.0459216833114624\n"
     ]
    },
    {
     "data": {
      "application/vnd.jupyter.widget-view+json": {
       "model_id": "f551ffa3149b4a0c8b26a4cb40727c4d",
       "version_major": 2,
       "version_minor": 0
      },
      "text/plain": [
       "Output()"
      ]
     },
     "metadata": {},
     "output_type": "display_data"
    },
    {
     "name": "stdout",
     "output_type": "stream",
     "text": [
      "Epoch: 46, iteration: 12, d_real_acu: 0.61328125, d_fake_acu: 0.6484375, d_total_acu: 0.630859375\n",
      "d_real_loss: 0.61198490858078, d_fake_loss: 0.6717461943626404, g_loss: 0.7226489782333374\n"
     ]
    },
    {
     "data": {
      "application/vnd.jupyter.widget-view+json": {
       "model_id": "acfe00c6362c432b92762bdb82efe269",
       "version_major": 2,
       "version_minor": 0
      },
      "text/plain": [
       "Output()"
      ]
     },
     "metadata": {},
     "output_type": "display_data"
    },
    {
     "name": "stdout",
     "output_type": "stream",
     "text": [
      "Epoch: 46, iteration: 16, d_real_acu: 0.546875, d_fake_acu: 0.8984375, d_total_acu: 0.72265625\n",
      "d_real_loss: 0.6630386114120483, d_fake_loss: 0.6026949882507324, g_loss: 0.7799102067947388\n"
     ]
    },
    {
     "data": {
      "application/vnd.jupyter.widget-view+json": {
       "model_id": "d95d4bb9743846df812a0e74a6c14873",
       "version_major": 2,
       "version_minor": 0
      },
      "text/plain": [
       "Output()"
      ]
     },
     "metadata": {},
     "output_type": "display_data"
    },
    {
     "name": "stdout",
     "output_type": "stream",
     "text": [
      "Epoch: 46, iteration: 20, d_real_acu: 0.47647058963775635, d_fake_acu: 0.9764705896377563, d_total_acu: 0.7264705896377563\n",
      "d_real_loss: 0.7306475639343262, d_fake_loss: 0.5703491568565369, g_loss: 0.8371835350990295\n"
     ]
    },
    {
     "data": {
      "application/vnd.jupyter.widget-view+json": {
       "model_id": "fbccbac7bac04ea8b6df72da6331201b",
       "version_major": 2,
       "version_minor": 0
      },
      "text/plain": [
       "Output()"
      ]
     },
     "metadata": {},
     "output_type": "display_data"
    },
    {
     "name": "stdout",
     "output_type": "stream",
     "text": [
      "Epoch: 46, d_loss: 1.179490259715489, g_loss: 0.926126914364951, dacc: 0.7052597602208456\n",
      "Epoch: 47, iteration: 0, d_real_acu: 0.421875, d_fake_acu: 0.484375, d_total_acu: 0.453125\n",
      "d_real_loss: 0.7405797243118286, d_fake_loss: 0.7009983062744141, g_loss: 1.299585223197937\n"
     ]
    },
    {
     "data": {
      "application/vnd.jupyter.widget-view+json": {
       "model_id": "372b9fd18bff4faeb7d5cee4e7e7578b",
       "version_major": 2,
       "version_minor": 0
      },
      "text/plain": [
       "Output()"
      ]
     },
     "metadata": {},
     "output_type": "display_data"
    },
    {
     "name": "stdout",
     "output_type": "stream",
     "text": [
      "Epoch: 47, iteration: 4, d_real_acu: 0.33984375, d_fake_acu: 1.0, d_total_acu: 0.669921875\n",
      "d_real_loss: 1.0200910568237305, d_fake_loss: 0.5404781103134155, g_loss: 0.8935302495956421\n"
     ]
    },
    {
     "data": {
      "application/vnd.jupyter.widget-view+json": {
       "model_id": "4f047d0dfa41450aaa8a920b90362bf4",
       "version_major": 2,
       "version_minor": 0
      },
      "text/plain": [
       "Output()"
      ]
     },
     "metadata": {},
     "output_type": "display_data"
    },
    {
     "name": "stdout",
     "output_type": "stream",
     "text": [
      "Epoch: 47, iteration: 8, d_real_acu: 0.25, d_fake_acu: 0.99609375, d_total_acu: 0.623046875\n",
      "d_real_loss: 1.17453932762146, d_fake_loss: 0.576788604259491, g_loss: 0.8431819677352905\n"
     ]
    },
    {
     "data": {
      "application/vnd.jupyter.widget-view+json": {
       "model_id": "81122f7def144f008ef32cf40f1f543e",
       "version_major": 2,
       "version_minor": 0
      },
      "text/plain": [
       "Output()"
      ]
     },
     "metadata": {},
     "output_type": "display_data"
    },
    {
     "name": "stdout",
     "output_type": "stream",
     "text": [
      "Epoch: 47, iteration: 12, d_real_acu: 0.3125, d_fake_acu: 1.0, d_total_acu: 0.65625\n",
      "d_real_loss: 1.126114845275879, d_fake_loss: 0.5468360185623169, g_loss: 0.851795494556427\n"
     ]
    },
    {
     "data": {
      "application/vnd.jupyter.widget-view+json": {
       "model_id": "85f89e92f4a64c2296b9986c3d31c567",
       "version_major": 2,
       "version_minor": 0
      },
      "text/plain": [
       "Output()"
      ]
     },
     "metadata": {},
     "output_type": "display_data"
    },
    {
     "name": "stdout",
     "output_type": "stream",
     "text": [
      "Epoch: 47, iteration: 16, d_real_acu: 0.37109375, d_fake_acu: 0.75, d_total_acu: 0.560546875\n",
      "d_real_loss: 0.9785676002502441, d_fake_loss: 0.4733009934425354, g_loss: 1.275882363319397\n"
     ]
    },
    {
     "data": {
      "application/vnd.jupyter.widget-view+json": {
       "model_id": "93d0de35a7f742c4b6d48c2275c407b3",
       "version_major": 2,
       "version_minor": 0
      },
      "text/plain": [
       "Output()"
      ]
     },
     "metadata": {},
     "output_type": "display_data"
    },
    {
     "name": "stdout",
     "output_type": "stream",
     "text": [
      "Epoch: 47, iteration: 20, d_real_acu: 0.5117647051811218, d_fake_acu: 0.8117647171020508, d_total_acu: 0.6617647409439087\n",
      "d_real_loss: 0.9070989489555359, d_fake_loss: 0.5027450919151306, g_loss: 1.0098458528518677\n"
     ]
    },
    {
     "data": {
      "application/vnd.jupyter.widget-view+json": {
       "model_id": "a9515f8f1bca40a49787d44711467494",
       "version_major": 2,
       "version_minor": 0
      },
      "text/plain": [
       "Output()"
      ]
     },
     "metadata": {},
     "output_type": "display_data"
    },
    {
     "name": "stdout",
     "output_type": "stream",
     "text": [
      "Epoch: 47, d_loss: 1.5700568812234061, g_loss: 1.0799732123102461, dacc: 0.5851770412354242\n",
      "Epoch: 48, iteration: 0, d_real_acu: 0.453125, d_fake_acu: 0.65625, d_total_acu: 0.5546875\n",
      "d_real_loss: 0.9913339614868164, d_fake_loss: 0.5730035305023193, g_loss: 1.05478835105896\n"
     ]
    },
    {
     "data": {
      "application/vnd.jupyter.widget-view+json": {
       "model_id": "dd36e331fd794a6e839f11692b39ee50",
       "version_major": 2,
       "version_minor": 0
      },
      "text/plain": [
       "Output()"
      ]
     },
     "metadata": {},
     "output_type": "display_data"
    },
    {
     "name": "stdout",
     "output_type": "stream",
     "text": [
      "Epoch: 48, iteration: 4, d_real_acu: 0.60546875, d_fake_acu: 0.5625, d_total_acu: 0.583984375\n",
      "d_real_loss: 0.8590070009231567, d_fake_loss: 0.6959859728813171, g_loss: 0.9655810594558716\n"
     ]
    },
    {
     "data": {
      "application/vnd.jupyter.widget-view+json": {
       "model_id": "51ac6eafc0c24ada995cd4eeb13d54fc",
       "version_major": 2,
       "version_minor": 0
      },
      "text/plain": [
       "Output()"
      ]
     },
     "metadata": {},
     "output_type": "display_data"
    },
    {
     "name": "stdout",
     "output_type": "stream",
     "text": [
      "Epoch: 48, iteration: 8, d_real_acu: 0.30859375, d_fake_acu: 1.0, d_total_acu: 0.654296875\n",
      "d_real_loss: 0.9060159921646118, d_fake_loss: 0.43094712495803833, g_loss: 1.0597171783447266\n"
     ]
    },
    {
     "data": {
      "application/vnd.jupyter.widget-view+json": {
       "model_id": "45fd4674d980466ca64dbc7a5ca989bb",
       "version_major": 2,
       "version_minor": 0
      },
      "text/plain": [
       "Output()"
      ]
     },
     "metadata": {},
     "output_type": "display_data"
    },
    {
     "name": "stdout",
     "output_type": "stream",
     "text": [
      "Epoch: 48, iteration: 12, d_real_acu: 0.2734375, d_fake_acu: 1.0, d_total_acu: 0.63671875\n",
      "d_real_loss: 0.9146126508712769, d_fake_loss: 0.49516212940216064, g_loss: 0.9519832134246826\n"
     ]
    },
    {
     "data": {
      "application/vnd.jupyter.widget-view+json": {
       "model_id": "9bfaa24a1e8b4bd98f6dddfeedd4b282",
       "version_major": 2,
       "version_minor": 0
      },
      "text/plain": [
       "Output()"
      ]
     },
     "metadata": {},
     "output_type": "display_data"
    },
    {
     "name": "stdout",
     "output_type": "stream",
     "text": [
      "Epoch: 48, iteration: 16, d_real_acu: 0.64453125, d_fake_acu: 0.4921875, d_total_acu: 0.568359375\n",
      "d_real_loss: 0.6940215229988098, d_fake_loss: 0.6582484245300293, g_loss: 0.7529916763305664\n"
     ]
    },
    {
     "data": {
      "application/vnd.jupyter.widget-view+json": {
       "model_id": "dfcc51aaea3442bcb60a6e1075db5fd2",
       "version_major": 2,
       "version_minor": 0
      },
      "text/plain": [
       "Output()"
      ]
     },
     "metadata": {},
     "output_type": "display_data"
    },
    {
     "name": "stdout",
     "output_type": "stream",
     "text": [
      "Epoch: 48, iteration: 20, d_real_acu: 0.7705882787704468, d_fake_acu: 0.2235294133424759, d_total_acu: 0.49705883860588074\n",
      "d_real_loss: 0.6156355738639832, d_fake_loss: 0.7133724689483643, g_loss: 0.8027792572975159\n"
     ]
    },
    {
     "data": {
      "application/vnd.jupyter.widget-view+json": {
       "model_id": "6554e66cf65343838e6b5b988977c9d2",
       "version_major": 2,
       "version_minor": 0
      },
      "text/plain": [
       "Output()"
      ]
     },
     "metadata": {},
     "output_type": "display_data"
    },
    {
     "name": "stdout",
     "output_type": "stream",
     "text": [
      "Epoch: 48, d_loss: 1.446754671278454, g_loss: 0.8836332786650885, dacc: 0.6046776530288515\n",
      "Epoch: 49, iteration: 0, d_real_acu: 0.63671875, d_fake_acu: 0.57421875, d_total_acu: 0.60546875\n",
      "d_real_loss: 0.6894320249557495, d_fake_loss: 0.6468217372894287, g_loss: 0.7469635009765625\n"
     ]
    },
    {
     "data": {
      "application/vnd.jupyter.widget-view+json": {
       "model_id": "8b1d8e34e8144fb7b43d4421a8079dfe",
       "version_major": 2,
       "version_minor": 0
      },
      "text/plain": [
       "Output()"
      ]
     },
     "metadata": {},
     "output_type": "display_data"
    },
    {
     "name": "stdout",
     "output_type": "stream",
     "text": [
      "Epoch: 49, iteration: 4, d_real_acu: 0.6875, d_fake_acu: 0.57421875, d_total_acu: 0.630859375\n",
      "d_real_loss: 0.6535311341285706, d_fake_loss: 0.6545485258102417, g_loss: 0.742447018623352\n"
     ]
    },
    {
     "data": {
      "application/vnd.jupyter.widget-view+json": {
       "model_id": "6bf13e5de82a46658ad78a55de4df2d9",
       "version_major": 2,
       "version_minor": 0
      },
      "text/plain": [
       "Output()"
      ]
     },
     "metadata": {},
     "output_type": "display_data"
    },
    {
     "name": "stdout",
     "output_type": "stream",
     "text": [
      "Epoch: 49, iteration: 8, d_real_acu: 0.83984375, d_fake_acu: 0.15234375, d_total_acu: 0.49609375\n",
      "d_real_loss: 0.5266708135604858, d_fake_loss: 0.7402439713478088, g_loss: 0.7170923948287964\n"
     ]
    },
    {
     "data": {
      "application/vnd.jupyter.widget-view+json": {
       "model_id": "a53e58f1ddd74233b9d8c66f4da84880",
       "version_major": 2,
       "version_minor": 0
      },
      "text/plain": [
       "Output()"
      ]
     },
     "metadata": {},
     "output_type": "display_data"
    },
    {
     "name": "stdout",
     "output_type": "stream",
     "text": [
      "Epoch: 49, iteration: 12, d_real_acu: 0.78515625, d_fake_acu: 0.72265625, d_total_acu: 0.75390625\n",
      "d_real_loss: 0.582944393157959, d_fake_loss: 0.670296847820282, g_loss: 0.7185020446777344\n"
     ]
    },
    {
     "data": {
      "application/vnd.jupyter.widget-view+json": {
       "model_id": "b22e1e2c8cb442bfb10428ef2842faff",
       "version_major": 2,
       "version_minor": 0
      },
      "text/plain": [
       "Output()"
      ]
     },
     "metadata": {},
     "output_type": "display_data"
    },
    {
     "name": "stdout",
     "output_type": "stream",
     "text": [
      "Epoch: 49, iteration: 16, d_real_acu: 0.57421875, d_fake_acu: 0.23046875, d_total_acu: 0.40234375\n",
      "d_real_loss: 0.6510553359985352, d_fake_loss: 0.7607672214508057, g_loss: 0.7436473369598389\n"
     ]
    },
    {
     "data": {
      "application/vnd.jupyter.widget-view+json": {
       "model_id": "3bb8d89251a042d49a0d76fcc07da80a",
       "version_major": 2,
       "version_minor": 0
      },
      "text/plain": [
       "Output()"
      ]
     },
     "metadata": {},
     "output_type": "display_data"
    },
    {
     "name": "stdout",
     "output_type": "stream",
     "text": [
      "Epoch: 49, iteration: 20, d_real_acu: 0.6941176652908325, d_fake_acu: 0.42941176891326904, d_total_acu: 0.5617647171020508\n",
      "d_real_loss: 0.6353140473365784, d_fake_loss: 0.7317985892295837, g_loss: 0.742130696773529\n"
     ]
    },
    {
     "data": {
      "application/vnd.jupyter.widget-view+json": {
       "model_id": "cda11082de41422cb4a8553c5edc53d8",
       "version_major": 2,
       "version_minor": 0
      },
      "text/plain": [
       "Output()"
      ]
     },
     "metadata": {},
     "output_type": "display_data"
    },
    {
     "name": "stdout",
     "output_type": "stream",
     "text": [
      "Epoch: 49, d_loss: 1.3323855854216076, g_loss: 0.7364028152965364, dacc: 0.562650998433431\n"
     ]
    }
   ],
   "source": [
    "num_epochs = 50\n",
    "\n",
    "for epoch in range(num_epochs):\n",
    "    d_losses = []\n",
    "    g_losses = []\n",
    "    d_acc = []\n",
    "    for i, batch in enumerate(train_loader):\n",
    "        batch_gpu = batch[\"voxel\"].to(device)\n",
    "\n",
    "#             if batch.size()[0] != int(args.batch_size):\n",
    "#                 #print(\"batch_size != {} drop last incompatible batch\".format(int(args.batch_size)))\n",
    "#                 continue\n",
    "\n",
    "        Z = torch.Tensor(batch_gpu.shape[0], model_params[\"z_size\"]).normal_(0, 0.33).to(device)\n",
    "        real_labels = torch.ones((batch_gpu.shape[0], )).to(device)\n",
    "        fake_labels = torch.zeros((batch_gpu.shape[0], )).to(device)\n",
    "\n",
    "        # ============= Train the discriminator =============#\n",
    "        d_real = D(batch_gpu)\n",
    "#         print(d_real.shape, real_labels.shape)\n",
    "        d_real = torch.squeeze(d_real)\n",
    "        d_real_loss = loss_fn(d_real, real_labels)\n",
    "\n",
    "\n",
    "        fake = G(Z)\n",
    "        d_fake = D(fake)\n",
    "        d_fake = torch.squeeze(d_fake)\n",
    "        d_fake_loss = loss_fn(d_fake, fake_labels)\n",
    "\n",
    "        d_loss = d_real_loss + d_fake_loss\n",
    "        d_losses.append(d_loss.item())\n",
    "\n",
    "        d_real_acu = torch.ge(d_real.squeeze(), 0.5).float()\n",
    "        d_fake_acu = torch.le(d_fake.squeeze(), 0.5).float()\n",
    "        d_total_acu = torch.mean(torch.cat((d_real_acu, d_fake_acu),0))\n",
    "        d_acc.append(d_total_acu.item())\n",
    "\n",
    "        if d_total_acu <= 0.6:\n",
    "            D.zero_grad()\n",
    "            d_loss.backward()\n",
    "            D_optim.step()\n",
    "\n",
    "        # =============== Train the generator ===============#\n",
    "\n",
    "        Z = torch.Tensor(batch_gpu.shape[0], model_params[\"z_size\"]).normal_(0, 0.33).to(device)\n",
    "\n",
    "        fake = G(Z)\n",
    "        d_fake = D(fake)\n",
    "        d_fake = torch.squeeze(d_fake)\n",
    "        g_loss = loss_fn(d_fake, real_labels)\n",
    "        g_losses.append(g_loss.item())\n",
    "\n",
    "        D.zero_grad()\n",
    "        G.zero_grad()\n",
    "        g_loss.backward()\n",
    "        G_optim.step()\n",
    "        if i%4 == 0:\n",
    "            print(f\"Epoch: {epoch}, iteration: {i}, d_real_acu: {torch.mean(d_real_acu)}, d_fake_acu: {torch.mean(d_fake_acu)}, d_total_acu: {d_total_acu}\")\n",
    "            print(f\"d_real_loss: {d_real_loss}, d_fake_loss: {d_fake_loss}, g_loss: {g_loss}\")\n",
    "            visualize_occupancy((fake[0].detach().cpu().numpy().squeeze() > 0.5).astype(int), flip_axes=True)\n",
    "        \n",
    "    \n",
    "    torch.save(G.state_dict(), \"output_models/G_{}\".format(epoch))\n",
    "    torch.save(D.state_dict(), \"output_models/D_{}\".format(epoch))\n",
    "    epoch_dloss = np.mean(np.array(d_losses))\n",
    "    epoch_gloss = np.mean(np.array(g_losses))\n",
    "    epoch_dacc = np.mean(np.array(d_acc))\n",
    "    print(f\"Epoch: {epoch}, d_loss: {epoch_dloss}, g_loss: {epoch_gloss}, dacc: {epoch_dacc}\")\n",
    "    \n"
   ]
  },
  {
   "cell_type": "code",
   "execution_count": 19,
   "id": "cbba0d48",
   "metadata": {
    "scrolled": true
   },
   "outputs": [
    {
     "name": "stdout",
     "output_type": "stream",
     "text": [
      "using cuda\n",
      "Epoch: 0\n",
      "100%|███████████████████████████████████████████| 83/83 [00:28<00:00,  2.89it/s]\n",
      "Epoch: 1\n",
      "100%|███████████████████████████████████████████| 83/83 [00:25<00:00,  3.23it/s]\n",
      "Epoch: 2\n",
      "100%|███████████████████████████████████████████| 83/83 [00:24<00:00,  3.35it/s]\n",
      "Epoch: 3\n",
      "100%|███████████████████████████████████████████| 83/83 [00:25<00:00,  3.19it/s]\n",
      "Epoch: 4\n",
      "100%|███████████████████████████████████████████| 83/83 [00:25<00:00,  3.26it/s]\n",
      "Epoch: 5\n",
      "100%|███████████████████████████████████████████| 83/83 [00:25<00:00,  3.23it/s]\n",
      "Epoch: 6\n",
      "100%|███████████████████████████████████████████| 83/83 [00:25<00:00,  3.27it/s]\n",
      "Epoch: 7\n",
      "100%|███████████████████████████████████████████| 83/83 [00:25<00:00,  3.28it/s]\n",
      "Epoch: 8\n",
      "100%|███████████████████████████████████████████| 83/83 [00:25<00:00,  3.28it/s]\n",
      "Epoch: 9\n",
      "100%|███████████████████████████████████████████| 83/83 [00:25<00:00,  3.26it/s]\n",
      "Epoch: 10\n",
      "100%|███████████████████████████████████████████| 83/83 [00:25<00:00,  3.28it/s]\n",
      "Epoch: 11\n",
      "100%|███████████████████████████████████████████| 83/83 [00:25<00:00,  3.21it/s]\n",
      "Epoch: 12\n",
      "100%|███████████████████████████████████████████| 83/83 [00:25<00:00,  3.28it/s]\n",
      "Epoch: 13\n",
      "100%|███████████████████████████████████████████| 83/83 [00:25<00:00,  3.21it/s]\n",
      "Epoch: 14\n",
      "100%|███████████████████████████████████████████| 83/83 [00:25<00:00,  3.26it/s]\n",
      "Epoch: 15\n",
      "100%|███████████████████████████████████████████| 83/83 [00:25<00:00,  3.27it/s]\n",
      "Epoch: 16\n",
      "100%|███████████████████████████████████████████| 83/83 [00:25<00:00,  3.30it/s]\n",
      "Epoch: 17\n",
      "100%|███████████████████████████████████████████| 83/83 [00:25<00:00,  3.29it/s]\n",
      "Epoch: 18\n",
      "100%|███████████████████████████████████████████| 83/83 [00:25<00:00,  3.31it/s]\n",
      "Epoch: 19\n",
      "100%|███████████████████████████████████████████| 83/83 [00:25<00:00,  3.32it/s]\n",
      "Epoch: 20\n",
      "100%|███████████████████████████████████████████| 83/83 [00:25<00:00,  3.30it/s]\n",
      "Epoch: 21\n",
      "100%|███████████████████████████████████████████| 83/83 [00:25<00:00,  3.31it/s]\n",
      "Epoch: 22\n",
      "100%|███████████████████████████████████████████| 83/83 [00:24<00:00,  3.33it/s]\n",
      "Epoch: 23\n",
      "100%|███████████████████████████████████████████| 83/83 [00:25<00:00,  3.20it/s]\n",
      "Epoch: 24\n",
      "100%|███████████████████████████████████████████| 83/83 [00:24<00:00,  3.37it/s]\n",
      "Epoch: 25\n",
      "100%|███████████████████████████████████████████| 83/83 [00:24<00:00,  3.35it/s]\n",
      "Epoch: 26\n",
      "100%|███████████████████████████████████████████| 83/83 [00:25<00:00,  3.31it/s]\n",
      "Epoch: 27\n",
      "100%|███████████████████████████████████████████| 83/83 [00:24<00:00,  3.33it/s]\n",
      "Epoch: 28\n",
      "100%|███████████████████████████████████████████| 83/83 [00:24<00:00,  3.41it/s]\n",
      "Epoch: 29\n",
      "100%|███████████████████████████████████████████| 83/83 [00:24<00:00,  3.42it/s]\n",
      "Epoch: 30\n",
      "100%|███████████████████████████████████████████| 83/83 [00:24<00:00,  3.45it/s]\n",
      "Epoch: 31\n",
      "100%|███████████████████████████████████████████| 83/83 [00:24<00:00,  3.39it/s]\n",
      "Epoch: 32\n",
      "100%|███████████████████████████████████████████| 83/83 [00:25<00:00,  3.31it/s]\n",
      "Epoch: 33\n",
      "100%|███████████████████████████████████████████| 83/83 [00:24<00:00,  3.43it/s]\n",
      "Epoch: 34\n",
      "100%|███████████████████████████████████████████| 83/83 [00:24<00:00,  3.40it/s]\n",
      "Epoch: 35\n",
      "100%|███████████████████████████████████████████| 83/83 [00:23<00:00,  3.49it/s]\n",
      "Epoch: 36\n",
      "100%|███████████████████████████████████████████| 83/83 [00:24<00:00,  3.39it/s]\n",
      "Epoch: 37\n",
      "100%|███████████████████████████████████████████| 83/83 [00:23<00:00,  3.48it/s]\n",
      "Epoch: 38\n",
      "100%|███████████████████████████████████████████| 83/83 [00:23<00:00,  3.46it/s]\n",
      "Epoch: 39\n",
      "100%|███████████████████████████████████████████| 83/83 [00:24<00:00,  3.41it/s]\n",
      "Epoch: 40\n",
      "100%|███████████████████████████████████████████| 83/83 [00:24<00:00,  3.45it/s]\n",
      "Epoch: 41\n",
      "100%|███████████████████████████████████████████| 83/83 [00:24<00:00,  3.43it/s]\n",
      "Epoch: 42\n",
      "100%|███████████████████████████████████████████| 83/83 [00:24<00:00,  3.44it/s]\n",
      "Epoch: 43\n",
      "100%|███████████████████████████████████████████| 83/83 [00:24<00:00,  3.43it/s]\n",
      "Epoch: 44\n",
      "100%|███████████████████████████████████████████| 83/83 [00:24<00:00,  3.39it/s]\n",
      "Epoch: 45\n",
      "100%|███████████████████████████████████████████| 83/83 [00:24<00:00,  3.42it/s]\n",
      "Epoch: 46\n",
      "100%|███████████████████████████████████████████| 83/83 [00:23<00:00,  3.47it/s]\n",
      "Epoch: 47\n",
      "100%|███████████████████████████████████████████| 83/83 [00:23<00:00,  3.47it/s]\n",
      "Epoch: 48\n",
      "100%|███████████████████████████████████████████| 83/83 [00:24<00:00,  3.36it/s]\n",
      "Epoch: 49\n",
      "100%|███████████████████████████████████████████| 83/83 [00:24<00:00,  3.34it/s]\n",
      "Epoch: 50\n",
      "100%|███████████████████████████████████████████| 83/83 [00:24<00:00,  3.40it/s]\n",
      "Epoch: 51\n",
      "100%|███████████████████████████████████████████| 83/83 [00:23<00:00,  3.55it/s]\n",
      "Epoch: 52\n",
      "100%|███████████████████████████████████████████| 83/83 [00:24<00:00,  3.43it/s]\n",
      "Epoch: 53\n",
      "100%|███████████████████████████████████████████| 83/83 [00:24<00:00,  3.46it/s]\n",
      "Epoch: 54\n",
      "100%|███████████████████████████████████████████| 83/83 [00:24<00:00,  3.42it/s]\n",
      "Epoch: 55\n",
      "100%|███████████████████████████████████████████| 83/83 [00:24<00:00,  3.39it/s]\n",
      "Epoch: 56\n",
      "100%|███████████████████████████████████████████| 83/83 [00:24<00:00,  3.46it/s]\n",
      "Epoch: 57\n",
      "100%|███████████████████████████████████████████| 83/83 [00:24<00:00,  3.35it/s]\n",
      "Epoch: 58\n",
      "100%|███████████████████████████████████████████| 83/83 [00:24<00:00,  3.45it/s]\n",
      "Epoch: 59\n",
      "100%|███████████████████████████████████████████| 83/83 [00:23<00:00,  3.49it/s]\n",
      "Epoch: 60\n",
      "100%|███████████████████████████████████████████| 83/83 [00:23<00:00,  3.51it/s]\n",
      "Epoch: 61\n",
      "100%|███████████████████████████████████████████| 83/83 [00:23<00:00,  3.47it/s]\n",
      "Epoch: 62\n",
      "100%|███████████████████████████████████████████| 83/83 [00:23<00:00,  3.54it/s]\n",
      "Epoch: 63\n",
      "100%|███████████████████████████████████████████| 83/83 [00:23<00:00,  3.48it/s]\n",
      "Epoch: 64\n",
      "100%|███████████████████████████████████████████| 83/83 [00:23<00:00,  3.48it/s]\n",
      "Epoch: 65\n",
      "100%|███████████████████████████████████████████| 83/83 [00:23<00:00,  3.49it/s]\n",
      "Epoch: 66\n",
      "100%|███████████████████████████████████████████| 83/83 [00:23<00:00,  3.53it/s]\n",
      "Epoch: 67\n",
      "100%|███████████████████████████████████████████| 83/83 [00:23<00:00,  3.50it/s]\n",
      "Epoch: 68\n",
      "100%|███████████████████████████████████████████| 83/83 [00:23<00:00,  3.50it/s]\n",
      "Epoch: 69\n",
      "100%|███████████████████████████████████████████| 83/83 [00:23<00:00,  3.51it/s]\n",
      "Epoch: 70\n",
      "100%|███████████████████████████████████████████| 83/83 [00:23<00:00,  3.47it/s]\n",
      "Epoch: 71\n",
      "100%|███████████████████████████████████████████| 83/83 [00:23<00:00,  3.50it/s]\n",
      "Epoch: 72\n",
      "100%|███████████████████████████████████████████| 83/83 [00:23<00:00,  3.57it/s]\n",
      "Epoch: 73\n",
      "100%|███████████████████████████████████████████| 83/83 [00:23<00:00,  3.56it/s]\n",
      "Epoch: 74\n",
      "100%|███████████████████████████████████████████| 83/83 [00:23<00:00,  3.51it/s]\n",
      "Epoch: 75\n",
      "100%|███████████████████████████████████████████| 83/83 [00:23<00:00,  3.47it/s]\n",
      "Epoch: 76\n",
      "100%|███████████████████████████████████████████| 83/83 [00:24<00:00,  3.43it/s]\n",
      "Epoch: 77\n",
      "100%|███████████████████████████████████████████| 83/83 [00:23<00:00,  3.54it/s]\n",
      "Epoch: 78\n",
      "100%|███████████████████████████████████████████| 83/83 [00:23<00:00,  3.54it/s]\n",
      "Epoch: 79\n",
      "100%|███████████████████████████████████████████| 83/83 [00:23<00:00,  3.53it/s]\n",
      "Epoch: 80\n",
      "100%|███████████████████████████████████████████| 83/83 [00:23<00:00,  3.54it/s]\n",
      "Epoch: 81\n",
      "100%|███████████████████████████████████████████| 83/83 [00:24<00:00,  3.45it/s]\n",
      "Epoch: 82\n",
      "100%|███████████████████████████████████████████| 83/83 [00:23<00:00,  3.50it/s]\n",
      "Epoch: 83\n",
      "100%|███████████████████████████████████████████| 83/83 [00:23<00:00,  3.48it/s]\n",
      "Epoch: 84\n",
      "100%|███████████████████████████████████████████| 83/83 [00:23<00:00,  3.53it/s]\n",
      "Epoch: 85\n",
      "100%|███████████████████████████████████████████| 83/83 [00:23<00:00,  3.53it/s]\n",
      "Epoch: 86\n",
      "100%|███████████████████████████████████████████| 83/83 [00:23<00:00,  3.52it/s]\n",
      "Epoch: 87\n",
      "100%|███████████████████████████████████████████| 83/83 [00:23<00:00,  3.56it/s]\n",
      "Epoch: 88\n",
      "100%|███████████████████████████████████████████| 83/83 [00:23<00:00,  3.60it/s]\n",
      "Epoch: 89\n",
      "100%|███████████████████████████████████████████| 83/83 [00:23<00:00,  3.55it/s]\n",
      "Epoch: 90\n"
     ]
    },
    {
     "name": "stdout",
     "output_type": "stream",
     "text": [
      "100%|███████████████████████████████████████████| 83/83 [00:23<00:00,  3.49it/s]\n",
      "Epoch: 91\n",
      "100%|███████████████████████████████████████████| 83/83 [00:23<00:00,  3.49it/s]\n",
      "Epoch: 92\n",
      "100%|███████████████████████████████████████████| 83/83 [00:23<00:00,  3.49it/s]\n",
      "Epoch: 93\n",
      "100%|███████████████████████████████████████████| 83/83 [00:23<00:00,  3.59it/s]\n",
      "Epoch: 94\n",
      "100%|███████████████████████████████████████████| 83/83 [00:23<00:00,  3.58it/s]\n",
      "Epoch: 95\n",
      "100%|███████████████████████████████████████████| 83/83 [00:23<00:00,  3.52it/s]\n",
      "Epoch: 96\n",
      "100%|███████████████████████████████████████████| 83/83 [00:23<00:00,  3.56it/s]\n",
      "Epoch: 97\n",
      "100%|███████████████████████████████████████████| 83/83 [00:23<00:00,  3.54it/s]\n",
      "Epoch: 98\n",
      "100%|███████████████████████████████████████████| 83/83 [00:24<00:00,  3.43it/s]\n",
      "Epoch: 99\n",
      "100%|███████████████████████████████████████████| 83/83 [00:23<00:00,  3.53it/s]\n",
      "Epoch: 100\n",
      "100%|███████████████████████████████████████████| 83/83 [00:23<00:00,  3.55it/s]\n",
      "Epoch: 101\n",
      "100%|███████████████████████████████████████████| 83/83 [00:23<00:00,  3.55it/s]\n",
      "Epoch: 102\n",
      "100%|███████████████████████████████████████████| 83/83 [00:23<00:00,  3.50it/s]\n",
      "Epoch: 103\n",
      "100%|███████████████████████████████████████████| 83/83 [00:23<00:00,  3.60it/s]\n",
      "Epoch: 104\n",
      "100%|███████████████████████████████████████████| 83/83 [00:23<00:00,  3.49it/s]\n",
      "Epoch: 105\n",
      "100%|███████████████████████████████████████████| 83/83 [00:22<00:00,  3.62it/s]\n",
      "Epoch: 106\n",
      "100%|███████████████████████████████████████████| 83/83 [00:22<00:00,  3.62it/s]\n",
      "Epoch: 107\n",
      "100%|███████████████████████████████████████████| 83/83 [00:23<00:00,  3.55it/s]\n",
      "Epoch: 108\n",
      "100%|███████████████████████████████████████████| 83/83 [00:25<00:00,  3.31it/s]\n",
      "Epoch: 109\n",
      "100%|███████████████████████████████████████████| 83/83 [00:23<00:00,  3.51it/s]\n",
      "Epoch: 110\n",
      "100%|███████████████████████████████████████████| 83/83 [00:23<00:00,  3.60it/s]\n",
      "Epoch: 111\n",
      "100%|███████████████████████████████████████████| 83/83 [00:23<00:00,  3.60it/s]\n",
      "Epoch: 112\n",
      "100%|███████████████████████████████████████████| 83/83 [00:23<00:00,  3.48it/s]\n",
      "Epoch: 113\n",
      "100%|███████████████████████████████████████████| 83/83 [00:23<00:00,  3.60it/s]\n",
      "Epoch: 114\n",
      "100%|███████████████████████████████████████████| 83/83 [00:22<00:00,  3.62it/s]\n",
      "Epoch: 115\n",
      "100%|███████████████████████████████████████████| 83/83 [00:22<00:00,  3.66it/s]\n",
      "Epoch: 116\n",
      "100%|███████████████████████████████████████████| 83/83 [00:23<00:00,  3.61it/s]\n",
      "Epoch: 117\n",
      "100%|███████████████████████████████████████████| 83/83 [00:23<00:00,  3.58it/s]\n",
      "Epoch: 118\n",
      "100%|███████████████████████████████████████████| 83/83 [00:23<00:00,  3.54it/s]\n",
      "Epoch: 119\n",
      "100%|███████████████████████████████████████████| 83/83 [00:23<00:00,  3.60it/s]\n",
      "Epoch: 120\n",
      "100%|███████████████████████████████████████████| 83/83 [00:22<00:00,  3.73it/s]\n",
      "Epoch: 121\n",
      "100%|███████████████████████████████████████████| 83/83 [00:22<00:00,  3.72it/s]\n",
      "Epoch: 122\n",
      "100%|███████████████████████████████████████████| 83/83 [00:22<00:00,  3.67it/s]\n",
      "Epoch: 123\n",
      "100%|███████████████████████████████████████████| 83/83 [00:22<00:00,  3.61it/s]\n",
      "Epoch: 124\n",
      "100%|███████████████████████████████████████████| 83/83 [00:23<00:00,  3.47it/s]\n",
      "Epoch: 125\n",
      "100%|███████████████████████████████████████████| 83/83 [00:22<00:00,  3.67it/s]\n",
      "Epoch: 126\n",
      "100%|███████████████████████████████████████████| 83/83 [00:22<00:00,  3.67it/s]\n",
      "Epoch: 127\n",
      "100%|███████████████████████████████████████████| 83/83 [00:22<00:00,  3.68it/s]\n",
      "Epoch: 128\n",
      "100%|███████████████████████████████████████████| 83/83 [00:22<00:00,  3.67it/s]\n",
      "Epoch: 129\n",
      "100%|███████████████████████████████████████████| 83/83 [00:22<00:00,  3.74it/s]\n",
      "Epoch: 130\n",
      "100%|███████████████████████████████████████████| 83/83 [00:22<00:00,  3.62it/s]\n",
      "Epoch: 131\n",
      "100%|███████████████████████████████████████████| 83/83 [00:22<00:00,  3.69it/s]\n",
      "Epoch: 132\n",
      "100%|███████████████████████████████████████████| 83/83 [00:22<00:00,  3.69it/s]\n",
      "Epoch: 133\n",
      "100%|███████████████████████████████████████████| 83/83 [00:22<00:00,  3.63it/s]\n",
      "Epoch: 134\n",
      "100%|███████████████████████████████████████████| 83/83 [00:23<00:00,  3.56it/s]\n",
      "Epoch: 135\n",
      "100%|███████████████████████████████████████████| 83/83 [00:22<00:00,  3.67it/s]\n",
      "Epoch: 136\n",
      "100%|███████████████████████████████████████████| 83/83 [00:22<00:00,  3.68it/s]\n",
      "Epoch: 137\n",
      "100%|███████████████████████████████████████████| 83/83 [00:22<00:00,  3.62it/s]\n",
      "Epoch: 138\n",
      "100%|███████████████████████████████████████████| 83/83 [00:23<00:00,  3.49it/s]\n",
      "Epoch: 139\n",
      "100%|███████████████████████████████████████████| 83/83 [00:22<00:00,  3.69it/s]\n",
      "Epoch: 140\n",
      "100%|███████████████████████████████████████████| 83/83 [00:23<00:00,  3.53it/s]\n",
      "Epoch: 141\n",
      "100%|███████████████████████████████████████████| 83/83 [00:22<00:00,  3.66it/s]\n",
      "Epoch: 142\n",
      "100%|███████████████████████████████████████████| 83/83 [00:22<00:00,  3.67it/s]\n",
      "Epoch: 143\n",
      "100%|███████████████████████████████████████████| 83/83 [00:23<00:00,  3.58it/s]\n",
      "Epoch: 144\n",
      "100%|███████████████████████████████████████████| 83/83 [00:22<00:00,  3.65it/s]\n",
      "Epoch: 145\n",
      "100%|███████████████████████████████████████████| 83/83 [00:22<00:00,  3.72it/s]\n",
      "Epoch: 146\n",
      "100%|███████████████████████████████████████████| 83/83 [00:22<00:00,  3.70it/s]\n",
      "Epoch: 147\n",
      "100%|███████████████████████████████████████████| 83/83 [00:22<00:00,  3.71it/s]\n",
      "Epoch: 148\n",
      "100%|███████████████████████████████████████████| 83/83 [00:23<00:00,  3.61it/s]\n",
      "Epoch: 149\n",
      "100%|███████████████████████████████████████████| 83/83 [00:23<00:00,  3.51it/s]\n",
      "Epoch: 150\n",
      "100%|███████████████████████████████████████████| 83/83 [00:22<00:00,  3.68it/s]\n",
      "Epoch: 151\n",
      "100%|███████████████████████████████████████████| 83/83 [00:22<00:00,  3.70it/s]\n",
      "Epoch: 152\n",
      "100%|███████████████████████████████████████████| 83/83 [00:22<00:00,  3.65it/s]\n",
      "Epoch: 153\n",
      "100%|███████████████████████████████████████████| 83/83 [00:22<00:00,  3.65it/s]\n",
      "Epoch: 154\n",
      "100%|███████████████████████████████████████████| 83/83 [00:22<00:00,  3.69it/s]\n",
      "Epoch: 155\n",
      "100%|███████████████████████████████████████████| 83/83 [00:22<00:00,  3.62it/s]\n",
      "Epoch: 156\n",
      "100%|███████████████████████████████████████████| 83/83 [00:23<00:00,  3.58it/s]\n",
      "Epoch: 157\n",
      "100%|███████████████████████████████████████████| 83/83 [00:22<00:00,  3.68it/s]\n",
      "Epoch: 158\n",
      "100%|███████████████████████████████████████████| 83/83 [00:22<00:00,  3.64it/s]\n",
      "Epoch: 159\n",
      "100%|███████████████████████████████████████████| 83/83 [00:23<00:00,  3.59it/s]\n",
      "Epoch: 160\n",
      "100%|███████████████████████████████████████████| 83/83 [00:22<00:00,  3.63it/s]\n",
      "Epoch: 161\n",
      "100%|███████████████████████████████████████████| 83/83 [00:22<00:00,  3.65it/s]\n",
      "Epoch: 162\n",
      "100%|███████████████████████████████████████████| 83/83 [00:23<00:00,  3.56it/s]\n",
      "Epoch: 163\n",
      "100%|███████████████████████████████████████████| 83/83 [00:22<00:00,  3.64it/s]\n",
      "Epoch: 164\n",
      "100%|███████████████████████████████████████████| 83/83 [00:22<00:00,  3.71it/s]\n",
      "Epoch: 165\n",
      "100%|███████████████████████████████████████████| 83/83 [00:23<00:00,  3.55it/s]\n",
      "Epoch: 166\n",
      "100%|███████████████████████████████████████████| 83/83 [00:22<00:00,  3.65it/s]\n",
      "Epoch: 167\n",
      "100%|███████████████████████████████████████████| 83/83 [00:22<00:00,  3.63it/s]\n",
      "Epoch: 168\n",
      "100%|███████████████████████████████████████████| 83/83 [00:22<00:00,  3.71it/s]\n",
      "Epoch: 169\n",
      "100%|███████████████████████████████████████████| 83/83 [00:23<00:00,  3.60it/s]\n",
      "Epoch: 170\n",
      "100%|███████████████████████████████████████████| 83/83 [00:22<00:00,  3.64it/s]\n",
      "Epoch: 171\n",
      "100%|███████████████████████████████████████████| 83/83 [00:22<00:00,  3.61it/s]\n",
      "Epoch: 172\n",
      "100%|███████████████████████████████████████████| 83/83 [00:22<00:00,  3.62it/s]\n",
      "Epoch: 173\n",
      "100%|███████████████████████████████████████████| 83/83 [00:23<00:00,  3.61it/s]\n",
      "Epoch: 174\n",
      "100%|███████████████████████████████████████████| 83/83 [00:22<00:00,  3.64it/s]\n",
      "Epoch: 175\n",
      "100%|███████████████████████████████████████████| 83/83 [00:22<00:00,  3.65it/s]\n",
      "Epoch: 176\n",
      "100%|███████████████████████████████████████████| 83/83 [00:22<00:00,  3.62it/s]\n",
      "Epoch: 177\n",
      "100%|███████████████████████████████████████████| 83/83 [00:22<00:00,  3.73it/s]\n",
      "Epoch: 178\n",
      "100%|███████████████████████████████████████████| 83/83 [00:22<00:00,  3.63it/s]\n",
      "Epoch: 179\n",
      "100%|███████████████████████████████████████████| 83/83 [00:23<00:00,  3.60it/s]\n",
      "Epoch: 180\n",
      "100%|███████████████████████████████████████████| 83/83 [00:23<00:00,  3.58it/s]\n",
      "Epoch: 181\n",
      "100%|███████████████████████████████████████████| 83/83 [00:22<00:00,  3.65it/s]\n",
      "Epoch: 182\n",
      "100%|███████████████████████████████████████████| 83/83 [00:22<00:00,  3.63it/s]\n",
      "Epoch: 183\n",
      "100%|███████████████████████████████████████████| 83/83 [00:23<00:00,  3.61it/s]\n",
      "Epoch: 184\n",
      "100%|███████████████████████████████████████████| 83/83 [00:23<00:00,  3.61it/s]\n",
      "Epoch: 185\n",
      "100%|███████████████████████████████████████████| 83/83 [00:22<00:00,  3.63it/s]\n",
      "Epoch: 186\n",
      "100%|███████████████████████████████████████████| 83/83 [00:22<00:00,  3.65it/s]\n",
      "Epoch: 187\n",
      "100%|███████████████████████████████████████████| 83/83 [00:22<00:00,  3.63it/s]\n",
      "Epoch: 188\n",
      "100%|███████████████████████████████████████████| 83/83 [00:22<00:00,  3.64it/s]\n",
      "Epoch: 189\n",
      "100%|███████████████████████████████████████████| 83/83 [00:23<00:00,  3.58it/s]\n",
      "Epoch: 190\n",
      "100%|███████████████████████████████████████████| 83/83 [00:23<00:00,  3.59it/s]\n",
      "Epoch: 191\n",
      "100%|███████████████████████████████████████████| 83/83 [00:23<00:00,  3.57it/s]\n",
      "Epoch: 192\n",
      "100%|███████████████████████████████████████████| 83/83 [00:22<00:00,  3.62it/s]\n",
      "Epoch: 193\n",
      "100%|███████████████████████████████████████████| 83/83 [00:22<00:00,  3.62it/s]\n",
      "Epoch: 194\n",
      "100%|███████████████████████████████████████████| 83/83 [00:23<00:00,  3.54it/s]\n",
      "Epoch: 195\n",
      "100%|███████████████████████████████████████████| 83/83 [00:22<00:00,  3.67it/s]\n",
      "Epoch: 196\n",
      "100%|███████████████████████████████████████████| 83/83 [00:22<00:00,  3.62it/s]\n",
      "Epoch: 197\n",
      "100%|███████████████████████████████████████████| 83/83 [00:23<00:00,  3.51it/s]\n",
      "Epoch: 198\n",
      "100%|███████████████████████████████████████████| 83/83 [00:25<00:00,  3.30it/s]\n",
      "Epoch: 199\n",
      "100%|███████████████████████████████████████████| 83/83 [00:22<00:00,  3.61it/s]\n",
      "Epoch: 200\n",
      "100%|███████████████████████████████████████████| 83/83 [00:22<00:00,  3.62it/s]\n",
      "Epoch: 201\n",
      "100%|███████████████████████████████████████████| 83/83 [00:22<00:00,  3.64it/s]\n",
      "Epoch: 202\n",
      "100%|███████████████████████████████████████████| 83/83 [00:24<00:00,  3.44it/s]\n",
      "Epoch: 203\n",
      "100%|███████████████████████████████████████████| 83/83 [00:22<00:00,  3.65it/s]\n",
      "Epoch: 204\n",
      "100%|███████████████████████████████████████████| 83/83 [00:22<00:00,  3.65it/s]\n",
      "Epoch: 205\n",
      "100%|███████████████████████████████████████████| 83/83 [00:22<00:00,  3.68it/s]\n",
      "Epoch: 206\n",
      "100%|███████████████████████████████████████████| 83/83 [00:23<00:00,  3.57it/s]\n",
      "Epoch: 207\n",
      "100%|███████████████████████████████████████████| 83/83 [00:22<00:00,  3.64it/s]\n",
      "Epoch: 208\n",
      "100%|███████████████████████████████████████████| 83/83 [00:22<00:00,  3.63it/s]\n",
      "Epoch: 209\n",
      "100%|███████████████████████████████████████████| 83/83 [00:22<00:00,  3.65it/s]\n",
      "Epoch: 210\n",
      "100%|███████████████████████████████████████████| 83/83 [00:22<00:00,  3.66it/s]\n",
      "Epoch: 211\n",
      "100%|███████████████████████████████████████████| 83/83 [00:22<00:00,  3.67it/s]\n",
      "Epoch: 212\n",
      "100%|███████████████████████████████████████████| 83/83 [00:22<00:00,  3.69it/s]\n",
      "Epoch: 213\n",
      "100%|███████████████████████████████████████████| 83/83 [00:23<00:00,  3.56it/s]\n",
      "Epoch: 214\n",
      "100%|███████████████████████████████████████████| 83/83 [00:23<00:00,  3.54it/s]\n",
      "Epoch: 215\n",
      "100%|███████████████████████████████████████████| 83/83 [00:22<00:00,  3.63it/s]\n",
      "Epoch: 216\n",
      "100%|███████████████████████████████████████████| 83/83 [00:22<00:00,  3.63it/s]\n",
      "Epoch: 217\n",
      "100%|███████████████████████████████████████████| 83/83 [00:22<00:00,  3.66it/s]\n",
      "Epoch: 218\n",
      "100%|███████████████████████████████████████████| 83/83 [00:22<00:00,  3.75it/s]\n",
      "Epoch: 219\n",
      "100%|███████████████████████████████████████████| 83/83 [00:22<00:00,  3.66it/s]\n",
      "Epoch: 220\n",
      "100%|███████████████████████████████████████████| 83/83 [00:22<00:00,  3.68it/s]\n",
      "Epoch: 221\n",
      "100%|███████████████████████████████████████████| 83/83 [00:22<00:00,  3.62it/s]\n",
      "Epoch: 222\n",
      "100%|███████████████████████████████████████████| 83/83 [00:22<00:00,  3.63it/s]\n",
      "Epoch: 223\n",
      "100%|███████████████████████████████████████████| 83/83 [00:23<00:00,  3.58it/s]\n",
      "Epoch: 224\n",
      "100%|███████████████████████████████████████████| 83/83 [00:22<00:00,  3.67it/s]\n",
      "Epoch: 225\n",
      "100%|███████████████████████████████████████████| 83/83 [00:23<00:00,  3.49it/s]\n",
      "Epoch: 226\n",
      "100%|███████████████████████████████████████████| 83/83 [00:23<00:00,  3.59it/s]\n",
      "Epoch: 227\n",
      "100%|███████████████████████████████████████████| 83/83 [00:22<00:00,  3.71it/s]\n",
      "Epoch: 228\n",
      "100%|███████████████████████████████████████████| 83/83 [00:24<00:00,  3.42it/s]\n",
      "Epoch: 229\n",
      "100%|███████████████████████████████████████████| 83/83 [00:22<00:00,  3.68it/s]\n",
      "Epoch: 230\n",
      "100%|███████████████████████████████████████████| 83/83 [00:22<00:00,  3.70it/s]\n",
      "Epoch: 231\n",
      "100%|███████████████████████████████████████████| 83/83 [00:22<00:00,  3.67it/s]\n",
      "Epoch: 232\n",
      "100%|███████████████████████████████████████████| 83/83 [00:22<00:00,  3.64it/s]\n",
      "Epoch: 233\n",
      "100%|███████████████████████████████████████████| 83/83 [00:22<00:00,  3.65it/s]\n",
      "Epoch: 234\n",
      "100%|███████████████████████████████████████████| 83/83 [00:22<00:00,  3.64it/s]\n",
      "Epoch: 235\n",
      "100%|███████████████████████████████████████████| 83/83 [00:22<00:00,  3.65it/s]\n",
      "Epoch: 236\n",
      "100%|███████████████████████████████████████████| 83/83 [00:23<00:00,  3.53it/s]\n",
      "Epoch: 237\n",
      "100%|███████████████████████████████████████████| 83/83 [00:22<00:00,  3.68it/s]\n",
      "Epoch: 238\n",
      "100%|███████████████████████████████████████████| 83/83 [00:22<00:00,  3.75it/s]\n",
      "Epoch: 239\n",
      "100%|███████████████████████████████████████████| 83/83 [00:22<00:00,  3.65it/s]\n",
      "Epoch: 240\n",
      "100%|███████████████████████████████████████████| 83/83 [00:22<00:00,  3.71it/s]\n",
      "Epoch: 241\n",
      "100%|███████████████████████████████████████████| 83/83 [00:22<00:00,  3.70it/s]\n",
      "Epoch: 242\n",
      "100%|███████████████████████████████████████████| 83/83 [00:22<00:00,  3.75it/s]\n",
      "Epoch: 243\n",
      "100%|███████████████████████████████████████████| 83/83 [00:22<00:00,  3.70it/s]\n",
      "Epoch: 244\n",
      "100%|███████████████████████████████████████████| 83/83 [00:22<00:00,  3.72it/s]\n",
      "Epoch: 245\n",
      "100%|███████████████████████████████████████████| 83/83 [00:22<00:00,  3.72it/s]\n",
      "Epoch: 246\n",
      "100%|███████████████████████████████████████████| 83/83 [00:22<00:00,  3.71it/s]\n",
      "Epoch: 247\n",
      "100%|███████████████████████████████████████████| 83/83 [00:22<00:00,  3.70it/s]\n",
      "Epoch: 248\n",
      "100%|███████████████████████████████████████████| 83/83 [00:22<00:00,  3.71it/s]\n",
      "Epoch: 249\n",
      "100%|███████████████████████████████████████████| 83/83 [00:22<00:00,  3.76it/s]\n",
      "Epoch: 250\n",
      "100%|███████████████████████████████████████████| 83/83 [00:22<00:00,  3.72it/s]\n",
      "Epoch: 251\n",
      "100%|███████████████████████████████████████████| 83/83 [00:21<00:00,  3.78it/s]\n",
      "Epoch: 252\n",
      "100%|███████████████████████████████████████████| 83/83 [00:22<00:00,  3.65it/s]\n",
      "Epoch: 253\n",
      "100%|███████████████████████████████████████████| 83/83 [00:22<00:00,  3.61it/s]\n",
      "Epoch: 254\n",
      "100%|███████████████████████████████████████████| 83/83 [00:23<00:00,  3.58it/s]\n",
      "Epoch: 255\n",
      "100%|███████████████████████████████████████████| 83/83 [00:22<00:00,  3.73it/s]\n",
      "Epoch: 256\n",
      "100%|███████████████████████████████████████████| 83/83 [00:23<00:00,  3.61it/s]\n",
      "Epoch: 257\n",
      "100%|███████████████████████████████████████████| 83/83 [00:22<00:00,  3.72it/s]\n",
      "Epoch: 258\n",
      "100%|███████████████████████████████████████████| 83/83 [00:22<00:00,  3.71it/s]\n",
      "Epoch: 259\n",
      "100%|███████████████████████████████████████████| 83/83 [00:22<00:00,  3.68it/s]\n",
      "Epoch: 260\n",
      "100%|███████████████████████████████████████████| 83/83 [00:22<00:00,  3.73it/s]\n",
      "Epoch: 261\n",
      "100%|███████████████████████████████████████████| 83/83 [00:22<00:00,  3.65it/s]\n",
      "Epoch: 262\n",
      "100%|███████████████████████████████████████████| 83/83 [00:22<00:00,  3.68it/s]\n",
      "Epoch: 263\n",
      "100%|███████████████████████████████████████████| 83/83 [00:22<00:00,  3.66it/s]\n",
      "Epoch: 264\n",
      "100%|███████████████████████████████████████████| 83/83 [00:22<00:00,  3.70it/s]\n",
      "Epoch: 265\n",
      "100%|███████████████████████████████████████████| 83/83 [00:22<00:00,  3.76it/s]\n",
      "Epoch: 266\n",
      "100%|███████████████████████████████████████████| 83/83 [00:22<00:00,  3.74it/s]\n",
      "Epoch: 267\n",
      "100%|███████████████████████████████████████████| 83/83 [00:22<00:00,  3.66it/s]\n",
      "Epoch: 268\n"
     ]
    },
    {
     "name": "stdout",
     "output_type": "stream",
     "text": [
      "100%|███████████████████████████████████████████| 83/83 [00:22<00:00,  3.69it/s]\n",
      "Epoch: 269\n",
      "100%|███████████████████████████████████████████| 83/83 [00:22<00:00,  3.65it/s]\n",
      "Epoch: 270\n",
      "100%|███████████████████████████████████████████| 83/83 [00:22<00:00,  3.73it/s]\n",
      "Epoch: 271\n",
      "100%|███████████████████████████████████████████| 83/83 [00:22<00:00,  3.71it/s]\n",
      "Epoch: 272\n",
      "100%|███████████████████████████████████████████| 83/83 [00:22<00:00,  3.68it/s]\n",
      "Epoch: 273\n",
      "100%|███████████████████████████████████████████| 83/83 [00:22<00:00,  3.70it/s]\n",
      "Epoch: 274\n",
      "100%|███████████████████████████████████████████| 83/83 [00:22<00:00,  3.68it/s]\n",
      "Epoch: 275\n",
      "100%|███████████████████████████████████████████| 83/83 [00:22<00:00,  3.75it/s]\n",
      "Epoch: 276\n",
      "100%|███████████████████████████████████████████| 83/83 [00:22<00:00,  3.75it/s]\n",
      "Epoch: 277\n",
      "100%|███████████████████████████████████████████| 83/83 [00:22<00:00,  3.67it/s]\n",
      "Epoch: 278\n",
      "100%|███████████████████████████████████████████| 83/83 [00:22<00:00,  3.71it/s]\n",
      "Epoch: 279\n",
      "100%|███████████████████████████████████████████| 83/83 [00:22<00:00,  3.70it/s]\n",
      "Epoch: 280\n",
      "100%|███████████████████████████████████████████| 83/83 [00:22<00:00,  3.68it/s]\n",
      "Epoch: 281\n",
      "100%|███████████████████████████████████████████| 83/83 [00:23<00:00,  3.56it/s]\n",
      "Epoch: 282\n",
      "100%|███████████████████████████████████████████| 83/83 [00:22<00:00,  3.61it/s]\n",
      "Epoch: 283\n",
      "100%|███████████████████████████████████████████| 83/83 [00:23<00:00,  3.56it/s]\n",
      "Epoch: 284\n",
      "100%|███████████████████████████████████████████| 83/83 [00:23<00:00,  3.60it/s]\n",
      "Epoch: 285\n",
      "100%|███████████████████████████████████████████| 83/83 [00:22<00:00,  3.68it/s]\n",
      "Epoch: 286\n",
      "100%|███████████████████████████████████████████| 83/83 [00:22<00:00,  3.65it/s]\n",
      "Epoch: 287\n",
      "100%|███████████████████████████████████████████| 83/83 [00:23<00:00,  3.56it/s]\n",
      "Epoch: 288\n",
      "100%|███████████████████████████████████████████| 83/83 [00:22<00:00,  3.69it/s]\n",
      "Epoch: 289\n",
      "100%|███████████████████████████████████████████| 83/83 [00:22<00:00,  3.67it/s]\n",
      "Epoch: 290\n",
      "100%|███████████████████████████████████████████| 83/83 [00:22<00:00,  3.70it/s]\n",
      "Epoch: 291\n",
      "100%|███████████████████████████████████████████| 83/83 [00:22<00:00,  3.68it/s]\n",
      "Epoch: 292\n",
      "100%|███████████████████████████████████████████| 83/83 [00:22<00:00,  3.67it/s]\n",
      "Epoch: 293\n",
      "100%|███████████████████████████████████████████| 83/83 [00:22<00:00,  3.64it/s]\n",
      "Epoch: 294\n",
      "100%|███████████████████████████████████████████| 83/83 [00:22<00:00,  3.70it/s]\n",
      "Epoch: 295\n",
      "100%|███████████████████████████████████████████| 83/83 [00:22<00:00,  3.72it/s]\n",
      "Epoch: 296\n",
      "100%|███████████████████████████████████████████| 83/83 [00:22<00:00,  3.65it/s]\n",
      "Epoch: 297\n",
      "100%|███████████████████████████████████████████| 83/83 [00:22<00:00,  3.74it/s]\n",
      "Epoch: 298\n",
      "100%|███████████████████████████████████████████| 83/83 [00:22<00:00,  3.69it/s]\n",
      "Epoch: 299\n",
      "100%|███████████████████████████████████████████| 83/83 [00:24<00:00,  3.45it/s]\n",
      "Epoch: 300\n",
      "100%|███████████████████████████████████████████| 83/83 [00:22<00:00,  3.73it/s]\n",
      "Epoch: 301\n",
      "100%|███████████████████████████████████████████| 83/83 [00:22<00:00,  3.70it/s]\n",
      "Epoch: 302\n",
      "100%|███████████████████████████████████████████| 83/83 [00:23<00:00,  3.61it/s]\n",
      "Epoch: 303\n",
      "100%|███████████████████████████████████████████| 83/83 [00:22<00:00,  3.67it/s]\n",
      "Epoch: 304\n",
      "100%|███████████████████████████████████████████| 83/83 [00:22<00:00,  3.69it/s]\n",
      "Epoch: 305\n",
      "100%|███████████████████████████████████████████| 83/83 [00:22<00:00,  3.74it/s]\n",
      "Epoch: 306\n",
      "100%|███████████████████████████████████████████| 83/83 [00:21<00:00,  3.78it/s]\n",
      "Epoch: 307\n",
      "100%|███████████████████████████████████████████| 83/83 [00:23<00:00,  3.57it/s]\n",
      "Epoch: 308\n",
      "100%|███████████████████████████████████████████| 83/83 [00:22<00:00,  3.70it/s]\n",
      "Epoch: 309\n",
      "100%|███████████████████████████████████████████| 83/83 [00:22<00:00,  3.69it/s]\n",
      "Epoch: 310\n",
      "100%|███████████████████████████████████████████| 83/83 [00:22<00:00,  3.70it/s]\n",
      "Epoch: 311\n",
      "100%|███████████████████████████████████████████| 83/83 [00:23<00:00,  3.53it/s]\n",
      "Epoch: 312\n",
      "100%|███████████████████████████████████████████| 83/83 [00:22<00:00,  3.66it/s]\n",
      "Epoch: 313\n",
      "100%|███████████████████████████████████████████| 83/83 [00:22<00:00,  3.65it/s]\n",
      "Epoch: 314\n",
      "100%|███████████████████████████████████████████| 83/83 [00:23<00:00,  3.60it/s]\n",
      "Epoch: 315\n",
      "100%|███████████████████████████████████████████| 83/83 [00:22<00:00,  3.73it/s]\n",
      "Epoch: 316\n",
      "100%|███████████████████████████████████████████| 83/83 [00:22<00:00,  3.63it/s]\n",
      "Epoch: 317\n",
      "100%|███████████████████████████████████████████| 83/83 [00:22<00:00,  3.68it/s]\n",
      "Epoch: 318\n",
      "100%|███████████████████████████████████████████| 83/83 [00:22<00:00,  3.73it/s]\n",
      "Epoch: 319\n",
      "100%|███████████████████████████████████████████| 83/83 [00:22<00:00,  3.68it/s]\n",
      "Epoch: 320\n",
      "100%|███████████████████████████████████████████| 83/83 [00:22<00:00,  3.71it/s]\n",
      "Epoch: 321\n",
      "100%|███████████████████████████████████████████| 83/83 [00:22<00:00,  3.64it/s]\n",
      "Epoch: 322\n",
      "100%|███████████████████████████████████████████| 83/83 [00:22<00:00,  3.69it/s]\n",
      "Epoch: 323\n",
      "100%|███████████████████████████████████████████| 83/83 [00:22<00:00,  3.71it/s]\n",
      "Epoch: 324\n",
      "100%|███████████████████████████████████████████| 83/83 [00:22<00:00,  3.73it/s]\n",
      "Epoch: 325\n",
      "100%|███████████████████████████████████████████| 83/83 [00:22<00:00,  3.71it/s]\n",
      "Epoch: 326\n",
      "100%|███████████████████████████████████████████| 83/83 [00:22<00:00,  3.73it/s]\n",
      "Epoch: 327\n",
      "100%|███████████████████████████████████████████| 83/83 [00:21<00:00,  3.79it/s]\n",
      "Epoch: 328\n",
      "100%|███████████████████████████████████████████| 83/83 [00:22<00:00,  3.77it/s]\n",
      "Epoch: 329\n",
      "100%|███████████████████████████████████████████| 83/83 [00:22<00:00,  3.69it/s]\n",
      "Epoch: 330\n",
      "100%|███████████████████████████████████████████| 83/83 [00:22<00:00,  3.65it/s]\n",
      "Epoch: 331\n",
      "100%|███████████████████████████████████████████| 83/83 [00:22<00:00,  3.71it/s]\n",
      "Epoch: 332\n",
      "100%|███████████████████████████████████████████| 83/83 [00:22<00:00,  3.74it/s]\n",
      "Epoch: 333\n",
      "100%|███████████████████████████████████████████| 83/83 [00:23<00:00,  3.58it/s]\n",
      "Epoch: 334\n",
      "100%|███████████████████████████████████████████| 83/83 [00:22<00:00,  3.65it/s]\n",
      "Epoch: 335\n",
      "100%|███████████████████████████████████████████| 83/83 [00:22<00:00,  3.73it/s]\n",
      "Epoch: 336\n",
      "100%|███████████████████████████████████████████| 83/83 [00:22<00:00,  3.69it/s]\n",
      "Epoch: 337\n",
      "100%|███████████████████████████████████████████| 83/83 [00:22<00:00,  3.61it/s]\n",
      "Epoch: 342\n",
      "100%|███████████████████████████████████████████| 83/83 [00:22<00:00,  3.73it/s]\n",
      "Epoch: 343\n",
      "100%|███████████████████████████████████████████| 83/83 [00:22<00:00,  3.73it/s]\n",
      "Epoch: 344\n",
      "100%|███████████████████████████████████████████| 83/83 [00:22<00:00,  3.71it/s]\n",
      "Epoch: 345\n",
      "100%|███████████████████████████████████████████| 83/83 [00:22<00:00,  3.75it/s]\n",
      "Epoch: 346\n",
      "100%|███████████████████████████████████████████| 83/83 [00:22<00:00,  3.69it/s]\n",
      "Epoch: 347\n",
      "100%|███████████████████████████████████████████| 83/83 [00:22<00:00,  3.71it/s]\n",
      "Epoch: 348\n",
      "100%|███████████████████████████████████████████| 83/83 [00:22<00:00,  3.68it/s]\n",
      "Epoch: 349\n",
      "100%|███████████████████████████████████████████| 83/83 [00:22<00:00,  3.71it/s]\n",
      "Epoch: 350\n",
      "100%|███████████████████████████████████████████| 83/83 [00:23<00:00,  3.61it/s]\n",
      "Epoch: 351\n",
      "100%|███████████████████████████████████████████| 83/83 [00:23<00:00,  3.56it/s]\n",
      "Epoch: 352\n",
      "100%|███████████████████████████████████████████| 83/83 [00:22<00:00,  3.68it/s]\n",
      "Epoch: 353\n",
      "100%|███████████████████████████████████████████| 83/83 [00:22<00:00,  3.67it/s]\n",
      "Epoch: 354\n",
      "100%|███████████████████████████████████████████| 83/83 [00:22<00:00,  3.72it/s]\n",
      "Epoch: 355\n",
      "100%|███████████████████████████████████████████| 83/83 [00:22<00:00,  3.63it/s]\n",
      "Epoch: 356\n",
      "100%|███████████████████████████████████████████| 83/83 [00:22<00:00,  3.70it/s]\n",
      "Epoch: 357\n",
      "100%|███████████████████████████████████████████| 83/83 [00:22<00:00,  3.74it/s]\n",
      "Epoch: 358\n",
      "100%|███████████████████████████████████████████| 83/83 [00:22<00:00,  3.69it/s]\n",
      "Epoch: 359\n",
      "100%|███████████████████████████████████████████| 83/83 [00:22<00:00,  3.71it/s]\n",
      "Epoch: 360\n",
      "100%|███████████████████████████████████████████| 83/83 [00:22<00:00,  3.71it/s]\n",
      "Epoch: 361\n",
      "100%|███████████████████████████████████████████| 83/83 [00:22<00:00,  3.71it/s]\n",
      "Epoch: 362\n",
      "100%|███████████████████████████████████████████| 83/83 [00:22<00:00,  3.76it/s]\n",
      "Epoch: 363\n",
      "100%|███████████████████████████████████████████| 83/83 [00:21<00:00,  3.78it/s]\n",
      "Epoch: 364\n",
      "100%|███████████████████████████████████████████| 83/83 [00:22<00:00,  3.71it/s]\n",
      "Epoch: 365\n",
      "100%|███████████████████████████████████████████| 83/83 [00:21<00:00,  3.78it/s]\n",
      "Epoch: 366\n",
      "100%|███████████████████████████████████████████| 83/83 [00:22<00:00,  3.72it/s]\n",
      "Epoch: 367\n",
      "100%|███████████████████████████████████████████| 83/83 [00:22<00:00,  3.75it/s]\n",
      "Epoch: 368\n",
      "100%|███████████████████████████████████████████| 83/83 [00:21<00:00,  3.78it/s]\n",
      "Epoch: 369\n",
      "100%|███████████████████████████████████████████| 83/83 [00:22<00:00,  3.75it/s]\n",
      "Epoch: 370\n",
      "100%|███████████████████████████████████████████| 83/83 [00:22<00:00,  3.69it/s]\n",
      "Epoch: 371\n",
      "100%|███████████████████████████████████████████| 83/83 [00:22<00:00,  3.75it/s]\n",
      "Epoch: 372\n",
      "100%|███████████████████████████████████████████| 83/83 [00:22<00:00,  3.72it/s]\n",
      "Epoch: 373\n",
      "100%|███████████████████████████████████████████| 83/83 [00:23<00:00,  3.58it/s]\n",
      "Epoch: 374\n",
      "100%|███████████████████████████████████████████| 83/83 [00:21<00:00,  3.80it/s]\n",
      "Epoch: 375\n",
      "100%|███████████████████████████████████████████| 83/83 [00:22<00:00,  3.72it/s]\n",
      "Epoch: 376\n",
      "100%|███████████████████████████████████████████| 83/83 [00:22<00:00,  3.74it/s]\n",
      "Epoch: 377\n",
      " 46%|███████████████████▋                       | 38/83 [00:10<00:13,  3.32it/s]"
     ]
    },
    {
     "name": "stderr",
     "output_type": "stream",
     "text": [
      "IOPub message rate exceeded.\n",
      "The notebook server will temporarily stop sending output\n",
      "to the client in order to avoid crashing it.\n",
      "To change this limit, set the config variable\n",
      "`--NotebookApp.iopub_msg_rate_limit`.\n",
      "\n",
      "Current values:\n",
      "NotebookApp.iopub_msg_rate_limit=1000.0 (msgs/sec)\n",
      "NotebookApp.rate_limit_window=3.0 (secs)\n",
      "\n"
     ]
    },
    {
     "name": "stdout",
     "output_type": "stream",
     "text": [
      "100%|███████████████████████████████████████████| 83/83 [00:23<00:00,  3.59it/s]\n",
      "Epoch: 494\n",
      "100%|███████████████████████████████████████████| 83/83 [00:22<00:00,  3.77it/s]\n",
      "Epoch: 495\n",
      "100%|███████████████████████████████████████████| 83/83 [00:22<00:00,  3.72it/s]\n",
      "Epoch: 496\n",
      "100%|███████████████████████████████████████████| 83/83 [00:22<00:00,  3.73it/s]\n",
      "Epoch: 497\n",
      "100%|███████████████████████████████████████████| 83/83 [00:21<00:00,  3.78it/s]\n",
      "Epoch: 498\n",
      "100%|███████████████████████████████████████████| 83/83 [00:21<00:00,  3.81it/s]\n",
      "Epoch: 499\n",
      "100%|███████████████████████████████████████████| 83/83 [00:21<00:00,  3.80it/s]\n"
     ]
    }
   ],
   "source": [
    "!python train.py"
   ]
  },
  {
   "cell_type": "code",
   "execution_count": null,
   "id": "90a92fa0",
   "metadata": {},
   "outputs": [],
   "source": []
  }
 ],
 "metadata": {
  "kernelspec": {
   "display_name": "Python 3 (ipykernel)",
   "language": "python",
   "name": "python3"
  },
  "language_info": {
   "codemirror_mode": {
    "name": "ipython",
    "version": 3
   },
   "file_extension": ".py",
   "mimetype": "text/x-python",
   "name": "python",
   "nbconvert_exporter": "python",
   "pygments_lexer": "ipython3",
   "version": "3.7.0"
  }
 },
 "nbformat": 4,
 "nbformat_minor": 5
}
